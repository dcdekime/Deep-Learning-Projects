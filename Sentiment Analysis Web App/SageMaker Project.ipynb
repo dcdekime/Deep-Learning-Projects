{
 "cells": [
  {
   "cell_type": "markdown",
   "metadata": {},
   "source": [
    "# Creating a Sentiment Analysis Web App\n",
    "## Using PyTorch and SageMaker\n",
    "\n",
    "_Deep Learning Nanodegree Program | Deployment_\n",
    "\n",
    "---\n",
    "\n",
    "Now that we have a basic understanding of how SageMaker works we will try to use it to construct a complete project from end to end. Our goal will be to have a simple web page which a user can use to enter a movie review. The web page will then send the review off to our deployed model which will predict the sentiment of the entered review.\n",
    "\n",
    "## Instructions\n",
    "\n",
    "Some template code has already been provided for you, and you will need to implement additional functionality to successfully complete this notebook. You will not need to modify the included code beyond what is requested. Sections that begin with '**TODO**' in the header indicate that you need to complete or implement some portion within them. Instructions will be provided for each section and the specifics of the implementation are marked in the code block with a `# TODO: ...` comment. Please be sure to read the instructions carefully!\n",
    "\n",
    "In addition to implementing code, there will be questions for you to answer which relate to the task and your implementation. Each section where you will answer a question is preceded by a '**Question:**' header. Carefully read each question and provide your answer below the '**Answer:**' header by editing the Markdown cell.\n",
    "\n",
    "> **Note**: Code and Markdown cells can be executed using the **Shift+Enter** keyboard shortcut. In addition, a cell can be edited by typically clicking it (double-click for Markdown cells) or by pressing **Enter** while it is highlighted.\n",
    "\n",
    "## General Outline\n",
    "\n",
    "Recall the general outline for SageMaker projects using a notebook instance.\n",
    "\n",
    "1. Download or otherwise retrieve the data.\n",
    "2. Process / Prepare the data.\n",
    "3. Upload the processed data to S3.\n",
    "4. Train a chosen model.\n",
    "5. Test the trained model (typically using a batch transform job).\n",
    "6. Deploy the trained model.\n",
    "7. Use the deployed model.\n",
    "\n",
    "For this project, you will be following the steps in the general outline with some modifications. \n",
    "\n",
    "First, you will not be testing the model in its own step. You will still be testing the model, however, you will do it by deploying your model and then using the deployed model by sending the test data to it. One of the reasons for doing this is so that you can make sure that your deployed model is working correctly before moving forward.\n",
    "\n",
    "In addition, you will deploy and use your trained model a second time. In the second iteration you will customize the way that your trained model is deployed by including some of your own code. In addition, your newly deployed model will be used in the sentiment analysis web app."
   ]
  },
  {
   "cell_type": "code",
   "execution_count": 1,
   "metadata": {},
   "outputs": [
    {
     "name": "stdout",
     "output_type": "stream",
     "text": [
      "Requirement already satisfied: sagemaker==1.72.0 in /home/ec2-user/anaconda3/envs/pytorch_p36/lib/python3.6/site-packages (1.72.0)\n",
      "Requirement already satisfied: boto3>=1.14.12 in /home/ec2-user/anaconda3/envs/pytorch_p36/lib/python3.6/site-packages (from sagemaker==1.72.0) (1.17.76)\n",
      "Requirement already satisfied: protobuf3-to-dict>=0.1.5 in /home/ec2-user/anaconda3/envs/pytorch_p36/lib/python3.6/site-packages (from sagemaker==1.72.0) (0.1.5)\n",
      "Requirement already satisfied: importlib-metadata>=1.4.0 in /home/ec2-user/anaconda3/envs/pytorch_p36/lib/python3.6/site-packages (from sagemaker==1.72.0) (3.7.0)\n",
      "Requirement already satisfied: packaging>=20.0 in /home/ec2-user/anaconda3/envs/pytorch_p36/lib/python3.6/site-packages (from sagemaker==1.72.0) (20.9)\n",
      "Requirement already satisfied: numpy>=1.9.0 in /home/ec2-user/anaconda3/envs/pytorch_p36/lib/python3.6/site-packages (from sagemaker==1.72.0) (1.19.5)\n",
      "Requirement already satisfied: smdebug-rulesconfig==0.1.4 in /home/ec2-user/anaconda3/envs/pytorch_p36/lib/python3.6/site-packages (from sagemaker==1.72.0) (0.1.4)\n",
      "Requirement already satisfied: protobuf>=3.1 in /home/ec2-user/anaconda3/envs/pytorch_p36/lib/python3.6/site-packages (from sagemaker==1.72.0) (3.15.2)\n",
      "Requirement already satisfied: scipy>=0.19.0 in /home/ec2-user/anaconda3/envs/pytorch_p36/lib/python3.6/site-packages (from sagemaker==1.72.0) (1.5.3)\n",
      "Requirement already satisfied: jmespath<1.0.0,>=0.7.1 in /home/ec2-user/anaconda3/envs/pytorch_p36/lib/python3.6/site-packages (from boto3>=1.14.12->sagemaker==1.72.0) (0.10.0)\n",
      "Requirement already satisfied: s3transfer<0.5.0,>=0.4.0 in /home/ec2-user/anaconda3/envs/pytorch_p36/lib/python3.6/site-packages (from boto3>=1.14.12->sagemaker==1.72.0) (0.4.2)\n",
      "Requirement already satisfied: botocore<1.21.0,>=1.20.76 in /home/ec2-user/anaconda3/envs/pytorch_p36/lib/python3.6/site-packages (from boto3>=1.14.12->sagemaker==1.72.0) (1.20.76)\n",
      "Requirement already satisfied: urllib3<1.27,>=1.25.4 in /home/ec2-user/anaconda3/envs/pytorch_p36/lib/python3.6/site-packages (from botocore<1.21.0,>=1.20.76->boto3>=1.14.12->sagemaker==1.72.0) (1.26.4)\n",
      "Requirement already satisfied: python-dateutil<3.0.0,>=2.1 in /home/ec2-user/anaconda3/envs/pytorch_p36/lib/python3.6/site-packages (from botocore<1.21.0,>=1.20.76->boto3>=1.14.12->sagemaker==1.72.0) (2.8.1)\n",
      "Requirement already satisfied: typing-extensions>=3.6.4 in /home/ec2-user/anaconda3/envs/pytorch_p36/lib/python3.6/site-packages (from importlib-metadata>=1.4.0->sagemaker==1.72.0) (3.7.4.3)\n",
      "Requirement already satisfied: zipp>=0.5 in /home/ec2-user/anaconda3/envs/pytorch_p36/lib/python3.6/site-packages (from importlib-metadata>=1.4.0->sagemaker==1.72.0) (3.4.0)\n",
      "Requirement already satisfied: pyparsing>=2.0.2 in /home/ec2-user/anaconda3/envs/pytorch_p36/lib/python3.6/site-packages (from packaging>=20.0->sagemaker==1.72.0) (2.4.7)\n",
      "Requirement already satisfied: six>=1.9 in /home/ec2-user/anaconda3/envs/pytorch_p36/lib/python3.6/site-packages (from protobuf>=3.1->sagemaker==1.72.0) (1.15.0)\n"
     ]
    }
   ],
   "source": [
    "# Make sure that we use SageMaker 1.x\n",
    "!pip install sagemaker==1.72.0"
   ]
  },
  {
   "cell_type": "markdown",
   "metadata": {},
   "source": [
    "## Step 1: Downloading the data\n",
    "\n",
    "As in the XGBoost in SageMaker notebook, we will be using the [IMDb dataset](http://ai.stanford.edu/~amaas/data/sentiment/)\n",
    "\n",
    "> Maas, Andrew L., et al. [Learning Word Vectors for Sentiment Analysis](http://ai.stanford.edu/~amaas/data/sentiment/). In _Proceedings of the 49th Annual Meeting of the Association for Computational Linguistics: Human Language Technologies_. Association for Computational Linguistics, 2011."
   ]
  },
  {
   "cell_type": "code",
   "execution_count": 2,
   "metadata": {},
   "outputs": [
    {
     "name": "stdout",
     "output_type": "stream",
     "text": [
      "mkdir: cannot create directory ‘../data’: File exists\n",
      "--2021-06-22 14:56:51--  http://ai.stanford.edu/~amaas/data/sentiment/aclImdb_v1.tar.gz\n",
      "Resolving ai.stanford.edu (ai.stanford.edu)... 171.64.68.10\n",
      "Connecting to ai.stanford.edu (ai.stanford.edu)|171.64.68.10|:80... connected.\n",
      "HTTP request sent, awaiting response... 200 OK\n",
      "Length: 84125825 (80M) [application/x-gzip]\n",
      "Saving to: ‘../data/aclImdb_v1.tar.gz’\n",
      "\n",
      "../data/aclImdb_v1. 100%[===================>]  80.23M  24.9MB/s    in 3.7s    \n",
      "\n",
      "2021-06-22 14:56:54 (21.8 MB/s) - ‘../data/aclImdb_v1.tar.gz’ saved [84125825/84125825]\n",
      "\n"
     ]
    }
   ],
   "source": [
    "%mkdir ../data\n",
    "!wget -O ../data/aclImdb_v1.tar.gz http://ai.stanford.edu/~amaas/data/sentiment/aclImdb_v1.tar.gz\n",
    "!tar -zxf ../data/aclImdb_v1.tar.gz -C ../data"
   ]
  },
  {
   "cell_type": "markdown",
   "metadata": {},
   "source": [
    "## Step 2: Preparing and Processing the data\n",
    "\n",
    "Also, as in the XGBoost notebook, we will be doing some initial data processing. The first few steps are the same as in the XGBoost example. To begin with, we will read in each of the reviews and combine them into a single input structure. Then, we will split the dataset into a training set and a testing set."
   ]
  },
  {
   "cell_type": "code",
   "execution_count": 3,
   "metadata": {},
   "outputs": [],
   "source": [
    "import os\n",
    "import glob\n",
    "\n",
    "def read_imdb_data(data_dir='../data/aclImdb'):\n",
    "    data = {}\n",
    "    labels = {}\n",
    "    \n",
    "    for data_type in ['train', 'test']:\n",
    "        data[data_type] = {}\n",
    "        labels[data_type] = {}\n",
    "        \n",
    "        for sentiment in ['pos', 'neg']:\n",
    "            data[data_type][sentiment] = []\n",
    "            labels[data_type][sentiment] = []\n",
    "            \n",
    "            path = os.path.join(data_dir, data_type, sentiment, '*.txt')\n",
    "            files = glob.glob(path)\n",
    "            \n",
    "            for f in files:\n",
    "                with open(f) as review:\n",
    "                    data[data_type][sentiment].append(review.read())\n",
    "                    # Here we represent a positive review by '1' and a negative review by '0'\n",
    "                    labels[data_type][sentiment].append(1 if sentiment == 'pos' else 0)\n",
    "                    \n",
    "            assert len(data[data_type][sentiment]) == len(labels[data_type][sentiment]), \\\n",
    "                    \"{}/{} data size does not match labels size\".format(data_type, sentiment)\n",
    "                \n",
    "    return data, labels"
   ]
  },
  {
   "cell_type": "code",
   "execution_count": 4,
   "metadata": {},
   "outputs": [
    {
     "name": "stdout",
     "output_type": "stream",
     "text": [
      "IMDB reviews: train = 12500 pos / 12500 neg, test = 12500 pos / 12500 neg\n"
     ]
    }
   ],
   "source": [
    "data, labels = read_imdb_data()\n",
    "print(\"IMDB reviews: train = {} pos / {} neg, test = {} pos / {} neg\".format(\n",
    "            len(data['train']['pos']), len(data['train']['neg']),\n",
    "            len(data['test']['pos']), len(data['test']['neg'])))"
   ]
  },
  {
   "cell_type": "markdown",
   "metadata": {},
   "source": [
    "Now that we've read the raw training and testing data from the downloaded dataset, we will combine the positive and negative reviews and shuffle the resulting records."
   ]
  },
  {
   "cell_type": "code",
   "execution_count": 5,
   "metadata": {},
   "outputs": [],
   "source": [
    "from sklearn.utils import shuffle\n",
    "\n",
    "def prepare_imdb_data(data, labels):\n",
    "    \"\"\"Prepare training and test sets from IMDb movie reviews.\"\"\"\n",
    "    \n",
    "    #Combine positive and negative reviews and labels\n",
    "    data_train = data['train']['pos'] + data['train']['neg']\n",
    "    data_test = data['test']['pos'] + data['test']['neg']\n",
    "    labels_train = labels['train']['pos'] + labels['train']['neg']\n",
    "    labels_test = labels['test']['pos'] + labels['test']['neg']\n",
    "    \n",
    "    #Shuffle reviews and corresponding labels within training and test sets\n",
    "    data_train, labels_train = shuffle(data_train, labels_train)\n",
    "    data_test, labels_test = shuffle(data_test, labels_test)\n",
    "    \n",
    "    # Return a unified training data, test data, training labels, test labets\n",
    "    return data_train, data_test, labels_train, labels_test"
   ]
  },
  {
   "cell_type": "code",
   "execution_count": 6,
   "metadata": {},
   "outputs": [
    {
     "name": "stdout",
     "output_type": "stream",
     "text": [
      "IMDb reviews (combined): train = 25000, test = 25000\n"
     ]
    }
   ],
   "source": [
    "train_X, test_X, train_y, test_y = prepare_imdb_data(data, labels)\n",
    "print(\"IMDb reviews (combined): train = {}, test = {}\".format(len(train_X), len(test_X)))"
   ]
  },
  {
   "cell_type": "markdown",
   "metadata": {},
   "source": [
    "Now that we have our training and testing sets unified and prepared, we should do a quick check and see an example of the data our model will be trained on. This is generally a good idea as it allows you to see how each of the further processing steps affects the reviews and it also ensures that the data has been loaded correctly."
   ]
  },
  {
   "cell_type": "code",
   "execution_count": 7,
   "metadata": {},
   "outputs": [
    {
     "name": "stdout",
     "output_type": "stream",
     "text": [
      "I firmly believe that the best Oscar ceremony in recent years was in 2003 for two reasons: <br /><br />1 ) Host Steve Martin was at his most wittiest: \" I saw the teamsters help Michael Moore into the trunk of his limo \" and \" I'll better not mention the gay mafia in case I wake up with a poodle's head in my bed \" <br /><br />2 ) Surprise winners: No one had Adrien Brody down for best actor ( Genuine applause ) or Roman Polanski for best director ( Genuine jeers and boos ) but they won <br /><br />Last year's award ceremony wasn't too bad but there was little in the way of surprises and I was happy to see RETURN OF THE KING sweep the awards even if it wasn't the best in the trilogy ( FELLOWSHIP was much better )but what let the BBC coverage down was Jonathan Ross getting a few of his sycophantic mates round and pretending they were hilarious when they were anything but . So when I heard Sky were doing the coverage for British TV I was expecting Barry Norman and Mark Kermode to be doing the links , but instead we ended up with Jamie Theakston and Sharon Osbourne ! Oh gawd if British TV are desperate for film critics ( Obviously they are ) I'm sure both Bob The Moo and Theo Robertson will happily fly over to LA to give their honest opinions on the winners and losers <br /><br />Chris Rock wasn't too bad , but he's no Steve Martin while the location seemed to resemble a sports hall with seats put in ! Not much of a glitzy arena in my opinion . The main problem I had with the ceremony was the format with the \" minor \" Oscars handed out to the winners who were sitting in their seats ! There's no such thing as a \" minor \" Oscar and just because the award is for Best Animated Short or Best Costume Design they're as well deserved as Best Picture or Best Director . All the winners should be allowed to march up to the podium . What a bunch of arrogant snobs the Academy are becoming and I quite agree with the comments that this format is disgraceful and if it wasn't for the surprises this could possibly have been the worst ceremony in history . As for the awards themselves <br /><br />Best Supporting Actress - Cate Blanchett . No great surprise for a competitive category <br /><br />Best Supporting Actor - Morgan Freeman . No real complaints since Freeman is one of America's greatest living character actors <br /><br />Best Actor - Jamie Foxx . Most predictable award of the night . Yawn <br /><br />Best Actress - Hilary Swank . Major surprise since everyone thought Annette Benning was going to win simply down to academy politics but Swank did deserve it and gave the best speech of the night <br /><br />Best Director - Clint Eastwood . Major surprise since everyone thought Scorsese was going to get the award simply because he'd never won one . Actually I'm glad about this because if he didn't deserve it for TAXI DRIVER , RAGING BULL or GOODFELLAS he didn't deserve it for THE AVIATOR <br /><br />Best Film - MILLION DOLLAR BABY . Again another major surprise since everyone thought the academy would split the awards for best director and best picture while I thought the Hollywood friendly plot of THE AVIATOR would have made it a dead cert for Best Picture while MDB's controversial subject matter would have turned a lot of voters off <br /><br />What these awards perhaps illustrate is that this year the voters have decided to ignore Oscar politics and genuinely give out awards to people who deserve it something they haven't done in the past , I mean A BEAUTIFUL MIND beating THE FELLOWSHIP OF THE RING for gawd's sake ! And long may the academy vote with their heads instead of their hearts\n",
      "0\n"
     ]
    }
   ],
   "source": [
    "print(train_X[100])\n",
    "print(train_y[100])"
   ]
  },
  {
   "cell_type": "markdown",
   "metadata": {},
   "source": [
    "The first step in processing the reviews is to make sure that any html tags that appear should be removed. In addition we wish to tokenize our input, that way words such as *entertained* and *entertaining* are considered the same with regard to sentiment analysis."
   ]
  },
  {
   "cell_type": "code",
   "execution_count": 8,
   "metadata": {},
   "outputs": [],
   "source": [
    "import nltk\n",
    "from nltk.corpus import stopwords\n",
    "from nltk.stem.porter import *\n",
    "\n",
    "import re\n",
    "from bs4 import BeautifulSoup\n",
    "\n",
    "def review_to_words(review):\n",
    "    nltk.download(\"stopwords\", quiet=True)\n",
    "    stemmer = PorterStemmer()\n",
    "    \n",
    "    text = BeautifulSoup(review, \"html.parser\").get_text() # Remove HTML tags\n",
    "    text = re.sub(r\"[^a-zA-Z0-9]\", \" \", text.lower()) # Convert to lower case\n",
    "    words = text.split() # Split string into words\n",
    "    words = [w for w in words if w not in stopwords.words(\"english\")] # Remove stopwords\n",
    "    words = [PorterStemmer().stem(w) for w in words] # stem\n",
    "    \n",
    "    return words"
   ]
  },
  {
   "cell_type": "markdown",
   "metadata": {},
   "source": [
    "The `review_to_words` method defined above uses `BeautifulSoup` to remove any html tags that appear and uses the `nltk` package to tokenize the reviews. As a check to ensure we know how everything is working, try applying `review_to_words` to one of the reviews in the training set."
   ]
  },
  {
   "cell_type": "code",
   "execution_count": 9,
   "metadata": {},
   "outputs": [
    {
     "data": {
      "text/plain": [
       "['quit',\n",
       " 'know',\n",
       " 'explain',\n",
       " 'darkend',\n",
       " 'room',\n",
       " 'summar',\n",
       " 'realli',\n",
       " 'justic',\n",
       " 'quintessenti',\n",
       " 'lynchian',\n",
       " 'short',\n",
       " 'film',\n",
       " 'two',\n",
       " 'beauti',\n",
       " 'girl',\n",
       " 'strang',\n",
       " 'mysteri',\n",
       " 'situat',\n",
       " 'would',\n",
       " 'say',\n",
       " 'short',\n",
       " 'definit',\n",
       " 'mulholland',\n",
       " 'drive',\n",
       " 'end',\n",
       " 'lynchian',\n",
       " 'spectrum',\n",
       " 'oppos',\n",
       " 'eleph',\n",
       " 'man',\n",
       " 'straight',\n",
       " 'stori',\n",
       " 'hidden',\n",
       " 'lynch',\n",
       " 'websit',\n",
       " 'well',\n",
       " 'worth',\n",
       " 'search']"
      ]
     },
     "execution_count": 9,
     "metadata": {},
     "output_type": "execute_result"
    }
   ],
   "source": [
    "# TODO: Apply review_to_words to a review (train_X[100] or any other review)\n",
    "review_to_words(train_X[0])"
   ]
  },
  {
   "cell_type": "markdown",
   "metadata": {},
   "source": [
    "**Question:** Above we mentioned that `review_to_words` method removes html formatting and allows us to tokenize the words found in a review, for example, converting *entertained* and *entertaining* into *entertain* so that they are treated as though they are the same word. What else, if anything, does this method do to the input?"
   ]
  },
  {
   "cell_type": "markdown",
   "metadata": {},
   "source": [
    "**Answer:**\n",
    "\n",
    "This method also converts all of the characters in each word to lowercase so that there is no bias towards words that are capitalized versus words that aren't. This helps create more useful, consistent outputs."
   ]
  },
  {
   "cell_type": "markdown",
   "metadata": {},
   "source": [
    "The method below applies the `review_to_words` method to each of the reviews in the training and testing datasets. In addition it caches the results. This is because performing this processing step can take a long time. This way if you are unable to complete the notebook in the current session, you can come back without needing to process the data a second time."
   ]
  },
  {
   "cell_type": "code",
   "execution_count": 10,
   "metadata": {},
   "outputs": [],
   "source": [
    "import pickle\n",
    "\n",
    "cache_dir = os.path.join(\"../cache\", \"sentiment_analysis\")  # where to store cache files\n",
    "os.makedirs(cache_dir, exist_ok=True)  # ensure cache directory exists\n",
    "\n",
    "def preprocess_data(data_train, data_test, labels_train, labels_test,\n",
    "                    cache_dir=cache_dir, cache_file=\"preprocessed_data.pkl\"):\n",
    "    \"\"\"Convert each review to words; read from cache if available.\"\"\"\n",
    "\n",
    "    # If cache_file is not None, try to read from it first\n",
    "    cache_data = None\n",
    "    if cache_file is not None:\n",
    "        try:\n",
    "            with open(os.path.join(cache_dir, cache_file), \"rb\") as f:\n",
    "                cache_data = pickle.load(f)\n",
    "            print(\"Read preprocessed data from cache file:\", cache_file)\n",
    "        except:\n",
    "            pass  # unable to read from cache, but that's okay\n",
    "    \n",
    "    # If cache is missing, then do the heavy lifting\n",
    "    if cache_data is None:\n",
    "        # Preprocess training and test data to obtain words for each review\n",
    "        #words_train = list(map(review_to_words, data_train))\n",
    "        #words_test = list(map(review_to_words, data_test))\n",
    "        words_train = [review_to_words(review) for review in data_train]\n",
    "        words_test = [review_to_words(review) for review in data_test]\n",
    "        \n",
    "        # Write to cache file for future runs\n",
    "        if cache_file is not None:\n",
    "            cache_data = dict(words_train=words_train, words_test=words_test,\n",
    "                              labels_train=labels_train, labels_test=labels_test)\n",
    "            with open(os.path.join(cache_dir, cache_file), \"wb\") as f:\n",
    "                pickle.dump(cache_data, f)\n",
    "            print(\"Wrote preprocessed data to cache file:\", cache_file)\n",
    "    else:\n",
    "        # Unpack data loaded from cache file\n",
    "        words_train, words_test, labels_train, labels_test = (cache_data['words_train'],\n",
    "                cache_data['words_test'], cache_data['labels_train'], cache_data['labels_test'])\n",
    "    \n",
    "    return words_train, words_test, labels_train, labels_test"
   ]
  },
  {
   "cell_type": "code",
   "execution_count": 11,
   "metadata": {},
   "outputs": [
    {
     "name": "stdout",
     "output_type": "stream",
     "text": [
      "Read preprocessed data from cache file: preprocessed_data.pkl\n"
     ]
    }
   ],
   "source": [
    "# Preprocess data\n",
    "train_X, test_X, train_y, test_y = preprocess_data(train_X, test_X, train_y, test_y)"
   ]
  },
  {
   "cell_type": "markdown",
   "metadata": {},
   "source": [
    "## Transform the data\n",
    "\n",
    "In the XGBoost notebook we transformed the data from its word representation to a bag-of-words feature representation. For the model we are going to construct in this notebook we will construct a feature representation which is very similar. To start, we will represent each word as an integer. Of course, some of the words that appear in the reviews occur very infrequently and so likely don't contain much information for the purposes of sentiment analysis. The way we will deal with this problem is that we will fix the size of our working vocabulary and we will only include the words that appear most frequently. We will then combine all of the infrequent words into a single category and, in our case, we will label it as `1`.\n",
    "\n",
    "Since we will be using a recurrent neural network, it will be convenient if the length of each review is the same. To do this, we will fix a size for our reviews and then pad short reviews with the category 'no word' (which we will label `0`) and truncate long reviews."
   ]
  },
  {
   "cell_type": "markdown",
   "metadata": {},
   "source": [
    "### (TODO) Create a word dictionary\n",
    "\n",
    "To begin with, we need to construct a way to map words that appear in the reviews to integers. Here we fix the size of our vocabulary (including the 'no word' and 'infrequent' categories) to be `5000` but you may wish to change this to see how it affects the model.\n",
    "\n",
    "> **TODO:** Complete the implementation for the `build_dict()` method below. Note that even though the vocab_size is set to `5000`, we only want to construct a mapping for the most frequently appearing `4998` words. This is because we want to reserve the special labels `0` for 'no word' and `1` for 'infrequent word'."
   ]
  },
  {
   "cell_type": "code",
   "execution_count": 12,
   "metadata": {},
   "outputs": [],
   "source": [
    "import numpy as np\n",
    "from collections import Counter\n",
    "\n",
    "\n",
    "def build_dict(data, vocab_size = 5000):\n",
    "    \"\"\"Construct and return a dictionary mapping each of the most frequently appearing words to a unique integer.\"\"\"\n",
    "    \n",
    "    # TODO: Determine how often each word appears in `data`. Note that `data` is a list of sentences and that a\n",
    "    #       sentence is a list of words.\n",
    "    \n",
    "    # A dict storing the words that appear in the reviews along with how often they occur\n",
    "    word_count = Counter(word for reviewSentence in data for word in reviewSentence)\n",
    "\n",
    "    \n",
    "    # TODO: Sort the words found in `data` so that sorted_words[0] is the most frequently appearing word and\n",
    "    #       sorted_words[-1] is the least frequently appearing word.\n",
    "    \n",
    "    sorted_words = sorted(word_count, key=word_count.get, reverse=True)\n",
    "    \n",
    "    word_dict = {} # This is what we are building, a dictionary that translates words into integers\n",
    "    for idx, word in enumerate(sorted_words[:vocab_size - 2]): # The -2 is so that we save room for the 'no word'\n",
    "        word_dict[word] = idx + 2                              # 'infrequent' labels\n",
    "        \n",
    "    return word_dict"
   ]
  },
  {
   "cell_type": "code",
   "execution_count": 13,
   "metadata": {},
   "outputs": [
    {
     "name": "stdout",
     "output_type": "stream",
     "text": [
      "{'movi': 2, 'film': 3, 'one': 4, 'like': 5, 'time': 6, 'good': 7, 'make': 8, 'charact': 9, 'get': 10, 'see': 11, 'watch': 12, 'stori': 13, 'even': 14, 'would': 15, 'realli': 16, 'well': 17, 'scene': 18, 'look': 19, 'show': 20, 'much': 21, 'end': 22, 'peopl': 23, 'bad': 24, 'go': 25, 'great': 26, 'also': 27, 'first': 28, 'love': 29, 'think': 30, 'way': 31, 'act': 32, 'play': 33, 'made': 34, 'thing': 35, 'could': 36, 'know': 37, 'say': 38, 'seem': 39, 'work': 40, 'plot': 41, 'two': 42, 'actor': 43, 'year': 44, 'come': 45, 'mani': 46, 'seen': 47, 'take': 48, 'life': 49, 'want': 50, 'never': 51, 'littl': 52, 'best': 53, 'tri': 54, 'man': 55, 'ever': 56, 'give': 57, 'better': 58, 'still': 59, 'perform': 60, 'find': 61, 'feel': 62, 'part': 63, 'back': 64, 'use': 65, 'someth': 66, 'director': 67, 'actual': 68, 'interest': 69, 'lot': 70, 'real': 71, 'old': 72, 'cast': 73, 'though': 74, 'live': 75, 'star': 76, 'enjoy': 77, 'guy': 78, 'anoth': 79, 'new': 80, 'role': 81, 'noth': 82, '10': 83, 'funni': 84, 'music': 85, 'point': 86, 'start': 87, 'set': 88, 'girl': 89, 'origin': 90, 'day': 91, 'world': 92, 'everi': 93, 'believ': 94, 'turn': 95, 'quit': 96, 'direct': 97, 'us': 98, 'thought': 99, 'fact': 100, 'minut': 101, 'horror': 102, 'kill': 103, 'action': 104, 'comedi': 105, 'pretti': 106, 'young': 107, 'wonder': 108, 'happen': 109, 'around': 110, 'got': 111, 'effect': 112, 'right': 113, 'long': 114, 'howev': 115, 'big': 116, 'line': 117, 'famili': 118, 'enough': 119, 'seri': 120, 'may': 121, 'need': 122, 'fan': 123, 'bit': 124, 'script': 125, 'beauti': 126, 'person': 127, 'becom': 128, 'without': 129, 'must': 130, 'alway': 131, 'friend': 132, 'tell': 133, 'reason': 134, 'saw': 135, 'last': 136, 'final': 137, 'kid': 138, 'almost': 139, 'put': 140, 'least': 141, 'sure': 142, 'done': 143, 'whole': 144, 'place': 145, 'complet': 146, 'kind': 147, 'expect': 148, 'differ': 149, 'shot': 150, 'far': 151, 'mean': 152, 'anyth': 153, 'book': 154, 'laugh': 155, 'might': 156, 'name': 157, 'sinc': 158, 'begin': 159, '2': 160, 'probabl': 161, 'woman': 162, 'help': 163, 'entertain': 164, 'let': 165, 'screen': 166, 'call': 167, 'tv': 168, 'moment': 169, 'away': 170, 'read': 171, 'yet': 172, 'rather': 173, 'worst': 174, 'run': 175, 'fun': 176, 'lead': 177, 'hard': 178, 'audienc': 179, 'idea': 180, 'anyon': 181, 'episod': 182, 'american': 183, 'found': 184, 'appear': 185, 'bore': 186, 'especi': 187, 'although': 188, 'hope': 189, 'cours': 190, 'keep': 191, 'anim': 192, 'job': 193, 'goe': 194, 'move': 195, 'sens': 196, 'version': 197, 'dvd': 198, 'war': 199, 'money': 200, 'someon': 201, 'mind': 202, 'mayb': 203, 'problem': 204, 'true': 205, 'hous': 206, 'everyth': 207, 'nice': 208, 'second': 209, 'rate': 210, 'three': 211, 'night': 212, 'follow': 213, 'face': 214, 'recommend': 215, 'main': 216, 'product': 217, 'worth': 218, 'leav': 219, 'human': 220, 'special': 221, 'excel': 222, 'togeth': 223, 'wast': 224, 'everyon': 225, 'sound': 226, 'john': 227, 'hand': 228, '1': 229, 'father': 230, 'later': 231, 'eye': 232, 'said': 233, 'view': 234, 'instead': 235, 'review': 236, 'boy': 237, 'high': 238, 'hour': 239, 'miss': 240, 'classic': 241, 'talk': 242, 'wife': 243, 'understand': 244, 'left': 245, 'care': 246, 'black': 247, 'death': 248, 'open': 249, 'murder': 250, 'write': 251, 'half': 252, 'head': 253, 'rememb': 254, 'chang': 255, 'viewer': 256, 'fight': 257, 'gener': 258, 'surpris': 259, 'includ': 260, 'short': 261, 'die': 262, 'fall': 263, 'less': 264, 'els': 265, 'entir': 266, 'piec': 267, 'involv': 268, 'pictur': 269, 'simpli': 270, 'power': 271, 'top': 272, 'home': 273, 'total': 274, 'usual': 275, 'budget': 276, 'attempt': 277, 'suppos': 278, 'releas': 279, 'hollywood': 280, 'terribl': 281, 'song': 282, 'men': 283, 'possibl': 284, 'featur': 285, 'portray': 286, 'disappoint': 287, 'poor': 288, '3': 289, 'coupl': 290, 'stupid': 291, 'camera': 292, 'dead': 293, 'wrong': 294, 'low': 295, 'produc': 296, 'video': 297, 'either': 298, 'aw': 299, 'definit': 300, 'except': 301, 'rest': 302, 'given': 303, 'absolut': 304, 'women': 305, 'lack': 306, 'word': 307, 'writer': 308, 'titl': 309, 'talent': 310, 'decid': 311, 'full': 312, 'perfect': 313, 'along': 314, 'style': 315, 'close': 316, 'truli': 317, 'school': 318, 'save': 319, 'emot': 320, 'age': 321, 'sex': 322, 'next': 323, 'bring': 324, 'mr': 325, 'case': 326, 'killer': 327, 'heart': 328, 'comment': 329, 'sort': 330, 'creat': 331, 'perhap': 332, 'came': 333, 'brother': 334, 'sever': 335, 'joke': 336, 'art': 337, 'dialogu': 338, 'game': 339, 'small': 340, 'base': 341, 'flick': 342, 'written': 343, 'sequenc': 344, 'meet': 345, 'earli': 346, 'often': 347, 'other': 348, 'mother': 349, 'develop': 350, 'humor': 351, 'actress': 352, 'consid': 353, 'dark': 354, 'guess': 355, 'amaz': 356, 'unfortun': 357, 'light': 358, 'lost': 359, 'exampl': 360, 'cinema': 361, 'drama': 362, 'white': 363, 'ye': 364, 'experi': 365, 'imagin': 366, 'mention': 367, 'stop': 368, 'natur': 369, 'forc': 370, 'manag': 371, 'felt': 372, 'present': 373, 'cut': 374, 'children': 375, 'fail': 376, 'son': 377, 'qualiti': 378, 'car': 379, 'support': 380, 'ask': 381, 'hit': 382, 'side': 383, 'voic': 384, 'extrem': 385, 'impress': 386, 'wors': 387, 'evil': 388, 'went': 389, 'stand': 390, 'certainli': 391, 'basic': 392, 'oh': 393, 'overal': 394, 'favorit': 395, 'horribl': 396, 'mysteri': 397, 'number': 398, 'type': 399, 'danc': 400, 'wait': 401, 'hero': 402, 'alreadi': 403, '5': 404, 'learn': 405, 'matter': 406, '4': 407, 'michael': 408, 'genr': 409, 'fine': 410, 'despit': 411, 'throughout': 412, 'walk': 413, 'success': 414, 'histori': 415, 'question': 416, 'zombi': 417, 'town': 418, 'realiz': 419, 'relationship': 420, 'past': 421, 'child': 422, 'daughter': 423, 'late': 424, 'b': 425, 'wish': 426, 'credit': 427, 'hate': 428, 'event': 429, 'theme': 430, 'touch': 431, 'citi': 432, 'today': 433, 'sometim': 434, 'behind': 435, 'god': 436, 'twist': 437, 'sit': 438, 'deal': 439, 'annoy': 440, 'stay': 441, 'abl': 442, 'rent': 443, 'pleas': 444, 'edit': 445, 'blood': 446, 'deserv': 447, 'anyway': 448, 'comic': 449, 'appar': 450, 'soon': 451, 'gave': 452, 'etc': 453, 'level': 454, 'slow': 455, 'chanc': 456, 'score': 457, 'bodi': 458, 'brilliant': 459, 'incred': 460, 'figur': 461, 'situat': 462, 'self': 463, 'major': 464, 'stuff': 465, 'decent': 466, 'element': 467, 'return': 468, 'dream': 469, 'obvious': 470, 'order': 471, 'continu': 472, 'pace': 473, 'ridicul': 474, 'happi': 475, 'add': 476, 'group': 477, 'highli': 478, 'thank': 479, 'ladi': 480, 'novel': 481, 'speak': 482, 'pain': 483, 'career': 484, 'shoot': 485, 'strang': 486, 'heard': 487, 'sad': 488, 'polic': 489, 'husband': 490, 'import': 491, 'break': 492, 'took': 493, 'strong': 494, 'cannot': 495, 'predict': 496, 'robert': 497, 'violenc': 498, 'hilari': 499, 'recent': 500, 'countri': 501, 'known': 502, 'particularli': 503, 'pick': 504, 'documentari': 505, 'season': 506, 'critic': 507, 'jame': 508, 'compar': 509, 'alon': 510, 'obviou': 511, 'told': 512, 'state': 513, 'rock': 514, 'visual': 515, 'offer': 516, 'theater': 517, 'exist': 518, 'opinion': 519, 'gore': 520, 'crap': 521, 'hold': 522, 'result': 523, 'realiti': 524, 'room': 525, 'hear': 526, 'clich': 527, 'effort': 528, 'thriller': 529, 'caus': 530, 'sequel': 531, 'serious': 532, 'explain': 533, 'king': 534, 'local': 535, 'ago': 536, 'hell': 537, 'none': 538, 'note': 539, 'allow': 540, 'sister': 541, 'david': 542, 'simpl': 543, 'femal': 544, 'deliv': 545, 'ok': 546, 'convinc': 547, 'class': 548, 'check': 549, 'suspens': 550, 'win': 551, 'buy': 552, 'oscar': 553, 'huge': 554, 'valu': 555, 'sexual': 556, 'scari': 557, 'cool': 558, 'excit': 559, 'similar': 560, 'apart': 561, 'provid': 562, 'exactli': 563, 'avoid': 564, 'shown': 565, 'seriou': 566, 'english': 567, 'whose': 568, 'taken': 569, 'cinematographi': 570, 'shock': 571, 'polit': 572, 'spoiler': 573, 'offic': 574, 'across': 575, 'middl': 576, 'street': 577, 'pass': 578, 'messag': 579, 'charm': 580, 'somewhat': 581, 'silli': 582, 'modern': 583, 'filmmak': 584, 'confus': 585, 'form': 586, 'tale': 587, 'singl': 588, 'jack': 589, 'mostli': 590, 'attent': 591, 'william': 592, 'carri': 593, 'sing': 594, 'subject': 595, 'five': 596, 'richard': 597, 'prove': 598, 'stage': 599, 'team': 600, 'unlik': 601, 'cop': 602, 'georg': 603, 'televis': 604, 'monster': 605, 'earth': 606, 'cover': 607, 'villain': 608, 'pay': 609, 'marri': 610, 'toward': 611, 'build': 612, 'parent': 613, 'pull': 614, 'due': 615, 'respect': 616, 'fill': 617, 'dialog': 618, 'four': 619, 'remind': 620, 'futur': 621, 'typic': 622, 'weak': 623, '7': 624, 'cheap': 625, 'intellig': 626, 'atmospher': 627, 'british': 628, '80': 629, 'clearli': 630, 'paul': 631, 'dog': 632, 'non': 633, '8': 634, 'artist': 635, 'fast': 636, 'knew': 637, 'crime': 638, 'easili': 639, 'escap': 640, 'adult': 641, 'doubt': 642, 'detail': 643, 'date': 644, 'member': 645, 'romant': 646, 'fire': 647, 'drive': 648, 'gun': 649, 'straight': 650, 'fit': 651, 'beyond': 652, 'attack': 653, 'imag': 654, 'upon': 655, 'posit': 656, 'whether': 657, 'fantast': 658, 'peter': 659, 'captur': 660, 'aspect': 661, 'appreci': 662, 'ten': 663, 'plan': 664, 'discov': 665, 'remain': 666, 'near': 667, 'period': 668, 'air': 669, 'realist': 670, 'mark': 671, 'red': 672, 'dull': 673, 'adapt': 674, 'within': 675, 'spend': 676, 'lose': 677, 'color': 678, 'materi': 679, 'chase': 680, 'mari': 681, 'storylin': 682, 'forget': 683, 'bunch': 684, 'clear': 685, 'lee': 686, 'victim': 687, 'nearli': 688, 'box': 689, 'york': 690, 'inspir': 691, 'match': 692, 'finish': 693, 'mess': 694, 'standard': 695, 'easi': 696, 'truth': 697, 'busi': 698, 'suffer': 699, 'dramat': 700, 'space': 701, 'bill': 702, 'western': 703, 'e': 704, 'list': 705, 'battl': 706, 'notic': 707, 'de': 708, 'french': 709, 'ad': 710, '9': 711, 'tom': 712, 'larg': 713, 'among': 714, 'eventu': 715, 'train': 716, 'accept': 717, 'agre': 718, 'soundtrack': 719, 'spirit': 720, 'third': 721, 'teenag': 722, 'soldier': 723, 'adventur': 724, 'drug': 725, 'sorri': 726, 'suggest': 727, 'famou': 728, 'cri': 729, 'babi': 730, 'normal': 731, 'ultim': 732, 'troubl': 733, 'contain': 734, 'certain': 735, 'cultur': 736, 'romanc': 737, 'rare': 738, 'lame': 739, 'somehow': 740, 'mix': 741, 'disney': 742, 'gone': 743, 'cartoon': 744, 'student': 745, 'reveal': 746, 'fear': 747, 'suck': 748, 'kept': 749, 'attract': 750, 'appeal': 751, 'premis': 752, 'design': 753, 'greatest': 754, 'secret': 755, 'shame': 756, 'throw': 757, 'copi': 758, 'scare': 759, 'wit': 760, 'admit': 761, 'america': 762, 'relat': 763, 'brought': 764, 'particular': 765, 'screenplay': 766, 'whatev': 767, 'pure': 768, '70': 769, 'averag': 770, 'harri': 771, 'master': 772, 'describ': 773, 'male': 774, 'treat': 775, '20': 776, 'issu': 777, 'fantasi': 778, 'warn': 779, 'inde': 780, 'background': 781, 'forward': 782, 'project': 783, 'free': 784, 'memor': 785, 'japanes': 786, 'poorli': 787, 'award': 788, 'locat': 789, 'potenti': 790, 'amus': 791, 'struggl': 792, 'weird': 793, 'magic': 794, 'societi': 795, 'okay': 796, 'imdb': 797, 'doctor': 798, 'accent': 799, 'water': 800, 'hot': 801, 'express': 802, '30': 803, 'alien': 804, 'dr': 805, 'odd': 806, 'crazi': 807, 'choic': 808, 'fiction': 809, 'studio': 810, 'control': 811, 'becam': 812, 'masterpiec': 813, 'fli': 814, 'difficult': 815, 'joe': 816, 'scream': 817, 'costum': 818, 'lover': 819, 'refer': 820, 'uniqu': 821, 'remak': 822, 'girlfriend': 823, 'vampir': 824, 'prison': 825, 'execut': 826, 'wear': 827, 'jump': 828, 'unless': 829, 'wood': 830, 'creepi': 831, 'cheesi': 832, 'superb': 833, 'otherwis': 834, 'parti': 835, 'roll': 836, 'ghost': 837, 'mad': 838, 'public': 839, 'depict': 840, 'moral': 841, 'earlier': 842, 'week': 843, 'badli': 844, 'jane': 845, 'dumb': 846, 'fi': 847, 'flaw': 848, 'grow': 849, 'deep': 850, 'sci': 851, 'maker': 852, 'cat': 853, 'older': 854, 'connect': 855, 'footag': 856, 'plenti': 857, 'bother': 858, 'outsid': 859, 'stick': 860, 'gay': 861, 'catch': 862, 'plu': 863, 'co': 864, 'popular': 865, 'equal': 866, 'social': 867, 'disturb': 868, 'quickli': 869, 'perfectli': 870, 'dress': 871, 'era': 872, '90': 873, 'mistak': 874, 'lie': 875, 'previou': 876, 'ride': 877, 'combin': 878, 'band': 879, 'concept': 880, 'answer': 881, 'rich': 882, 'surviv': 883, 'front': 884, 'sweet': 885, 'christma': 886, 'insid': 887, 'bare': 888, 'eat': 889, 'concern': 890, 'ben': 891, 'listen': 892, 'beat': 893, 'c': 894, 'serv': 895, 'term': 896, 'la': 897, 'meant': 898, 'german': 899, 'hardli': 900, 'stereotyp': 901, 'law': 902, 'innoc': 903, 'desper': 904, 'promis': 905, 'memori': 906, 'cute': 907, 'intent': 908, 'steal': 909, 'variou': 910, 'inform': 911, 'brain': 912, 'post': 913, 'tone': 914, 'island': 915, 'amount': 916, 'track': 917, 'compani': 918, 'nuditi': 919, 'claim': 920, 'store': 921, 'hair': 922, 'flat': 923, '50': 924, 'land': 925, 'univers': 926, 'kick': 927, 'fairli': 928, 'danger': 929, 'scott': 930, 'player': 931, 'crew': 932, 'plain': 933, 'step': 934, 'toni': 935, 'share': 936, 'centuri': 937, 'tast': 938, 'engag': 939, 'achiev': 940, 'travel': 941, 'cold': 942, 'record': 943, 'suit': 944, 'rip': 945, 'sadli': 946, 'manner': 947, 'tension': 948, 'wrote': 949, 'spot': 950, 'intens': 951, 'fascin': 952, 'familiar': 953, 'burn': 954, 'remark': 955, 'depth': 956, 'histor': 957, 'destroy': 958, 'sleep': 959, 'purpos': 960, 'languag': 961, 'ruin': 962, 'ignor': 963, 'delight': 964, 'unbeliev': 965, 'italian': 966, 'collect': 967, 'abil': 968, 'soul': 969, 'clever': 970, 'detect': 971, 'violent': 972, 'rape': 973, 'reach': 974, 'door': 975, 'liter': 976, 'trash': 977, 'scienc': 978, 'commun': 979, 'reveng': 980, 'caught': 981, 'creatur': 982, 'approach': 983, 'trip': 984, 'fashion': 985, 'intrigu': 986, 'skill': 987, 'introduc': 988, 'paint': 989, 'complex': 990, 'channel': 991, 'camp': 992, 'christian': 993, 'extra': 994, 'hole': 995, 'limit': 996, 'immedi': 997, 'mental': 998, 'ann': 999, 'million': 1000, '6': 1001, 'slightli': 1002, 'comput': 1003, 'mere': 1004, 'conclus': 1005, 'slasher': 1006, 'suddenli': 1007, 'imposs': 1008, 'teen': 1009, 'crimin': 1010, 'neither': 1011, 'spent': 1012, 'nation': 1013, 'physic': 1014, 'respons': 1015, 'planet': 1016, 'receiv': 1017, 'fake': 1018, 'sick': 1019, 'blue': 1020, 'bizarr': 1021, 'embarrass': 1022, 'indian': 1023, 'ring': 1024, '15': 1025, 'drop': 1026, 'pop': 1027, 'drag': 1028, 'haunt': 1029, 'pointless': 1030, 'suspect': 1031, 'edg': 1032, 'search': 1033, 'handl': 1034, 'biggest': 1035, 'common': 1036, 'arriv': 1037, 'hurt': 1038, 'faith': 1039, 'technic': 1040, 'angel': 1041, 'dad': 1042, 'genuin': 1043, 'awesom': 1044, 'f': 1045, 'solid': 1046, 'focu': 1047, 'former': 1048, 'colleg': 1049, 'van': 1050, 'count': 1051, 'tear': 1052, 'heavi': 1053, 'rais': 1054, 'wall': 1055, 'laughabl': 1056, 'visit': 1057, 'younger': 1058, 'sign': 1059, 'fair': 1060, 'excus': 1061, 'cult': 1062, 'key': 1063, 'motion': 1064, 'tough': 1065, 'desir': 1066, 'super': 1067, 'addit': 1068, 'stun': 1069, 'exploit': 1070, 'cloth': 1071, 'smith': 1072, 'tortur': 1073, 'race': 1074, 'davi': 1075, 'author': 1076, 'cross': 1077, 'jim': 1078, 'compel': 1079, 'focus': 1080, 'minor': 1081, 'consist': 1082, 'pathet': 1083, 'chemistri': 1084, 'commit': 1085, 'park': 1086, 'obsess': 1087, 'tradit': 1088, 'frank': 1089, 'grade': 1090, '60': 1091, 'asid': 1092, 'brutal': 1093, 'somewher': 1094, 'steve': 1095, 'explor': 1096, 'u': 1097, 'grant': 1098, 'depress': 1099, 'rule': 1100, 'opportun': 1101, 'honest': 1102, 'besid': 1103, 'dub': 1104, 'anti': 1105, 'intend': 1106, 'trailer': 1107, 'bar': 1108, 'west': 1109, 'scientist': 1110, 'longer': 1111, 'regard': 1112, 'judg': 1113, 'decad': 1114, 'silent': 1115, 'armi': 1116, 'creativ': 1117, 'wild': 1118, 'g': 1119, 'stewart': 1120, 'south': 1121, 'draw': 1122, 'road': 1123, 'govern': 1124, 'ex': 1125, 'boss': 1126, 'practic': 1127, 'gang': 1128, 'club': 1129, 'motiv': 1130, 'surprisingli': 1131, 'festiv': 1132, 'redeem': 1133, 'page': 1134, 'green': 1135, 'london': 1136, 'aliv': 1137, 'militari': 1138, 'display': 1139, 'machin': 1140, 'idiot': 1141, 'thrill': 1142, 'repeat': 1143, 'yeah': 1144, 'nobodi': 1145, 'folk': 1146, '100': 1147, '40': 1148, 'journey': 1149, 'garbag': 1150, 'tire': 1151, 'ground': 1152, 'smile': 1153, 'mood': 1154, 'bought': 1155, 'cost': 1156, 'sam': 1157, 'stone': 1158, 'noir': 1159, 'mouth': 1160, 'agent': 1161, 'terrif': 1162, 'requir': 1163, 'utterli': 1164, 'area': 1165, 'sexi': 1166, 'honestli': 1167, 'geniu': 1168, 'report': 1169, 'humour': 1170, 'enter': 1171, 'glad': 1172, 'investig': 1173, 'serial': 1174, 'occasion': 1175, 'narr': 1176, 'passion': 1177, 'climax': 1178, 'marriag': 1179, 'industri': 1180, 'studi': 1181, 'nowher': 1182, 'ship': 1183, 'demon': 1184, 'charli': 1185, 'center': 1186, 'hors': 1187, 'loos': 1188, 'bear': 1189, 'wow': 1190, 'hang': 1191, 'graphic': 1192, 'admir': 1193, 'giant': 1194, 'send': 1195, 'loud': 1196, 'damn': 1197, 'nake': 1198, 'subtl': 1199, 'profession': 1200, 'rel': 1201, 'blow': 1202, 'bottom': 1203, 'insult': 1204, 'batman': 1205, 'doubl': 1206, 'kelli': 1207, 'boyfriend': 1208, 'r': 1209, 'initi': 1210, 'frame': 1211, 'gem': 1212, 'opera': 1213, 'cinemat': 1214, 'affect': 1215, 'drawn': 1216, 'church': 1217, 'challeng': 1218, 'fulli': 1219, 'nightmar': 1220, 'seek': 1221, 'l': 1222, 'evid': 1223, 'j': 1224, 'essenti': 1225, 'arm': 1226, 'conflict': 1227, 'christoph': 1228, 'grace': 1229, 'wind': 1230, 'henri': 1231, 'assum': 1232, 'narrat': 1233, 'witch': 1234, 'push': 1235, 'hunt': 1236, 'chri': 1237, 'wise': 1238, 'repres': 1239, 'month': 1240, 'nomin': 1241, 'hide': 1242, 'avail': 1243, 'sceneri': 1244, 'affair': 1245, 'thu': 1246, 'smart': 1247, 'justic': 1248, 'bond': 1249, 'interview': 1250, 'outstand': 1251, 'flashback': 1252, 'constantli': 1253, 'satisfi': 1254, 'presenc': 1255, 'central': 1256, 'bed': 1257, 'content': 1258, 'sell': 1259, 'iron': 1260, 'everybodi': 1261, 'gag': 1262, 'slowli': 1263, 'hotel': 1264, 'hire': 1265, 'system': 1266, 'adam': 1267, 'hey': 1268, 'thrown': 1269, 'individu': 1270, 'charl': 1271, 'mediocr': 1272, 'jone': 1273, 'allen': 1274, 'lesson': 1275, 'billi': 1276, 'ray': 1277, 'cameo': 1278, 'photographi': 1279, 'pari': 1280, 'fellow': 1281, 'strike': 1282, 'independ': 1283, 'absurd': 1284, 'rise': 1285, 'brief': 1286, 'neg': 1287, 'phone': 1288, 'impact': 1289, 'model': 1290, 'ill': 1291, 'born': 1292, 'fresh': 1293, 'spoil': 1294, 'angl': 1295, 'likabl': 1296, 'abus': 1297, 'hill': 1298, 'discuss': 1299, 'sight': 1300, 'ahead': 1301, 'photograph': 1302, 'sent': 1303, 'blame': 1304, 'shine': 1305, 'logic': 1306, 'occur': 1307, 'mainli': 1308, 'bruce': 1309, 'forev': 1310, 'commerci': 1311, 'skip': 1312, 'teacher': 1313, 'surround': 1314, 'segment': 1315, 'held': 1316, 'blond': 1317, 'zero': 1318, 'trap': 1319, 'summer': 1320, 'resembl': 1321, 'satir': 1322, 'queen': 1323, 'fool': 1324, 'ball': 1325, 'six': 1326, 'twice': 1327, 'sub': 1328, 'tragedi': 1329, 'pack': 1330, 'reaction': 1331, 'bomb': 1332, 'will': 1333, 'protagonist': 1334, 'hospit': 1335, 'sport': 1336, 'mile': 1337, 'trust': 1338, 'jerri': 1339, 'mom': 1340, 'vote': 1341, 'drink': 1342, 'encount': 1343, 'plane': 1344, 'al': 1345, 'station': 1346, 'current': 1347, 'program': 1348, 'martin': 1349, 'choos': 1350, 'celebr': 1351, 'join': 1352, 'field': 1353, 'tragic': 1354, 'lord': 1355, 'favourit': 1356, 'round': 1357, 'jean': 1358, 'robot': 1359, 'vision': 1360, 'arthur': 1361, 'tie': 1362, 'fortun': 1363, 'random': 1364, 'roger': 1365, 'psycholog': 1366, 'dread': 1367, 'intern': 1368, 'improv': 1369, 'prefer': 1370, 'epic': 1371, 'nonsens': 1372, 'pleasur': 1373, 'formula': 1374, 'legend': 1375, 'highlight': 1376, 'tape': 1377, '11': 1378, 'dollar': 1379, 'wide': 1380, 'object': 1381, 'fox': 1382, 'porn': 1383, 'gorgeou': 1384, 'thin': 1385, 'ugli': 1386, 'buddi': 1387, 'influenc': 1388, 'nasti': 1389, 'prepar': 1390, 'ii': 1391, 'progress': 1392, 'supposedli': 1393, 'reflect': 1394, 'warm': 1395, 'worthi': 1396, 'youth': 1397, 'latter': 1398, 'unusu': 1399, 'length': 1400, 'crash': 1401, 'shop': 1402, 'seven': 1403, 'superior': 1404, 'childhood': 1405, 'theatr': 1406, 'remot': 1407, 'funniest': 1408, 'pilot': 1409, 'paid': 1410, 'disgust': 1411, 'fell': 1412, 'convers': 1413, 'castl': 1414, 'trick': 1415, 'gangster': 1416, 'disast': 1417, 'establish': 1418, 'rob': 1419, 'suicid': 1420, 'disappear': 1421, 'mine': 1422, 'ident': 1423, 'heaven': 1424, 'tend': 1425, 'singer': 1426, 'mask': 1427, 'decis': 1428, 'forgotten': 1429, 'heroin': 1430, 'brian': 1431, 'partner': 1432, 'recogn': 1433, 'alan': 1434, 'desert': 1435, 'p': 1436, 'thoroughli': 1437, 'stuck': 1438, 'ms': 1439, 'sky': 1440, 'accur': 1441, 'replac': 1442, 'market': 1443, 'commentari': 1444, 'uncl': 1445, 'andi': 1446, 'eddi': 1447, 'danni': 1448, 'clue': 1449, 'seemingli': 1450, 'devil': 1451, 'jackson': 1452, 'refus': 1453, 'pair': 1454, 'that': 1455, 'therefor': 1456, 'fault': 1457, 'unit': 1458, 'accid': 1459, 'river': 1460, 'ed': 1461, 'fate': 1462, 'tune': 1463, 'afraid': 1464, 'hidden': 1465, 'clean': 1466, 'stephen': 1467, 'russian': 1468, 'instanc': 1469, 'quick': 1470, 'test': 1471, 'readi': 1472, 'captain': 1473, 'convey': 1474, 'irrit': 1475, 'european': 1476, 'daniel': 1477, 'insan': 1478, 'frustrat': 1479, '1950': 1480, 'wed': 1481, 'chines': 1482, 'rescu': 1483, 'food': 1484, 'lock': 1485, 'angri': 1486, 'dirti': 1487, 'joy': 1488, 'steven': 1489, 'price': 1490, 'cage': 1491, 'bland': 1492, 'anymor': 1493, 'rang': 1494, 'wooden': 1495, 'jason': 1496, 'rush': 1497, 'news': 1498, 'n': 1499, 'martial': 1500, 'board': 1501, 'twenti': 1502, 'worri': 1503, 'led': 1504, '12': 1505, 'hunter': 1506, 'cgi': 1507, 'symbol': 1508, 'transform': 1509, 'onto': 1510, 'sentiment': 1511, 'invent': 1512, 'x': 1513, 'johnni': 1514, 'piti': 1515, 'attitud': 1516, 'explan': 1517, 'process': 1518, 'owner': 1519, 'awar': 1520, 'aim': 1521, 'favor': 1522, 'necessari': 1523, 'target': 1524, 'energi': 1525, 'floor': 1526, 'opposit': 1527, 'religi': 1528, 'blind': 1529, 'window': 1530, 'insight': 1531, 'chick': 1532, 'movement': 1533, 'research': 1534, 'possess': 1535, 'mountain': 1536, 'comparison': 1537, 'deepli': 1538, 'comed': 1539, 'whatsoev': 1540, 'grand': 1541, 'rain': 1542, 'shadow': 1543, 'began': 1544, 'mid': 1545, 'bank': 1546, 'parodi': 1547, 'princ': 1548, 'weapon': 1549, 'pre': 1550, 'taylor': 1551, 'credibl': 1552, 'friendship': 1553, 'teach': 1554, 'dougla': 1555, 'flesh': 1556, 'hint': 1557, 'protect': 1558, 'bloodi': 1559, 'terror': 1560, 'marvel': 1561, 'leader': 1562, 'watchabl': 1563, 'load': 1564, 'drunk': 1565, 'anybodi': 1566, 'superman': 1567, 'accord': 1568, 'brown': 1569, 'freddi': 1570, 'seat': 1571, 'appropri': 1572, 'hitler': 1573, 'jeff': 1574, 'tim': 1575, 'keaton': 1576, 'villag': 1577, 'knock': 1578, 'unknown': 1579, 'charg': 1580, 'empti': 1581, 'unnecessari': 1582, 'enemi': 1583, 'media': 1584, 'england': 1585, 'craft': 1586, 'strength': 1587, 'wave': 1588, 'dare': 1589, 'buck': 1590, 'perspect': 1591, 'utter': 1592, 'kiss': 1593, 'ford': 1594, 'correct': 1595, 'contrast': 1596, 'nativ': 1597, 'knowledg': 1598, 'distract': 1599, 'speed': 1600, 'anywher': 1601, 'nazi': 1602, 'chill': 1603, 'magnific': 1604, 'soap': 1605, 'fred': 1606, '1980': 1607, 'breath': 1608, 'mission': 1609, 'ice': 1610, 'moon': 1611, 'jr': 1612, 'crowd': 1613, 'joan': 1614, 'frighten': 1615, 'soft': 1616, 'kate': 1617, '000': 1618, 'nick': 1619, 'dick': 1620, 'dan': 1621, 'hundr': 1622, 'somebodi': 1623, 'radio': 1624, 'dozen': 1625, 'simon': 1626, 'thousand': 1627, 'shakespear': 1628, 'andrew': 1629, 'academi': 1630, 'loss': 1631, 'vehicl': 1632, 'quot': 1633, 'account': 1634, 'sum': 1635, 'root': 1636, 'behavior': 1637, 'convent': 1638, 'leg': 1639, '1970': 1640, 'regular': 1641, 'gold': 1642, 'demand': 1643, 'pretenti': 1644, 'compet': 1645, 'worker': 1646, 'notabl': 1647, 'explos': 1648, 'interpret': 1649, 'japan': 1650, 'privat': 1651, 'stretch': 1652, 'candi': 1653, 'lynch': 1654, 'debut': 1655, 'constant': 1656, 'tarzan': 1657, 'translat': 1658, 'sea': 1659, 'spi': 1660, 'revolv': 1661, 'prais': 1662, 'technolog': 1663, 'failur': 1664, 'ass': 1665, 'franc': 1666, 'sat': 1667, 'jesu': 1668, 'quiet': 1669, 'threaten': 1670, 'punch': 1671, 'higher': 1672, 'kevin': 1673, 'aid': 1674, 'toy': 1675, 'met': 1676, 'mike': 1677, 'interact': 1678, 'abandon': 1679, 'vh': 1680, 'command': 1681, 'confront': 1682, 'bet': 1683, 'separ': 1684, 'stunt': 1685, 'recal': 1686, 'techniqu': 1687, 'belong': 1688, 'gotten': 1689, 'site': 1690, 'servic': 1691, 'foot': 1692, 'freak': 1693, 'bug': 1694, 'cabl': 1695, 'bright': 1696, 'jimmi': 1697, 'capabl': 1698, 'african': 1699, 'fu': 1700, 'boat': 1701, 'presid': 1702, 'fat': 1703, 'stock': 1704, 'succeed': 1705, 'clark': 1706, 'spanish': 1707, 'structur': 1708, 'gene': 1709, 'kidnap': 1710, 'paper': 1711, 'whilst': 1712, 'factor': 1713, 'belief': 1714, 'witti': 1715, 'attend': 1716, 'educ': 1717, 'complic': 1718, 'tree': 1719, 'realis': 1720, 'realism': 1721, 'bob': 1722, 'santa': 1723, 'broken': 1724, 'assist': 1725, 'finest': 1726, 'v': 1727, 'determin': 1728, 'smoke': 1729, 'depart': 1730, 'observ': 1731, 'up': 1732, 'fame': 1733, 'domin': 1734, 'rubbish': 1735, 'routin': 1736, 'lewi': 1737, 'oper': 1738, 'hat': 1739, 'safe': 1740, 'morgan': 1741, 'hook': 1742, 'foreign': 1743, 'kinda': 1744, 'lone': 1745, 'advanc': 1746, 'rank': 1747, 'numer': 1748, 'shape': 1749, 'vs': 1750, 'rose': 1751, 'werewolf': 1752, 'shallow': 1753, 'civil': 1754, 'washington': 1755, 'gari': 1756, 'morn': 1757, 'kong': 1758, 'ordinari': 1759, 'winner': 1760, 'accomplish': 1761, 'peac': 1762, 'grab': 1763, 'virtual': 1764, 'whenev': 1765, 'luck': 1766, 'h': 1767, 'offens': 1768, 'unfunni': 1769, 'patient': 1770, 'contriv': 1771, 'bigger': 1772, 'activ': 1773, 'complain': 1774, 'welcom': 1775, 'con': 1776, 'dimension': 1777, 'pretend': 1778, 'trek': 1779, 'wake': 1780, 'eric': 1781, 'cain': 1782, 'flash': 1783, 'code': 1784, 'lesbian': 1785, 'dri': 1786, 'manipul': 1787, 'corrupt': 1788, 'dancer': 1789, 'statu': 1790, 'guard': 1791, 'albert': 1792, 'signific': 1793, 'sourc': 1794, 'gain': 1795, 'awkward': 1796, 'context': 1797, 'speech': 1798, 'psycho': 1799, '13': 1800, 'anthoni': 1801, 'corni': 1802, 'clip': 1803, 'sean': 1804, 'religion': 1805, 'advic': 1806, 'reli': 1807, 'curiou': 1808, 'w': 1809, 'priest': 1810, 'theatric': 1811, 'addict': 1812, 'flow': 1813, 'asian': 1814, 'jennif': 1815, 'specif': 1816, 'secur': 1817, 'howard': 1818, 'skin': 1819, 'golden': 1820, 'organ': 1821, 'comfort': 1822, 'luke': 1823, 'promot': 1824, 'core': 1825, 'cash': 1826, 'lucki': 1827, 'cheat': 1828, 'dislik': 1829, 'lower': 1830, 'associ': 1831, 'regret': 1832, 'contribut': 1833, 'devic': 1834, 'balanc': 1835, 'spell': 1836, 'frequent': 1837, 'frankli': 1838, 'degre': 1839, 'wing': 1840, 'print': 1841, 'sake': 1842, 'forgiv': 1843, 'lake': 1844, 'mass': 1845, 'thoma': 1846, 'betti': 1847, 'gordon': 1848, 'unexpect': 1849, 'crack': 1850, 'unfold': 1851, 'grown': 1852, 'categori': 1853, 'amateur': 1854, 'invit': 1855, 'construct': 1856, 'depend': 1857, 'matur': 1858, 'grew': 1859, 'anna': 1860, 'honor': 1861, 'intellectu': 1862, 'condit': 1863, 'walter': 1864, 'spectacular': 1865, 'veteran': 1866, 'mirror': 1867, 'sole': 1868, 'sudden': 1869, 'liner': 1870, 'meanwhil': 1871, 'card': 1872, 'grip': 1873, 'experienc': 1874, 'overli': 1875, 'robin': 1876, 'freedom': 1877, 'demonstr': 1878, 'gift': 1879, 'drew': 1880, 'subtitl': 1881, 'circumst': 1882, 'brilliantli': 1883, 'theori': 1884, 'colour': 1885, 'unabl': 1886, 'crappi': 1887, 'oliv': 1888, 'sheriff': 1889, 'section': 1890, 'altern': 1891, 'matt': 1892, 'pile': 1893, 'sheer': 1894, 'path': 1895, 'parker': 1896, 'cook': 1897, 'laughter': 1898, 'wander': 1899, 'hall': 1900, 'accident': 1901, 'defin': 1902, 'treatment': 1903, 'relief': 1904, 'lawyer': 1905, 'sinatra': 1906, 'captiv': 1907, 'hank': 1908, 'dragon': 1909, 'moor': 1910, 'halloween': 1911, 'gratuit': 1912, 'wound': 1913, 'broadway': 1914, 'wayn': 1915, 'unintent': 1916, 'k': 1917, 'barbara': 1918, 'cowboy': 1919, 'kung': 1920, 'jacki': 1921, 'surreal': 1922, 'spoof': 1923, 'winter': 1924, 'canadian': 1925, 'statement': 1926, 'treasur': 1927, 'compos': 1928, 'fare': 1929, 'fish': 1930, 'cheer': 1931, 'gonna': 1932, 'emerg': 1933, 'unrealist': 1934, 'sensit': 1935, 'victor': 1936, 'woodi': 1937, 'driven': 1938, 'sympathet': 1939, 'ran': 1940, 'neighbor': 1941, 'menac': 1942, 'overlook': 1943, 'glass': 1944, 'expos': 1945, 'authent': 1946, 'topic': 1947, 'ancient': 1948, 'gross': 1949, 'michel': 1950, 'handsom': 1951, 'chief': 1952, 'comedian': 1953, 'network': 1954, 'nevertheless': 1955, 'built': 1956, 'russel': 1957, 'stranger': 1958, 'feet': 1959, 'cinderella': 1960, 'contemporari': 1961, 'pleasant': 1962, 'consider': 1963, 'earn': 1964, 'underr': 1965, 'endless': 1966, 'gori': 1967, 'letter': 1968, 'miser': 1969, 'blockbust': 1970, 'switch': 1971, 'solv': 1972, 'brook': 1973, 'joseph': 1974, 'edward': 1975, 'bullet': 1976, 'convict': 1977, 'virgin': 1978, 'victoria': 1979, 'alex': 1980, 'chosen': 1981, 'cynic': 1982, 'scale': 1983, 'scenario': 1984, '0': 1985, 'curs': 1986, 'com': 1987, 'sword': 1988, 'outrag': 1989, 'gut': 1990, 'screenwrit': 1991, 'juli': 1992, 'uk': 1993, 'proper': 1994, 'driver': 1995, 'monkey': 1996, 'wrap': 1997, 'substanc': 1998, 'remov': 1999, 'court': 2000, 'indic': 2001, 'par': 2002, 'bird': 2003, 'loser': 2004, 'rental': 2005, 'naiv': 2006, 'grave': 2007, 'consequ': 2008, 'nanci': 2009, 'advertis': 2010, 'inevit': 2011, 'roy': 2012, 'brave': 2013, 'fatal': 2014, 'germani': 2015, 'bridg': 2016, 'slap': 2017, 'invis': 2018, 'le': 2019, 'ador': 2020, 'provok': 2021, 'loui': 2022, 'anger': 2023, 'footbal': 2024, 'anderson': 2025, 'alcohol': 2026, 'chan': 2027, 'professor': 2028, 'ryan': 2029, 'willi': 2030, 'stumbl': 2031, 'sharp': 2032, '1930': 2033, 'patrick': 2034, 'bat': 2035, 'australian': 2036, 'assassin': 2037, 'trilog': 2038, 'cell': 2039, 'strongli': 2040, 'heck': 2041, 'liber': 2042, 'saturday': 2043, 'lousi': 2044, 'amateurish': 2045, 'refresh': 2046, 'ape': 2047, 'eight': 2048, 'deni': 2049, 'sin': 2050, 'justifi': 2051, 'san': 2052, 'vagu': 2053, 'resid': 2054, 'mini': 2055, 'terrifi': 2056, 'defeat': 2057, 'indi': 2058, 'creator': 2059, 'sympathi': 2060, 'reput': 2061, 'expert': 2062, 'tabl': 2063, 'task': 2064, 'prevent': 2065, 'tediou': 2066, 'endur': 2067, 'che': 2068, 'basebal': 2069, 'employ': 2070, 'rival': 2071, 'imit': 2072, 'trial': 2073, 'offend': 2074, 'max': 2075, 'pitch': 2076, 'europ': 2077, 'dig': 2078, 'weekend': 2079, 'complaint': 2080, 'fairi': 2081, 'beach': 2082, 'risk': 2083, 'murphi': 2084, 'purchas': 2085, 'format': 2086, 'nois': 2087, 'hype': 2088, 'reminisc': 2089, 'glimps': 2090, 'powel': 2091, 'titan': 2092, 'tini': 2093, 'bite': 2094, 'harsh': 2095, 'prime': 2096, 'asleep': 2097, 'strip': 2098, 'fals': 2099, 'till': 2100, '14': 2101, 'north': 2102, 'destruct': 2103, 'texa': 2104, 'revel': 2105, 'descript': 2106, 'africa': 2107, 'spin': 2108, 'surfac': 2109, 'inner': 2110, 'uninterest': 2111, 'sitcom': 2112, 'arrest': 2113, 'excess': 2114, 'semi': 2115, 'makeup': 2116, 'massiv': 2117, 'maintain': 2118, 'hitchcock': 2119, 'twin': 2120, 'controversi': 2121, 'dinosaur': 2122, 'argu': 2123, 'ludicr': 2124, 'reject': 2125, 'ideal': 2126, 'insist': 2127, 'melodrama': 2128, 'stare': 2129, 'expens': 2130, 'kim': 2131, 'atroci': 2132, 'ala': 2133, 'forest': 2134, 'erot': 2135, 'host': 2136, 'nail': 2137, 'ga': 2138, 'columbo': 2139, 'press': 2140, 'supernatur': 2141, 'subplot': 2142, 'identifi': 2143, 'notch': 2144, 'dude': 2145, 'presum': 2146, 'cant': 2147, 'character': 2148, 'crude': 2149, 'method': 2150, 'plagu': 2151, 'closer': 2152, 'guest': 2153, 'forgett': 2154, 'landscap': 2155, 'princess': 2156, 'foster': 2157, 'ear': 2158, 'lion': 2159, 'beast': 2160, 'border': 2161, 'birth': 2162, 'bound': 2163, 'damag': 2164, 'accus': 2165, 'pacino': 2166, 'urban': 2167, 'jungl': 2168, 'aunt': 2169, 'previous': 2170, 'storytel': 2171, 'nude': 2172, 'propaganda': 2173, 'guid': 2174, 'chose': 2175, 'thirti': 2176, 'emma': 2177, 'jess': 2178, 'doll': 2179, 'whoever': 2180, '25': 2181, 'mainstream': 2182, 'pet': 2183, 'warrior': 2184, 'mate': 2185, 'deadli': 2186, 'exact': 2187, 'merit': 2188, 'cooper': 2189, 'upset': 2190, 'friday': 2191, 'poster': 2192, 'gritti': 2193, 'size': 2194, 'latest': 2195, 'buff': 2196, 'contact': 2197, '1990': 2198, 'warner': 2199, 'sun': 2200, 'blend': 2201, 'wilson': 2202, 'ton': 2203, 'settl': 2204, 'rough': 2205, 'corps': 2206, 'contest': 2207, 'popul': 2208, 'citizen': 2209, 'environ': 2210, 'mgm': 2211, 'overcom': 2212, 'pitt': 2213, 'rat': 2214, 'widow': 2215, 'alic': 2216, 'bu': 2217, 'select': 2218, 'metal': 2219, 'revolut': 2220, 'link': 2221, 'guilti': 2222, 'particip': 2223, 'ted': 2224, 'lift': 2225, 'matrix': 2226, 'prostitut': 2227, 'afternoon': 2228, 'corner': 2229, 'exagger': 2230, 'corpor': 2231, 'accompani': 2232, 'moron': 2233, 'johnson': 2234, '1960': 2235, 'sincer': 2236, 'instal': 2237, 'doom': 2238, 'leagu': 2239, 'hood': 2240, 'holm': 2241, 'multipl': 2242, 'friendli': 2243, 'clair': 2244, 'hip': 2245, 'aka': 2246, 'examin': 2247, 'advis': 2248, 'blah': 2249, 'grim': 2250, 'campi': 2251, 'defend': 2252, 'string': 2253, 'sunday': 2254, 'junk': 2255, 'irish': 2256, 'lugosi': 2257, 'rachel': 2258, 'shake': 2259, 'icon': 2260, 'pro': 2261, 'confid': 2262, 'varieti': 2263, 'tight': 2264, 'shut': 2265, 'sullivan': 2266, 'directli': 2267, 'goal': 2268, 'medic': 2269, 'mexican': 2270, 'denni': 2271, 'jaw': 2272, 'attach': 2273, 'courag': 2274, 'breast': 2275, 'sentenc': 2276, 'prior': 2277, 'legendari': 2278, 'dean': 2279, 'truck': 2280, 'sarah': 2281, 'terrorist': 2282, 'duke': 2283, 'bourn': 2284, 'vietnam': 2285, 'hong': 2286, 'donald': 2287, 'proceed': 2288, 'entri': 2289, 'un': 2290, 'behav': 2291, 'yell': 2292, 'split': 2293, 'nose': 2294, 'gather': 2295, 'borrow': 2296, 'buri': 2297, 'unconvinc': 2298, 'confess': 2299, 'forth': 2300, 'crush': 2301, 'lifetim': 2302, 'swim': 2303, 'concentr': 2304, 'everywher': 2305, 'jerk': 2306, 'stolen': 2307, 'deliveri': 2308, 'spite': 2309, 'julia': 2310, 'turkey': 2311, 'california': 2312, 'pan': 2313, 'lip': 2314, 'quest': 2315, 'china': 2316, 'flight': 2317, 'proud': 2318, 'freeman': 2319, 'offici': 2320, 'reward': 2321, 'hoffman': 2322, 'downright': 2323, 'inept': 2324, 'fabul': 2325, 'worthwhil': 2326, 'sir': 2327, 'lazi': 2328, 'jail': 2329, 'jon': 2330, 'sink': 2331, 'fade': 2332, 'betray': 2333, 'encourag': 2334, 'notori': 2335, 'susan': 2336, 'lisa': 2337, 'cousin': 2338, 'teeth': 2339, 'relev': 2340, 'shower': 2341, 'imageri': 2342, 'retard': 2343, 'storm': 2344, 'bag': 2345, 'bell': 2346, 'survivor': 2347, 'branagh': 2348, 'toler': 2349, 'alright': 2350, 'facial': 2351, 'stab': 2352, 'tremend': 2353, 'quirki': 2354, 'trade': 2355, 'summari': 2356, 'mexico': 2357, 'finger': 2358, 'bride': 2359, 'shark': 2360, 'hugh': 2361, 'ha': 2362, 'pose': 2363, 'bitter': 2364, 'blown': 2365, 'von': 2366, 'hyster': 2367, 'ned': 2368, 'address': 2369, 'ron': 2370, 'afterward': 2371, 'larri': 2372, 'scheme': 2373, 'bone': 2374, 'christ': 2375, 'cruel': 2376, 'beg': 2377, 'distinct': 2378, 'feed': 2379, 'screw': 2380, 'tour': 2381, 'traci': 2382, 'thumb': 2383, 'snake': 2384, 'swear': 2385, 'pursu': 2386, 'mechan': 2387, 'obscur': 2388, 'raw': 2389, 'occas': 2390, 'stomach': 2391, 'photo': 2392, 'chair': 2393, 'hardi': 2394, 'chain': 2395, 'southern': 2396, 'cabin': 2397, 'necessarili': 2398, 'render': 2399, 'heavili': 2400, 'gruesom': 2401, 'holiday': 2402, 'resist': 2403, 'sidney': 2404, 'argument': 2405, 'india': 2406, 'philip': 2407, 'understood': 2408, 'indulg': 2409, 'racist': 2410, 'satan': 2411, 'tongu': 2412, 'fourth': 2413, 'obnoxi': 2414, 'forgot': 2415, 'outfit': 2416, 'lay': 2417, 'stalk': 2418, 'integr': 2419, 'belov': 2420, 'midnight': 2421, 'pregnant': 2422, 'deeper': 2423, 'slapstick': 2424, 'carol': 2425, 'restor': 2426, 'ticket': 2427, 'magazin': 2428, 'inhabit': 2429, 'garden': 2430, '17': 2431, 'devot': 2432, 'brad': 2433, 'shoe': 2434, 'incid': 2435, 'lincoln': 2436, 'disbelief': 2437, 'benefit': 2438, 'underground': 2439, 'maria': 2440, 'divorc': 2441, 'anticip': 2442, 'sandler': 2443, 'lili': 2444, 'guarante': 2445, 'elizabeth': 2446, 'greater': 2447, 'amazingli': 2448, 'bbc': 2449, 'explod': 2450, 'capit': 2451, 'princip': 2452, 'creation': 2453, 'mildli': 2454, 'cring': 2455, 'slave': 2456, 'funnier': 2457, 'halfway': 2458, 'lesli': 2459, 'extraordinari': 2460, 'introduct': 2461, 'extent': 2462, 'transfer': 2463, 'punish': 2464, 'advantag': 2465, 'text': 2466, 'wreck': 2467, 'enhanc': 2468, 'overwhelm': 2469, 'tap': 2470, 'jessica': 2471, 'east': 2472, 'deliber': 2473, 'error': 2474, 'dynam': 2475, 'lo': 2476, 'plant': 2477, 'horrif': 2478, 'preview': 2479, 'lane': 2480, 'ensu': 2481, 'homosexu': 2482, '2000': 2483, 'appli': 2484, 'vincent': 2485, 'sophist': 2486, 'miller': 2487, 'basi': 2488, 'miscast': 2489, 'vacat': 2490, 'via': 2491, 'spoken': 2492, 'measur': 2493, 'mansion': 2494, 'uncomfort': 2495, 'elev': 2496, 'reed': 2497, 'bollywood': 2498, 'sleazi': 2499, 'extend': 2500, 'steel': 2501, 'fix': 2502, 'overact': 2503, 'stanley': 2504, 'melt': 2505, 'alter': 2506, 'conceiv': 2507, 'daili': 2508, 'goofi': 2509, 'beer': 2510, 'savag': 2511, 'breathtak': 2512, 'blair': 2513, 'hippi': 2514, 'cathol': 2515, 'dentist': 2516, 'mous': 2517, 'assign': 2518, 'oppos': 2519, 'succe': 2520, 'everyday': 2521, 'properli': 2522, 'burt': 2523, 'nowaday': 2524, 'carpent': 2525, 'subsequ': 2526, 'sacrific': 2527, 'inspector': 2528, 'massacr': 2529, 'neck': 2530, 'block': 2531, 'circl': 2532, 'laura': 2533, 'mob': 2534, 'concert': 2535, 'grey': 2536, 'seagal': 2537, 'pool': 2538, 'access': 2539, 'lesser': 2540, 'portrait': 2541, 'fay': 2542, 'fallen': 2543, 'christi': 2544, 'chees': 2545, 'jewish': 2546, 'usa': 2547, 'sinist': 2548, 'relax': 2549, 'react': 2550, 'isol': 2551, 'competit': 2552, 'jake': 2553, 'appal': 2554, 'ironi': 2555, 'lyric': 2556, 'stink': 2557, '2006': 2558, 'chop': 2559, 'suitabl': 2560, 'nine': 2561, 'creep': 2562, 'immens': 2563, 'spiritu': 2564, 'nonetheless': 2565, 'shirt': 2566, 'luci': 2567, 'showcas': 2568, 'needless': 2569, 'spring': 2570, 'rage': 2571, 'retir': 2572, 'nut': 2573, 'user': 2574, 'adopt': 2575, 'navi': 2576, 'sold': 2577, 'reduc': 2578, 'franchis': 2579, 'uninspir': 2580, 'asham': 2581, 'bath': 2582, 'jay': 2583, 'bulli': 2584, 'zone': 2585, 'digit': 2586, 'nurs': 2587, 'per': 2588, 'stanwyck': 2589, 'broadcast': 2590, 'amongst': 2591, '2001': 2592, 'upper': 2593, 'illustr': 2594, 'laid': 2595, '1940': 2596, 'oddli': 2597, 'sutherland': 2598, 'aspir': 2599, 'baker': 2600, 'disguis': 2601, 'throat': 2602, 'fulfil': 2603, 'stylish': 2604, 'brando': 2605, 'neighborhood': 2606, 'thief': 2607, 'endear': 2608, 'impli': 2609, 'nobl': 2610, 'wwii': 2611, 'em': 2612, 'pound': 2613, '18': 2614, 'wanna': 2615, 'pride': 2616, 'tens': 2617, 'prop': 2618, 'albeit': 2619, 'diseas': 2620, 'shift': 2621, 'coher': 2622, 'shoulder': 2623, 'distribut': 2624, 'cinematograph': 2625, 'dawn': 2626, 'dinner': 2627, 'bett': 2628, 'rochest': 2629, '16': 2630, 'bo': 2631, 'silenc': 2632, 'wash': 2633, 'rebel': 2634, 'poignant': 2635, 'knife': 2636, 'forti': 2637, 'shout': 2638, 'surf': 2639, 'function': 2640, 'snow': 2641, 'contract': 2642, 'matthau': 2643, 'proof': 2644, 'reunion': 2645, 'cancel': 2646, 'horrend': 2647, 'chuck': 2648, 'heat': 2649, 'internet': 2650, 'eeri': 2651, 'duti': 2652, 'elvira': 2653, 'silver': 2654, 'height': 2655, 'henc': 2656, 'instinct': 2657, 'cannib': 2658, 'mindless': 2659, 'derek': 2660, 'widmark': 2661, 'glori': 2662, 'premier': 2663, 'repetit': 2664, 'greatli': 2665, 'innov': 2666, 'spielberg': 2667, 'absorb': 2668, 'musician': 2669, 'alik': 2670, 'incoher': 2671, 'torn': 2672, 'mill': 2673, 'elvi': 2674, 'pie': 2675, 'neat': 2676, 'etern': 2677, 'horrifi': 2678, 'wealthi': 2679, 'crisi': 2680, 'redempt': 2681, 'burton': 2682, 'homag': 2683, 'bang': 2684, 'fbi': 2685, 'precis': 2686, 'itali': 2687, 'racism': 2688, 'trite': 2689, 'nelson': 2690, 'announc': 2691, 'infam': 2692, 'diamond': 2693, 'blank': 2694, 'britain': 2695, 'lovabl': 2696, 'ensembl': 2697, 'flop': 2698, 'happili': 2699, 'parallel': 2700, 'hammer': 2701, 'resolut': 2702, 'helen': 2703, 'dedic': 2704, 'chaplin': 2705, 'wilder': 2706, 'pat': 2707, 'streisand': 2708, 'broke': 2709, 'st': 2710, 'carter': 2711, 'factori': 2712, 'mar': 2713, 'conclud': 2714, 'cube': 2715, 'triumph': 2716, 'plastic': 2717, 'oil': 2718, 'disagre': 2719, 'vega': 2720, 'weight': 2721, 'climb': 2722, 'bush': 2723, 'chuckl': 2724, 'march': 2725, 'fighter': 2726, 'row': 2727, 'rocket': 2728, 'own': 2729, 'enorm': 2730, 'wherea': 2731, 'spare': 2732, 'luca': 2733, 'dane': 2734, 'unforgett': 2735, 'sensibl': 2736, 'kurt': 2737, 'mst3k': 2738, 'thug': 2739, 'lust': 2740, 'meaning': 2741, 'boot': 2742, 'dump': 2743, 'brand': 2744, 'stress': 2745, 'karloff': 2746, 'caricatur': 2747, 'butt': 2748, 'engin': 2749, 'arnold': 2750, 'dear': 2751, 'difficulti': 2752, 'adequ': 2753, 'rap': 2754, 'bobbi': 2755, 'fifti': 2756, 'threat': 2757, 'barri': 2758, 'ego': 2759, 'polish': 2760, 'fest': 2761, 'hamlet': 2762, 'elabor': 2763, 'swing': 2764, 'secretari': 2765, 'ralph': 2766, 'journalist': 2767, 'homeless': 2768, 'flynn': 2769, 'arrog': 2770, 'grate': 2771, 'induc': 2772, 'tool': 2773, 'conspiraci': 2774, 'spike': 2775, 'simpson': 2776, 'resort': 2777, 'arrang': 2778, 'float': 2779, 'fanci': 2780, 'puppet': 2781, 'unbear': 2782, 'exercis': 2783, 'choreograph': 2784, 'boll': 2785, 'pig': 2786, 'phillip': 2787, 'tribut': 2788, 'basement': 2789, 'cruis': 2790, 'guilt': 2791, 'muppet': 2792, 'korean': 2793, 'layer': 2794, 'ham': 2795, 'tower': 2796, 'fianc': 2797, 'puzzl': 2798, 'editor': 2799, 'toilet': 2800, 'file': 2801, 'stan': 2802, 'babe': 2803, 'medium': 2804, 'document': 2805, 'slip': 2806, 'scarecrow': 2807, '24': 2808, 'ward': 2809, 'item': 2810, 'orient': 2811, 'assur': 2812, 'minim': 2813, 'larger': 2814, 'inexplic': 2815, 'portion': 2816, 'transit': 2817, 'catherin': 2818, 'glover': 2819, 'librari': 2820, 'slaughter': 2821, 'superfici': 2822, 'persona': 2823, 'spark': 2824, 'territori': 2825, 'doc': 2826, 'philosoph': 2827, 'denzel': 2828, 'walken': 2829, 'jeremi': 2830, 'owe': 2831, 'shi': 2832, 'dorothi': 2833, 'sneak': 2834, 'boredom': 2835, 'pg': 2836, 'wolf': 2837, 'curti': 2838, 'financi': 2839, 'jet': 2840, 'ban': 2841, 'multi': 2842, 'cusack': 2843, 'metaphor': 2844, 'profound': 2845, 'backdrop': 2846, 'eleph': 2847, 'hudson': 2848, 'ambigu': 2849, 'whale': 2850, 'birthday': 2851, 'elsewher': 2852, 'implaus': 2853, 'stiff': 2854, 'ultra': 2855, '2005': 2856, 'notion': 2857, 'rave': 2858, 'union': 2859, 'viru': 2860, 'hack': 2861, 'gadget': 2862, 'distanc': 2863, 'lloyd': 2864, 'newspap': 2865, '1st': 2866, 'canada': 2867, 'slight': 2868, 'afford': 2869, 'deriv': 2870, 'eva': 2871, 'urg': 2872, 'bibl': 2873, 'pad': 2874, 'poison': 2875, 'reader': 2876, 'eastwood': 2877, 'superhero': 2878, 'squar': 2879, 'hawk': 2880, 'disc': 2881, 'essenc': 2882, 'spread': 2883, 'restaur': 2884, 'health': 2885, 'sadist': 2886, 'montag': 2887, 'huh': 2888, 'button': 2889, 'charisma': 2890, 'cure': 2891, 'drown': 2892, 'skit': 2893, 'heston': 2894, 'gradual': 2895, 'godfath': 2896, 'muslim': 2897, 'invest': 2898, 'scoobi': 2899, 'dealt': 2900, 'peak': 2901, 'lab': 2902, 'estat': 2903, 'fetch': 2904, 'companion': 2905, 'maniac': 2906, 'servant': 2907, 'cup': 2908, 'tea': 2909, 'countless': 2910, 'subtleti': 2911, 'gothic': 2912, 'alli': 2913, 'ritter': 2914, 'kane': 2915, 'miik': 2916, 'electr': 2917, 'elect': 2918, 'iii': 2919, 'charismat': 2920, 'salli': 2921, 'heroic': 2922, 'briefli': 2923, 'admittedli': 2924, 'reel': 2925, 'resourc': 2926, 'wannab': 2927, 'bud': 2928, 'nuanc': 2929, 'toss': 2930, 'tender': 2931, 'grandmoth': 2932, 'ingredi': 2933, 'neil': 2934, 'cole': 2935, 'poverti': 2936, 'gate': 2937, 'reev': 2938, 'punk': 2939, 'pit': 2940, 'carrey': 2941, 'stood': 2942, 'mild': 2943, 'mafia': 2944, 'dawson': 2945, 'label': 2946, 'kubrick': 2947, 'stronger': 2948, 'shall': 2949, 'pauli': 2950, 'cox': 2951, 'terri': 2952, 'outcom': 2953, 'smash': 2954, 'ian': 2955, 'burst': 2956, 'tag': 2957, 'bakshi': 2958, 'useless': 2959, 'cardboard': 2960, 'updat': 2961, 'assault': 2962, 'smooth': 2963, 'easier': 2964, 'fond': 2965, 'astair': 2966, 'fist': 2967, '2002': 2968, 'coincid': 2969, 'sketch': 2970, 'samurai': 2971, 'qualifi': 2972, 'resolv': 2973, 'vulner': 2974, 'rex': 2975, 'vari': 2976, 'divers': 2977, 'melodramat': 2978, 'increasingli': 2979, 'exchang': 2980, 'scratch': 2981, 'luckili': 2982, 'templ': 2983, 'suspend': 2984, 'be': 2985, 'tame': 2986, 'blast': 2987, 'brillianc': 2988, 'insert': 2989, 'reynold': 2990, 'conveni': 2991, 'meat': 2992, 'hamilton': 2993, 'matthew': 2994, 'soprano': 2995, 'gotta': 2996, 'walker': 2997, 'nuclear': 2998, 'farm': 2999, 'coach': 3000, 'jami': 3001, 'fisher': 3002, 'seventi': 3003, 'strictli': 3004, 'ambiti': 3005, 'pin': 3006, 'worthless': 3007, 'brosnan': 3008, 'closet': 3009, 'butcher': 3010, 'empir': 3011, 'struck': 3012, 'kudo': 3013, 'revers': 3014, 'grasp': 3015, 'clock': 3016, 'discoveri': 3017, 'spooki': 3018, 'recreat': 3019, 'instantli': 3020, 'timeless': 3021, 'eccentr': 3022, 'ninja': 3023, 'monk': 3024, 'cave': 3025, 'convolut': 3026, 'joey': 3027, 'sloppi': 3028, 'partli': 3029, 'miracl': 3030, 'clown': 3031, 'sidekick': 3032, 'selfish': 3033, 'eighti': 3034, 'evok': 3035, 'wipe': 3036, 'communist': 3037, 'mitchel': 3038, 'declar': 3039, 'fifteen': 3040, 'gray': 3041, 'pal': 3042, 'importantli': 3043, 'cliff': 3044, 'seller': 3045, 'inconsist': 3046, 'bleak': 3047, 'norman': 3048, 'flawless': 3049, 'enthusiast': 3050, 'debat': 3051, 'aforement': 3052, 'lifestyl': 3053, 'destin': 3054, 'psychiatrist': 3055, '45': 3056, 'cheek': 3057, 'ho': 3058, 'superbl': 3059, 'websit': 3060, 'chew': 3061, 'farc': 3062, 'piano': 3063, 'stoog': 3064, 'australia': 3065, 'seed': 3066, 'drivel': 3067, 'dash': 3068, 'incompet': 3069, 'anni': 3070, 'wick': 3071, 'regardless': 3072, 'splatter': 3073, 'dire': 3074, 'slice': 3075, 'emili': 3076, 'soviet': 3077, 'pressur': 3078, 'directori': 3079, 'bash': 3080, 'wrestl': 3081, 'akshay': 3082, 'abc': 3083, 'kitchen': 3084, 'pleasantli': 3085, 'seduc': 3086, 'duo': 3087, 'helicopt': 3088, 'doo': 3089, 'suppli': 3090, 'beaten': 3091, 'glow': 3092, 'increas': 3093, 'recov': 3094, 'cameron': 3095, 'cia': 3096, 'distant': 3097, 'dave': 3098, 'blob': 3099, 'prize': 3100, 'boil': 3101, 'chapter': 3102, 'judi': 3103, 'ken': 3104, 'mann': 3105, 'artifici': 3106, 'flower': 3107, 'lou': 3108, 'curios': 3109, 'jar': 3110, 'cagney': 3111, 'favour': 3112, 'hop': 3113, 'craig': 3114, 'ellen': 3115, 'goldberg': 3116, 'turner': 3117, 'perri': 3118, 'craven': 3119, 'combat': 3120, 'ranger': 3121, 'francisco': 3122, 'laurel': 3123, 'glenn': 3124, 'psychot': 3125, 'splendid': 3126, 'panic': 3127, 'web': 3128, 'eleg': 3129, 'drunken': 3130, 'graduat': 3131, 'slightest': 3132, 'wizard': 3133, 'philosophi': 3134, 'shortli': 3135, 'plausibl': 3136, 'fx': 3137, 'falk': 3138, 'min': 3139, 'flip': 3140, 'rid': 3141, 'ruth': 3142, 'greek': 3143, 'alexand': 3144, 'gandhi': 3145, '20th': 3146, 'hatr': 3147, 'gentl': 3148, 'modesti': 3149, 'felix': 3150, 'jealou': 3151, 'preciou': 3152, 'ocean': 3153, 'knight': 3154, 'dracula': 3155, 'harm': 3156, 'unpleas': 3157, 'manhattan': 3158, 'holi': 3159, 'futurist': 3160, 'legal': 3161, 'fund': 3162, 'we': 3163, 'lend': 3164, 'tall': 3165, 'overdon': 3166, 'reviv': 3167, 'thread': 3168, 'tank': 3169, 'bless': 3170, 'scientif': 3171, 'ami': 3172, 'nod': 3173, 'explicit': 3174, 'childish': 3175, 'forbidden': 3176, 'mock': 3177, 'digniti': 3178, 'giallo': 3179, 'verhoeven': 3180, 'margaret': 3181, 'torment': 3182, 'awaken': 3183, 'repeatedli': 3184, 'unwatch': 3185, 'nerv': 3186, 'broad': 3187, 'thick': 3188, 'elderli': 3189, 'yesterday': 3190, 'eve': 3191, '99': 3192, 'awe': 3193, '2004': 3194, 'mel': 3195, 'pirat': 3196, 'fever': 3197, 'stiller': 3198, 'romero': 3199, 'rivet': 3200, 'royal': 3201, 'publish': 3202, 'uniform': 3203, 'bin': 3204, 'griffith': 3205, 'timothi': 3206, 'lean': 3207, 'acclaim': 3208, 'roman': 3209, 'custom': 3210, 'launch': 3211, 'kay': 3212, 'absenc': 3213, 'politician': 3214, 'ah': 3215, 'automat': 3216, 'eas': 3217, 'ambit': 3218, 'antic': 3219, 'sunshin': 3220, 'pierc': 3221, 'phrase': 3222, 'stinker': 3223, 'purpl': 3224, 'homicid': 3225, 'foul': 3226, 'bathroom': 3227, 'crook': 3228, 'wallac': 3229, 'warren': 3230, 'termin': 3231, 'tomato': 3232, 'transport': 3233, 'pulp': 3234, 'darker': 3235, 'gabriel': 3236, 'awak': 3237, 'revolutionari': 3238, '2003': 3239, 'prom': 3240, 'juvenil': 3241, 'saint': 3242, 'donna': 3243, 'horrid': 3244, 'viciou': 3245, 'evolv': 3246, 'ought': 3247, 'sixti': 3248, 'marin': 3249, 'hollow': 3250, 'karen': 3251, 'pray': 3252, 'contrari': 3253, 'brazil': 3254, 'q': 3255, 'rambo': 3256, 'album': 3257, 'kenneth': 3258, 'eyr': 3259, 'packag': 3260, 'choreographi': 3261, 'li': 3262, 'coloni': 3263, 'candid': 3264, 'boast': 3265, 'option': 3266, 'nerd': 3267, 'overr': 3268, 'ramon': 3269, 'mildr': 3270, 'dose': 3271, 'defi': 3272, 'beatti': 3273, 'ireland': 3274, 'conserv': 3275, 'mummi': 3276, 'kapoor': 3277, 'stole': 3278, 'blade': 3279, 'twelv': 3280, 'protest': 3281, 'jazz': 3282, 'confirm': 3283, 'funer': 3284, 'natali': 3285, 'global': 3286, 'astonish': 3287, 'flame': 3288, 'fulci': 3289, 'kirk': 3290, 'collabor': 3291, 'trio': 3292, 'detract': 3293, 'altman': 3294, 'destini': 3295, 'audio': 3296, 'blake': 3297, 'mystic': 3298, 'yellow': 3299, 'nicholson': 3300, 'tommi': 3301, 'bottl': 3302, 'whip': 3303, 'leap': 3304, 'racial': 3305, 'enterpris': 3306, 'spit': 3307, 'shade': 3308, 'bull': 3309, 'delici': 3310, 'inherit': 3311, 'reunit': 3312, 'staff': 3313, 'harder': 3314, 'adolesc': 3315, 'threw': 3316, 'meaningless': 3317, 'altogeth': 3318, 'neo': 3319, 'merci': 3320, 'enchant': 3321, 'visibl': 3322, 'swedish': 3323, 'vivid': 3324, 'pseudo': 3325, 'todd': 3326, 'bedroom': 3327, 'popcorn': 3328, 'fonda': 3329, 'decor': 3330, 'await': 3331, 'lawrenc': 3332, 'synopsi': 3333, 'ruthless': 3334, 'madonna': 3335, 'exhibit': 3336, 'reserv': 3337, 'roommat': 3338, 'leonard': 3339, 'respond': 3340, 'lemmon': 3341, 'moodi': 3342, 'wire': 3343, 'befriend': 3344, 'atlanti': 3345, 'crocodil': 3346, 'tip': 3347, 'jew': 3348, 'kennedi': 3349, 'uneven': 3350, 'suspici': 3351, 'voight': 3352, 'bust': 3353, 'fanat': 3354, 'edi': 3355, 'garner': 3356, 'unsettl': 3357, 'incident': 3358, 'ventur': 3359, 'palma': 3360, 'holli': 3361, 'bargain': 3362, 'voyag': 3363, 'dimens': 3364, 'clint': 3365, 'bradi': 3366, 'clumsi': 3367, 'chao': 3368, 'rural': 3369, 'carl': 3370, 'audit': 3371, 'bold': 3372, '2007': 3373, 'centr': 3374, 'abysm': 3375, 'imperson': 3376, 'cuba': 3377, 'cd': 3378, '2nd': 3379, 'ant': 3380, 'neglect': 3381, 'acknowledg': 3382, 'tiger': 3383, 'elimin': 3384, 'versu': 3385, 'cari': 3386, 'hart': 3387, 'nearbi': 3388, 'immigr': 3389, 'trail': 3390, 'wealth': 3391, 'daddi': 3392, 'mall': 3393, 'poetic': 3394, 'characterist': 3395, 'humili': 3396, 'lit': 3397, 'echo': 3398, 'troop': 3399, 'timon': 3400, 'celluloid': 3401, 'mickey': 3402, 'pun': 3403, 'jeffrey': 3404, 'prejudic': 3405, 'solo': 3406, 'homer': 3407, 'infect': 3408, 'collaps': 3409, 'mistaken': 3410, 'saga': 3411, 'repuls': 3412, 'marshal': 3413, 'domest': 3414, 'paus': 3415, 'cake': 3416, 'coffe': 3417, 'harvey': 3418, 'sore': 3419, 'coat': 3420, 'assembl': 3421, 'leon': 3422, 'chest': 3423, '1996': 3424, 'hbo': 3425, 'apolog': 3426, 'undoubtedli': 3427, 'equip': 3428, 'milk': 3429, 'olivi': 3430, 'tribe': 3431, 'inan': 3432, 'inappropri': 3433, 'promin': 3434, 'gear': 3435, 'ginger': 3436, 'interrupt': 3437, 'pant': 3438, 'vulgar': 3439, 'maggi': 3440, 'instant': 3441, 'aveng': 3442, 'pen': 3443, 'jenni': 3444, 'primari': 3445, 'trace': 3446, 'airplan': 3447, 'brooklyn': 3448, 'highest': 3449, 'humbl': 3450, 'consum': 3451, 'embrac': 3452, 'exot': 3453, 'colleagu': 3454, 'devast': 3455, 'institut': 3456, 'furthermor': 3457, 'colonel': 3458, 'florida': 3459, 'pot': 3460, 'retain': 3461, 'solut': 3462, 'polanski': 3463, '1999': 3464, 'rick': 3465, 'linda': 3466, '3rd': 3467, 'strain': 3468, 'bowl': 3469, 'illog': 3470, 'dian': 3471, 'outer': 3472, 'seduct': 3473, 'principl': 3474, 'godzilla': 3475, 'descend': 3476, 'disabl': 3477, 'cope': 3478, 'dutch': 3479, 'gender': 3480, 'ya': 3481, 'wive': 3482, 'sale': 3483, 'poke': 3484, 'smaller': 3485, 'glamor': 3486, 'primarili': 3487, 'mixtur': 3488, 'vast': 3489, 'inferior': 3490, 'cue': 3491, 'secondli': 3492, 'lol': 3493, 'devoid': 3494, 'beneath': 3495, 'blatant': 3496, 'yard': 3497, 'hal': 3498, 'gloriou': 3499, 'scope': 3500, 'dud': 3501, 'predecessor': 3502, 'dive': 3503, 'rabbit': 3504, 'bubbl': 3505, 'gundam': 3506, 'domino': 3507, 'shirley': 3508, 'pearl': 3509, 'senseless': 3510, 'talki': 3511, 'garbo': 3512, 'alert': 3513, 'invas': 3514, 'april': 3515, 'casual': 3516, 'hideou': 3517, 'countrysid': 3518, 'alfr': 3519, 'myer': 3520, 'museum': 3521, 'disjoint': 3522, 'shelf': 3523, 'simplist': 3524, 'trademark': 3525, 'streep': 3526, 'z': 3527, 'grinch': 3528, 'breed': 3529, 'aggress': 3530, 'arab': 3531, 'et': 3532, 'vanish': 3533, 'sh': 3534, 'experiment': 3535, 'illeg': 3536, 'robinson': 3537, 'hopeless': 3538, 'boom': 3539, 'disgrac': 3540, 'uwe': 3541, 'loyal': 3542, 'stir': 3543, 'hardcor': 3544, 'defens': 3545, 'applaud': 3546, 'slide': 3547, 'stellar': 3548, 'mail': 3549, 'obtain': 3550, 'maci': 3551, 'mayor': 3552, 'rendit': 3553, 'oz': 3554, 'acid': 3555, 'robberi': 3556, 'khan': 3557, 'unhappi': 3558, 'stack': 3559, 'spider': 3560, 'scroog': 3561, 'blew': 3562, 'craze': 3563, 'counter': 3564, 'grandfath': 3565, 'declin': 3566, 'amanda': 3567, 'wont': 3568, 'dicken': 3569, 'tempt': 3570, 'rifl': 3571, 'recruit': 3572, 'incomprehens': 3573, 'fri': 3574, 'berlin': 3575, 'tenant': 3576, 'span': 3577, 'psychic': 3578, 'emphasi': 3579, 'soccer': 3580, 'topless': 3581, 'dismiss': 3582, 'diana': 3583, 'hartley': 3584, 'bitch': 3585, 'sympath': 3586, 'revolt': 3587, 'shed': 3588, 'resurrect': 3589, 'parad': 3590, 'sibl': 3591, 'ration': 3592, 'goer': 3593, 'porno': 3594, 'trashi': 3595, 'justin': 3596, 'wet': 3597, 'shaw': 3598, 'niro': 3599, 'faster': 3600, 'ethnic': 3601, 'lumet': 3602, 'woo': 3603, 'intim': 3604, 'riot': 3605, 'region': 3606, 'nephew': 3607, 'slick': 3608, 'lena': 3609, 'commend': 3610, 'andr': 3611, 'wendi': 3612, 'immort': 3613, 'steam': 3614, 'weakest': 3615, 'gap': 3616, 'patriot': 3617, 'hesit': 3618, '00': 3619, 'mario': 3620, 'ballet': 3621, 'partial': 3622, 'wheel': 3623, 'ensur': 3624, 'feminist': 3625, 'honesti': 3626, 'enlighten': 3627, 'rider': 3628, 'biographi': 3629, 'hopper': 3630, 'choru': 3631, 'jonathan': 3632, 'worm': 3633, 'dealer': 3634, 'farmer': 3635, 'unreal': 3636, 'eager': 3637, 'sappi': 3638, 'confin': 3639, 'similarli': 3640, 'nostalg': 3641, 'safeti': 3642, 'util': 3643, 'franco': 3644, 'leo': 3645, 'vice': 3646, 'sandra': 3647, 'composit': 3648, 'blunt': 3649, 'prequel': 3650, 'mutant': 3651, 'morri': 3652, 'kingdom': 3653, 'psychopath': 3654, 'skull': 3655, 'victori': 3656, 'snap': 3657, 'wore': 3658, 'owen': 3659, 'properti': 3660, 'charlott': 3661, 'repress': 3662, 'hung': 3663, 'macarthur': 3664, 'strand': 3665, 'tail': 3666, 'del': 3667, 'tad': 3668, 'rocki': 3669, 'montana': 3670, 'thru': 3671, 'drum': 3672, 'repli': 3673, 'nervou': 3674, 'rope': 3675, 'exit': 3676, 'hyde': 3677, 'snl': 3678, 'bonu': 3679, 'whoopi': 3680, 'valuabl': 3681, 'acquir': 3682, 'speci': 3683, 'bergman': 3684, 'compass': 3685, 'pattern': 3686, 'latin': 3687, '1972': 3688, 'rambl': 3689, 'cg': 3690, 'heartbreak': 3691, 'bumbl': 3692, 'dalton': 3693, 'farrel': 3694, 'campbel': 3695, 'miseri': 3696, 'despair': 3697, 'deed': 3698, 'bow': 3699, 'drain': 3700, 'kyle': 3701, 'compens': 3702, 'recycl': 3703, 'emperor': 3704, 'dust': 3705, 'radic': 3706, 'rotten': 3707, 'gimmick': 3708, 'wacki': 3709, 'contempl': 3710, 'bleed': 3711, 'rapist': 3712, 'olli': 3713, 'percept': 3714, 'romp': 3715, 'mistress': 3716, 'airport': 3717, '35': 3718, 'da': 3719, 'orson': 3720, 'chess': 3721, 'pour': 3722, 'slug': 3723, 'tonight': 3724, 'downhil': 3725, 'gal': 3726, 'carradin': 3727, 'oppress': 3728, 'martian': 3729, 'roth': 3730, 'mislead': 3731, 'arguabl': 3732, '1983': 3733, 'pervert': 3734, 'taught': 3735, 'tackl': 3736, 'stilt': 3737, 'preach': 3738, 'banal': 3739, 'paltrow': 3740, 'champion': 3741, 'attorney': 3742, 'dazzl': 3743, 'melodi': 3744, 'edgar': 3745, 'belt': 3746, 'pervers': 3747, 'programm': 3748, 'arc': 3749, 'slash': 3750, 'shelley': 3751, 'heal': 3752, 'pursuit': 3753, 'tooth': 3754, 'unpredict': 3755, 'uplift': 3756, 'vocal': 3757, 'employe': 3758, 'raymond': 3759, 'marti': 3760, 'duval': 3761, 'mesmer': 3762, 'gambl': 3763, 'cleverli': 3764, 'rubi': 3765, 'virginia': 3766, 'passeng': 3767, 'franki': 3768, 'orang': 3769, 'sensat': 3770, 'closest': 3771, 'graham': 3772, 'chicken': 3773, 'tiresom': 3774, 'dixon': 3775, 'conneri': 3776, 'vengeanc': 3777, 'poem': 3778, 'plight': 3779, 'maid': 3780, 'bela': 3781, 'extens': 3782, 'volum': 3783, 'bay': 3784, 'lundgren': 3785, 'outing': 3786, 'clone': 3787, 'gerard': 3788, 'profan': 3789, 'climact': 3790, 'scottish': 3791, 'habit': 3792, 'tube': 3793, 'inject': 3794, 'numb': 3795, 'suffic': 3796, 'yawn': 3797, 'swallow': 3798, 'abraham': 3799, 'mute': 3800, 'iran': 3801, 'pokemon': 3802, 'calm': 3803, 'giggl': 3804, 'monologu': 3805, 'paranoia': 3806, 'secretli': 3807, 'whine': 3808, 'quarter': 3809, 'engross': 3810, 'convincingli': 3811, 'crystal': 3812, '1968': 3813, 'amitabh': 3814, 'sirk': 3815, 'richardson': 3816, 'abort': 3817, 'dispos': 3818, 'fed': 3819, 'poetri': 3820, 'lowest': 3821, 'frankenstein': 3822, 'franci': 3823, 'trend': 3824, 'surpass': 3825, 'earl': 3826, 'austen': 3827, 'grotesqu': 3828, 'backward': 3829, 'profess': 3830, 'expand': 3831, 'nichola': 3832, 'ethan': 3833, 'chicago': 3834, 'spock': 3835, 'linger': 3836, 'im': 3837, 'junior': 3838, 'underst': 3839, 'meander': 3840, 'bend': 3841, 'taxi': 3842, 'plod': 3843, 'septemb': 3844, 'waitress': 3845, 'dysfunct': 3846, 'rubber': 3847, 'econom': 3848, 'compliment': 3849, 'descent': 3850, 'cannon': 3851, 'spoke': 3852, 'simplic': 3853, 'catchi': 3854, 'nostalgia': 3855, 'rant': 3856, 'instrument': 3857, 'greedi': 3858, 'sue': 3859, 'myth': 3860, 'lure': 3861, 'tourist': 3862, 'muddl': 3863, 'hum': 3864, 'der': 3865, 'mundan': 3866, 'household': 3867, 'literatur': 3868, 'stallon': 3869, 'eugen': 3870, 'damon': 3871, 'duck': 3872, 'recognis': 3873, 'flee': 3874, 'phoni': 3875, 'coast': 3876, 'recognit': 3877, 'hello': 3878, 'deaf': 3879, 'louis': 3880, 'insur': 3881, 'phantom': 3882, 'sissi': 3883, 'stale': 3884, 'irrelev': 3885, 'carel': 3886, 'mankind': 3887, 'map': 3888, 'occupi': 3889, 'equival': 3890, 'furi': 3891, 'omen': 3892, 'eaten': 3893, 'dement': 3894, 'alongsid': 3895, 'cent': 3896, 'firstli': 3897, 'molli': 3898, 'mortal': 3899, 'dictat': 3900, 'june': 3901, 'randi': 3902, 'crucial': 3903, 'lang': 3904, 'bacal': 3905, 'lengthi': 3906, 'rooney': 3907, 'blackmail': 3908, 'labor': 3909, 'bump': 3910, 'loyalti': 3911, 'rude': 3912, 'reign': 3913, 'damm': 3914, 'bike': 3915, 'likewis': 3916, 'onlin': 3917, 'newli': 3918, 'dreari': 3919, 'wisdom': 3920, 'distinguish': 3921, 'freez': 3922, 'heel': 3923, 'cyborg': 3924, 'twilight': 3925, 'daisi': 3926, 'buffalo': 3927, 'antwon': 3928, 'drake': 3929, 'ashley': 3930, '1973': 3931, 'biko': 3932, 'grayson': 3933, 'barrymor': 3934, 'exposur': 3935, 'inher': 3936, 'butler': 3937, 'ridden': 3938, 'sailor': 3939, 'prey': 3940, 'unorigin': 3941, 'provoc': 3942, 'baddi': 3943, 'boxer': 3944, 'basketbal': 3945, 'attribut': 3946, 'pink': 3947, 'worn': 3948, 'proce': 3949, 'vein': 3950, 'keith': 3951, 'startl': 3952, 'tunnel': 3953, 'chronicl': 3954, 'emphas': 3955, 'interior': 3956, 'incorpor': 3957, 'approv': 3958, 'nineti': 3959, 'analysi': 3960, 'undeni': 3961, 'barrel': 3962, 'belushi': 3963, 'indiffer': 3964, 'drift': 3965, 'unrel': 3966, 'degrad': 3967, 'condemn': 3968, 'predat': 3969, 'bunni': 3970, 'carla': 3971, 'improvis': 3972, 'nicol': 3973, 'er': 3974, 'mighti': 3975, 'othello': 3976, 'elm': 3977, 'substitut': 3978, 'simmon': 3979, 'meg': 3980, 'robbin': 3981, 'fleet': 3982, 'underli': 3983, 'stalker': 3984, 'millionair': 3985, 'walsh': 3986, 'meyer': 3987, 'hypnot': 3988, 'julian': 3989, 'mormon': 3990, 'nyc': 3991, 'dolph': 3992, 'agenda': 3993, 'lampoon': 3994, 'palac': 3995, 'mtv': 3996, 'enthusiasm': 3997, 'firm': 3998, 'reid': 3999, 'priceless': 4000, '3d': 4001, 'hay': 4002, 'watson': 4003, 'vital': 4004, 'warmth': 4005, 'roof': 4006, 'unawar': 4007, 'exquisit': 4008, 'edgi': 4009, 'errol': 4010, 'shove': 4011, 'alison': 4012, 'novak': 4013, 'marion': 4014, 'disord': 4015, 'alarm': 4016, 'greed': 4017, 'rukh': 4018, 'ponder': 4019, '13th': 4020, 'championship': 4021, 'petti': 4022, 'pamela': 4023, 'testament': 4024, 'randomli': 4025, 'nun': 4026, 'angela': 4027, 'gestur': 4028, 'thompson': 4029, 'eastern': 4030, 'minimum': 4031, 'glanc': 4032, 'sergeant': 4033, 'valentin': 4034, 'profit': 4035, 'campaign': 4036, 'what': 4037, 'drip': 4038, 'spain': 4039, 'session': 4040, 'distort': 4041, 'peril': 4042, 'peck': 4043, 'unleash': 4044, 'preserv': 4045, 'cassidi': 4046, 'orlean': 4047, 'coup': 4048, 'simultan': 4049, 'iraq': 4050, 'israel': 4051, '1933': 4052, 'crown': 4053, 'beatl': 4054, 'showdown': 4055, 'zizek': 4056, 'shootout': 4057, 'perpetu': 4058, 'jan': 4059, 'travesti': 4060, 'calib': 4061, 'bro': 4062, 'scotland': 4063, 'buster': 4064, 'realm': 4065, 'crow': 4066, 'restrain': 4067, 'empathi': 4068, 'gentleman': 4069, 'han': 4070, 'stroke': 4071, 'stake': 4072, 'exposit': 4073, 'regist': 4074, 'climat': 4075, 'valley': 4076, 'brenda': 4077, 'wig': 4078, 'rout': 4079, 'sabrina': 4080, 'miyazaki': 4081, 'contradict': 4082, 'cream': 4083, 'kurosawa': 4084, 'quinn': 4085, 'reson': 4086, 'crawl': 4087, 'cooki': 4088, '1984': 4089, 'din': 4090, 'mon': 4091, 'represent': 4092, 'unimagin': 4093, 'fido': 4094, 'soderbergh': 4095, 'warrant': 4096, 'femm': 4097, 'businessman': 4098, 'greg': 4099, 'cloud': 4100, 'sucker': 4101, 'censor': 4102, 'abomin': 4103, 'absent': 4104, 'darren': 4105, 'derang': 4106, 'tacki': 4107, '1987': 4108, 'compromis': 4109, 'unsatisfi': 4110, 'geek': 4111, 'wax': 4112, 'delic': 4113, 'unseen': 4114, '1997': 4115, 'stargat': 4116, 'demis': 4117, 'shaki': 4118, 'distress': 4119, 'mclaglen': 4120, 'meryl': 4121, 'sammi': 4122, 'perceiv': 4123, 'passabl': 4124, 'monoton': 4125, 'baldwin': 4126, 'spacey': 4127, 'pole': 4128, 'shoddi': 4129, 'dana': 4130, 'ross': 4131, 'crawford': 4132, 'traumat': 4133, 'josh': 4134, 'ustinov': 4135, 'fuller': 4136, 'pretens': 4137, 'painter': 4138, 'anchor': 4139, 'valid': 4140, 'norm': 4141, 'primit': 4142, 'jewel': 4143, 'judgment': 4144, '1993': 4145, 'reluct': 4146, 'tech': 4147, 'fenc': 4148, 'tarantino': 4149, 'sid': 4150, 'unravel': 4151, 'seal': 4152, 'austin': 4153, 'expedit': 4154, 'antonioni': 4155, 'dee': 4156, 'accuraci': 4157, 'deniro': 4158, 'kumar': 4159, 'verbal': 4160, 'fog': 4161, 'wholli': 4162, 'correctli': 4163, 'click': 4164, 'uncov': 4165, 'deceas': 4166, 'clash': 4167, 'nathan': 4168, 'furiou': 4169, 'polici': 4170, 'exclus': 4171, 'mode': 4172, 'hallucin': 4173, 'debt': 4174, 'tax': 4175, 'dreck': 4176, 'unfair': 4177, 'seldom': 4178, '1995': 4179, 'darn': 4180, 'roller': 4181, '3000': 4182, 'pocket': 4183, '1971': 4184, 'sustain': 4185, 'wretch': 4186, 'fart': 4187, 'patienc': 4188, 'logan': 4189, 'alec': 4190, 'shanghai': 4191, 'sunni': 4192, 'slam': 4193, 'behold': 4194, 'temper': 4195, 'enforc': 4196, 'conduct': 4197, 'nicola': 4198, '2008': 4199, 'fabric': 4200, 'crippl': 4201, 'fought': 4202, 'wang': 4203, 'sheet': 4204, 'clerk': 4205, 'murray': 4206, 'ritual': 4207, 'sand': 4208, 'bake': 4209, 'joel': 4210, 'trait': 4211, 'malon': 4212, 'vanc': 4213, 'divid': 4214, 'fundament': 4215, 'penni': 4216, 'tactic': 4217, 'schedul': 4218, 'soup': 4219, 'guitar': 4220, 'outlin': 4221, 'stuart': 4222, 'critiqu': 4223, 'conscious': 4224, 'despis': 4225, 'legaci': 4226, 'exhaust': 4227, 'shell': 4228, 'squad': 4229, 'rita': 4230, 'stark': 4231, 'phil': 4232, 'helpless': 4233, 'canyon': 4234, 'robber': 4235, 'bias': 4236, 'bridget': 4237, 'grief': 4238, 'scriptwrit': 4239, 'clau': 4240, 'preposter': 4241, 'technicolor': 4242, 'isabel': 4243, 'pete': 4244, 'sweep': 4245, 'runner': 4246, 'preston': 4247, 'jacket': 4248, 'flair': 4249, 'propos': 4250, 'restrict': 4251, 'consciou': 4252, 'newman': 4253, 'connor': 4254, 'russia': 4255, 'drove': 4256, 'invad': 4257, 'kansa': 4258, 'liberti': 4259, 'jodi': 4260, 'marc': 4261, 'culmin': 4262, 'boyl': 4263, 'inabl': 4264, 'cigarett': 4265, 'sniper': 4266, 'rehash': 4267, 'delv': 4268, 'alley': 4269, 'agenc': 4270, 'lacklust': 4271, 'passag': 4272, 'gregori': 4273, 'alicia': 4274, 'implic': 4275, 'downey': 4276, 'vomit': 4277, 'sentinel': 4278, 'rear': 4279, 'palanc': 4280, 'bloom': 4281, 'unexpectedli': 4282, 'sugar': 4283, 'horn': 4284, 'cap': 4285, 'chainsaw': 4286, 'tripe': 4287, 'yeti': 4288, 'rod': 4289, '22': 4290, 'aesthet': 4291, 'vet': 4292, 'awhil': 4293, 'feat': 4294, 'karl': 4295, 'wrench': 4296, 'rampag': 4297, 'sharon': 4298, 'pale': 4299, 'lush': 4300, 'delet': 4301, 'asylum': 4302, '1936': 4303, 'mccoy': 4304, 'foxx': 4305, 'improb': 4306, 'rehears': 4307, 'ladder': 4308, 'arrow': 4309, 'behaviour': 4310, 'bacon': 4311, 'tendenc': 4312, 'kolchak': 4313, '1920': 4314, 'prank': 4315, 'paramount': 4316, 'aristocrat': 4317, 'hungri': 4318, 'weav': 4319, 'sung': 4320, 'globe': 4321, 'underneath': 4322, 'wildli': 4323, 'coaster': 4324, 'minu': 4325, 'rumor': 4326, 'fright': 4327, 'thunderbird': 4328, 'amazon': 4329, 'stream': 4330, '1988': 4331, 'conscienc': 4332, 'tomorrow': 4333, 'el': 4334, 'rhythm': 4335, 'elit': 4336, 'spice': 4337, 'newcom': 4338, 'shortcom': 4339, 'hulk': 4340, 'tasteless': 4341, 'visitor': 4342, 'loneli': 4343, 'scoop': 4344, 'paradis': 4345, 'financ': 4346, 'basing': 4347, 'wagner': 4348, 'filler': 4349, 'hackney': 4350, 'lurk': 4351, 'suffici': 4352, '19th': 4353, 'suspicion': 4354, '1978': 4355, 'couch': 4356, 'recogniz': 4357, 'leigh': 4358, 'counterpart': 4359, 'paxton': 4360, 'smell': 4361, 'standout': 4362, 'entranc': 4363, '1939': 4364, '75': 4365, 'bread': 4366, 'hopkin': 4367, 'dirt': 4368, 'iv': 4369, 'brit': 4370, 'rub': 4371, 'quietli': 4372, 'ingeni': 4373, 'curli': 4374, 'beverli': 4375, 'minist': 4376, 'secondari': 4377, 'ram': 4378, 'atroc': 4379, 'inmat': 4380, 'straightforward': 4381, 'impos': 4382, 'lectur': 4383, 'grudg': 4384, 'cancer': 4385, 'en': 4386, 'heist': 4387, 'abrupt': 4388, 'teas': 4389, 'tierney': 4390, 'choppi': 4391, 'naughti': 4392, 'worship': 4393, 'springer': 4394, 'chamberlain': 4395, 'immers': 4396, 'literari': 4397, 'posey': 4398, '1989': 4399, 'wwe': 4400, 'penn': 4401, 'chavez': 4402, 'injuri': 4403, 'lindsay': 4404, 'geni': 4405, 'attenborough': 4406, 'transcend': 4407, 'entitl': 4408, 'sublim': 4409, '1986': 4410, 'clan': 4411, 'convert': 4412, 'enthral': 4413, 'morbid': 4414, 'laurenc': 4415, 'skeptic': 4416, 'cattl': 4417, 'quaid': 4418, 'misguid': 4419, 'policeman': 4420, 'variat': 4421, 'watcher': 4422, 'missil': 4423, 'moreov': 4424, 'ace': 4425, 'nemesi': 4426, 'sassi': 4427, 'ratso': 4428, 'bernard': 4429, 'heartfelt': 4430, 'yearn': 4431, 'nolan': 4432, 'duel': 4433, 'net': 4434, 'esther': 4435, 'unexplain': 4436, 'tyler': 4437, 'bye': 4438, 'graini': 4439, 'facil': 4440, 'bean': 4441, '1979': 4442, 'uncut': 4443, 'spiral': 4444, 'vader': 4445, 'dont': 4446, 'grin': 4447, 'buzz': 4448, 'puppi': 4449, 'poe': 4450, 'characteris': 4451, 'hopelessli': 4452, 'rosemari': 4453, 'youngest': 4454, 'egg': 4455, 'steadi': 4456, 'brood': 4457, 'obstacl': 4458, 'moder': 4459, 'hk': 4460, 'cruelti': 4461, 'artsi': 4462, 'out': 4463, 'enabl': 4464, 'mytholog': 4465, 'setup': 4466, 'reliabl': 4467, 'diari': 4468, 'kitti': 4469, 'carlito': 4470, 'kidman': 4471, 'baffl': 4472, 'despic': 4473, 'gillian': 4474, 'weather': 4475, 'bewar': 4476, 'athlet': 4477, 'heap': 4478, 'decept': 4479, 'exterior': 4480, 'disastr': 4481, 'underworld': 4482, 'brendan': 4483, 'effici': 4484, 'bounc': 4485, 'sweat': 4486, 'martha': 4487, 'kline': 4488, '1969': 4489, 'narrow': 4490, 'hammi': 4491, 'bronson': 4492, 'acquaint': 4493, 'patricia': 4494, 'oblig': 4495, 'clueless': 4496, 'spontan': 4497, 'niec': 4498, 'preming': 4499, 'hain': 4500, 'fuel': 4501, 'christin': 4502, 'gina': 4503, 'goof': 4504, 'viewpoint': 4505, 'dilemma': 4506, 'taboo': 4507, 'headach': 4508, 'shatter': 4509, 'loath': 4510, 'harmless': 4511, 'angst': 4512, 'insipid': 4513, 'dandi': 4514, 'housewif': 4515, 'lester': 4516, 'preachi': 4517, 'injur': 4518, 'astound': 4519, 'trigger': 4520, 'circu': 4521, '19': 4522, 'biker': 4523, 'sooner': 4524, 'suprem': 4525, 'analyz': 4526, 'mayhem': 4527, 'loi': 4528, 'mermaid': 4529, 'candl': 4530, 'rome': 4531, 'outlaw': 4532, 'fontain': 4533, 'tick': 4534, 'enlist': 4535, '73': 4536, 'virtu': 4537, 'uh': 4538, 'hepburn': 4539, 'scar': 4540, 'renaiss': 4541, 'sleepwalk': 4542, 'claustrophob': 4543, 'hokey': 4544, 'hooker': 4545, 'idol': 4546, 'zoom': 4547, 'salt': 4548, 'immatur': 4549, 'phenomenon': 4550, 'surgeri': 4551, 'steer': 4552, 'bent': 4553, 'boston': 4554, 'overlong': 4555, 'camcord': 4556, 'dish': 4557, 'dismal': 4558, 'stair': 4559, 'slimi': 4560, 'intric': 4561, 'cassavet': 4562, 'filth': 4563, 'guin': 4564, 'hostag': 4565, 'macho': 4566, 'glorifi': 4567, 'scorses': 4568, 'spade': 4569, 'stimul': 4570, 'contempt': 4571, 'oldest': 4572, 'whore': 4573, 'redund': 4574, 'amor': 4575, 'fluff': 4576, 'foolish': 4577, 'corbett': 4578, 'ebert': 4579, 'ariel': 4580, 'tripl': 4581, 'gere': 4582, 'sox': 4583, 'mutual': 4584, 'flag': 4585, 'margin': 4586, 'conquer': 4587, 'assert': 4588, 'shred': 4589, 'spree': 4590, 'preced': 4591, '1976': 4592, 'corman': 4593, 'harold': 4594, 'transplant': 4595, 'gasp': 4596, 'faint': 4597, 'keen': 4598, 'frantic': 4599, 'perman': 4600, 'naschi': 4601, 'widescreen': 4602, 'messi': 4603, 'muscl': 4604, 'obligatori': 4605, 'trivia': 4606, 'mount': 4607, 'beard': 4608, 'strongest': 4609, 'zane': 4610, 'astronaut': 4611, 'nolt': 4612, 'cow': 4613, 'shield': 4614, 'joker': 4615, 'radiat': 4616, 'flashi': 4617, 'alvin': 4618, 'flirt': 4619, 'gabl': 4620, 'antagonist': 4621, 'rhyme': 4622, '1981': 4623, 'dwarf': 4624, 'down': 4625, 'proport': 4626, 'remad': 4627, 'fascist': 4628, 'cohen': 4629, 'schlock': 4630, 'spinal': 4631, 'cush': 4632, 'fishburn': 4633, '28': 4634, 'bachelor': 4635, 'persuad': 4636, 'claud': 4637, 'mobil': 4638, 'inflict': 4639, 'brush': 4640, 'flock': 4641, 'ritchi': 4642, 'off': 4643, 'divin': 4644, 'interestingli': 4645, 'carey': 4646, '1945': 4647, 'wield': 4648, 'bitten': 4649, 'triangl': 4650, 'departur': 4651, 'scandal': 4652, 'strive': 4653, 'vaniti': 4654, 'info': 4655, 'instruct': 4656, 'barn': 4657, '95': 4658, 'boob': 4659, 'someday': 4660, 'danish': 4661, 'neurot': 4662, 'aborigin': 4663, 'resum': 4664, 'repris': 4665, 'sensual': 4666, 'deer': 4667, 'raj': 4668, 'discern': 4669, 'archiv': 4670, 'www': 4671, 'mol': 4672, 'hara': 4673, 'proclaim': 4674, 'bate': 4675, 'casino': 4676, 'heartwarm': 4677, 'artwork': 4678, 'neill': 4679, 'recit': 4680, 'dim': 4681, 'mobster': 4682, 'senior': 4683, 'hug': 4684, 'banter': 4685, 'kathryn': 4686, 'jade': 4687, 'dame': 4688, 'rot': 4689, 'harrison': 4690, 'carlo': 4691, 'ish': 4692, 'cliffhang': 4693, 'cb': 4694, 'frontier': 4695, 'biblic': 4696, 'luka': 4697, 'earnest': 4698, 'submit': 4699, 'cycl': 4700, 'melissa': 4701, 'cher': 4702, 'europa': 4703, 'helm': 4704, 'hilar': 4705, 'loretta': 4706, 'axe': 4707, 'hapless': 4708, 'fragil': 4709, 'timberlak': 4710, 'dylan': 4711, 'wendigo': 4712, 'pixar': 4713, 'parson': 4714, 'miracul': 4715, 'traffic': 4716, 'clad': 4717, 'pickford': 4718, 'vibrant': 4719, 'colin': 4720, 'pacif': 4721, 'prophet': 4722, 'undermin': 4723, 'anton': 4724, 'electron': 4725, 'static': 4726, 'wardrob': 4727, 'lucil': 4728, 'misfortun': 4729, 'shepherd': 4730, 'legitim': 4731, 'venom': 4732, 'bondag': 4733, 'redneck': 4734, 'alexandr': 4735, 'sicken': 4736, 'holocaust': 4737, 'orphan': 4738, 'choke': 4739, 'token': 4740, 'vanessa': 4741, 'cerebr': 4742, 'rooki': 4743, 'isra': 4744, 'flavor': 4745, 'lui': 4746, 'articl': 4747, 'trier': 4748, 'akin': 4749, 'foil': 4750, 'antholog': 4751, 'toronto': 4752, 'uma': 4753, 'seedi': 4754, 'aris': 4755, 'eli': 4756, 'razor': 4757, 'bikini': 4758, 'blatantli': 4759, 'mathieu': 4760, 'mason': 4761, 'estrang': 4762, 'jordan': 4763, 'marlon': 4764, 'nope': 4765, 'northern': 4766, 'winchest': 4767, 'jo': 4768, 'pc': 4769, 'feast': 4770, 'breakfast': 4771, 'vile': 4772, 'http': 4773, 'illus': 4774, 'milo': 4775, 'clinic': 4776, 'dudley': 4777, 'knightley': 4778, 'styliz': 4779, 'turd': 4780, 'tack': 4781, 'outdat': 4782, 'peer': 4783, 'abund': 4784, 'glare': 4785, 'shorter': 4786, 'psych': 4787, 'comprehend': 4788, 'disregard': 4789, 'swept': 4790, 'howl': 4791, 'huston': 4792, 'retriev': 4793, 'smack': 4794, 'deem': 4795, 'cartoonish': 4796, 'nightclub': 4797, 'highway': 4798, 'audrey': 4799, 'wrestler': 4800, 'ceremoni': 4801, 'magician': 4802, 'affleck': 4803, 'leather': 4804, 'fifth': 4805, 'feminin': 4806, 'oppon': 4807, 'frog': 4808, 'gunga': 4809, 'gilbert': 4810, 'linear': 4811, 'boyer': 4812, 'ideolog': 4813, 'charlton': 4814, 'cuban': 4815, 'compris': 4816, 'lavish': 4817, 'chip': 4818, 'uniformli': 4819, 'lighter': 4820, 'bastard': 4821, 'breakdown': 4822, 'bogu': 4823, 'plate': 4824, 'mitch': 4825, 'boo': 4826, 'salman': 4827, 'greet': 4828, 'newer': 4829, 'energet': 4830, 'moe': 4831, 'spine': 4832, 'collector': 4833, '1994': 4834, 'btw': 4835, 'cemeteri': 4836, 'toe': 4837, 'potter': 4838, 'phenomen': 4839, 'tara': 4840, 'conrad': 4841, 'summar': 4842, 'evolut': 4843, 'corn': 4844, 'braveheart': 4845, 'einstein': 4846, 'durat': 4847, 'snatch': 4848, 'deliver': 4849, 'whack': 4850, '1991': 4851, 'monument': 4852, '4th': 4853, 'sleaz': 4854, 'client': 4855, 'lifeless': 4856, 'senat': 4857, 'spawn': 4858, 'goldsworthi': 4859, 'firmli': 4860, 'liu': 4861, 'gilliam': 4862, 'sorrow': 4863, 'jare': 4864, 'evelyn': 4865, 'pronounc': 4866, 'bori': 4867, 'wtf': 4868, 'embark': 4869, 'capot': 4870, 'belli': 4871, 'constitut': 4872, 'jedi': 4873, '1977': 4874, 'jam': 4875, 'healthi': 4876, 'inaccuraci': 4877, 'bulk': 4878, 'signal': 4879, 'mcqueen': 4880, 'ie': 4881, 'replay': 4882, 'appl': 4883, 'creek': 4884, 'kent': 4885, 'lex': 4886, 'luxuri': 4887, 'ol': 4888, 'trauma': 4889, 'fluid': 4890, 'outright': 4891, 'neatli': 4892, 'armstrong': 4893, 'judd': 4894, 'cecil': 4895, 'undertak': 4896, 'undead': 4897, 'historian': 4898, 'kazan': 4899, 'occup': 4900, 'randolph': 4901, 'clara': 4902, 'spectacl': 4903, 'nina': 4904, 'alleg': 4905, '1974': 4906, 'eleven': 4907, 'jule': 4908, 'poker': 4909, 'comprehens': 4910, 'aussi': 4911, 'decapit': 4912, 'vain': 4913, 'roar': 4914, 'comb': 4915, 'blur': 4916, '1985': 4917, 'carmen': 4918, 'congratul': 4919, 'inclus': 4920, 'forgiven': 4921, 'paula': 4922, 'mum': 4923, 'fruit': 4924, 'pepper': 4925, 'miniseri': 4926, 'relentless': 4927, 'conan': 4928, 'sidewalk': 4929, 'kiddi': 4930, 'tokyo': 4931, 'pioneer': 4932, 'propheci': 4933, 'ash': 4934, 'sacrif': 4935, 'palm': 4936, 'abound': 4937, 'spray': 4938, 'id': 4939, 'galaxi': 4940, 'goldblum': 4941, 'inaccur': 4942, 'knee': 4943, 'vignett': 4944, 'bait': 4945, 'basket': 4946, 'unattract': 4947, 'unsuspect': 4948, 'walt': 4949, 'meal': 4950, 'lanc': 4951, 'miami': 4952, 'genet': 4953, 'truman': 4954, 'antonio': 4955, 'subtli': 4956, 'cape': 4957, 'porter': 4958, 'curtain': 4959, 'lauren': 4960, 'rosario': 4961, 'groan': 4962, 'bsg': 4963, 'jill': 4964, 'weari': 4965, 'sparkl': 4966, 'cypher': 4967, 'evan': 4968, 'substanti': 4969, 'frontal': 4970, 'vastli': 4971, '21st': 4972, 'hostil': 4973, 'orchestr': 4974, 'epitom': 4975, 'spill': 4976, 'growth': 4977, 'turtl': 4978, 'assort': 4979, 'asset': 4980, 'verg': 4981, 'playboy': 4982, 'bravo': 4983, 'omin': 4984, 'macabr': 4985, 'reincarn': 4986, 'incorrect': 4987, 'optimist': 4988, 'detach': 4989, 'mice': 4990, 'dubiou': 4991, 'modest': 4992, 'weaker': 4993, 'handicap': 4994, 'rapidli': 4995, 'masterson': 4996, 'motorcycl': 4997, 'sophi': 4998, 'drone': 4999}\n"
     ]
    }
   ],
   "source": [
    "word_dict = build_dict(train_X)\n",
    "print(word_dict)"
   ]
  },
  {
   "cell_type": "markdown",
   "metadata": {},
   "source": [
    "**Question:** What are the five most frequently appearing (tokenized) words in the training set? Does it makes sense that these words appear frequently in the training set?"
   ]
  },
  {
   "cell_type": "markdown",
   "metadata": {},
   "source": [
    "**Answer:**"
   ]
  },
  {
   "cell_type": "code",
   "execution_count": 14,
   "metadata": {},
   "outputs": [
    {
     "name": "stdout",
     "output_type": "stream",
     "text": [
      "movi\n",
      "film\n",
      "one\n",
      "like\n",
      "time\n"
     ]
    }
   ],
   "source": [
    "# TODO: Use this space to determine the five most frequently appearing words in the training set.\n",
    "commonVocabList = list(word_dict)\n",
    "for wordInd in range(5):\n",
    "    print(commonVocabList[wordInd])\n"
   ]
  },
  {
   "cell_type": "markdown",
   "metadata": {},
   "source": [
    "### Save `word_dict`\n",
    "\n",
    "Later on when we construct an endpoint which processes a submitted review we will need to make use of the `word_dict` which we have created. As such, we will save it to a file now for future use."
   ]
  },
  {
   "cell_type": "code",
   "execution_count": 15,
   "metadata": {},
   "outputs": [],
   "source": [
    "data_dir = '../data/pytorch' # The folder we will use for storing data\n",
    "if not os.path.exists(data_dir): # Make sure that the folder exists\n",
    "    os.makedirs(data_dir)"
   ]
  },
  {
   "cell_type": "code",
   "execution_count": 16,
   "metadata": {},
   "outputs": [],
   "source": [
    "with open(os.path.join(data_dir, 'word_dict.pkl'), \"wb\") as f:\n",
    "    pickle.dump(word_dict, f)"
   ]
  },
  {
   "cell_type": "markdown",
   "metadata": {},
   "source": [
    "### Transform the reviews\n",
    "\n",
    "Now that we have our word dictionary which allows us to transform the words appearing in the reviews into integers, it is time to make use of it and convert our reviews to their integer sequence representation, making sure to pad or truncate to a fixed length, which in our case is `500`."
   ]
  },
  {
   "cell_type": "code",
   "execution_count": 17,
   "metadata": {},
   "outputs": [],
   "source": [
    "def convert_and_pad(word_dict, sentence, pad=500):\n",
    "    NOWORD = 0 # We will use 0 to represent the 'no word' category\n",
    "    INFREQ = 1 # and we use 1 to represent the infrequent words, i.e., words not appearing in word_dict\n",
    "    \n",
    "    working_sentence = [NOWORD] * pad\n",
    "    \n",
    "    for word_index, word in enumerate(sentence[:pad]):\n",
    "        if word in word_dict:\n",
    "            working_sentence[word_index] = word_dict[word]\n",
    "        else:\n",
    "            working_sentence[word_index] = INFREQ\n",
    "            \n",
    "    return working_sentence, min(len(sentence), pad)\n",
    "\n",
    "def convert_and_pad_data(word_dict, data, pad=500):\n",
    "    result = []\n",
    "    lengths = []\n",
    "    \n",
    "    for sentence in data:\n",
    "        converted, leng = convert_and_pad(word_dict, sentence, pad)\n",
    "        result.append(converted)\n",
    "        lengths.append(leng)\n",
    "        \n",
    "    return np.array(result), np.array(lengths)"
   ]
  },
  {
   "cell_type": "code",
   "execution_count": 18,
   "metadata": {},
   "outputs": [],
   "source": [
    "train_X, train_X_len = convert_and_pad_data(word_dict, train_X)\n",
    "test_X, test_X_len = convert_and_pad_data(word_dict, test_X)"
   ]
  },
  {
   "cell_type": "markdown",
   "metadata": {},
   "source": [
    "As a quick check to make sure that things are working as intended, check to see what one of the reviews in the training set looks like after having been processeed. Does this look reasonable? What is the length of a review in the training set?"
   ]
  },
  {
   "cell_type": "code",
   "execution_count": 19,
   "metadata": {},
   "outputs": [
    {
     "name": "stdout",
     "output_type": "stream",
     "text": [
      "[ 364  113 4860   94    1  793   19  811  753  339   36   34  356   28\n",
      "    6  135  554 2210  678    9  356   33  811  313 1192  126    1  580\n",
      "  131    1 3961  130    1 1519  134   10    1  225  265    0    0    0\n",
      "    0    0    0    0    0    0    0    0    0    0    0    0    0    0\n",
      "    0    0    0    0    0    0    0    0    0    0    0    0    0    0\n",
      "    0    0    0    0    0    0    0    0    0    0    0    0    0    0\n",
      "    0    0    0    0    0    0    0    0    0    0    0    0    0    0\n",
      "    0    0    0    0    0    0    0    0    0    0    0    0    0    0\n",
      "    0    0    0    0    0    0    0    0    0    0    0    0    0    0\n",
      "    0    0    0    0    0    0    0    0    0    0    0    0    0    0\n",
      "    0    0    0    0    0    0    0    0    0    0    0    0    0    0\n",
      "    0    0    0    0    0    0    0    0    0    0    0    0    0    0\n",
      "    0    0    0    0    0    0    0    0    0    0    0    0    0    0\n",
      "    0    0    0    0    0    0    0    0    0    0    0    0    0    0\n",
      "    0    0    0    0    0    0    0    0    0    0    0    0    0    0\n",
      "    0    0    0    0    0    0    0    0    0    0    0    0    0    0\n",
      "    0    0    0    0    0    0    0    0    0    0    0    0    0    0\n",
      "    0    0    0    0    0    0    0    0    0    0    0    0    0    0\n",
      "    0    0    0    0    0    0    0    0    0    0    0    0    0    0\n",
      "    0    0    0    0    0    0    0    0    0    0    0    0    0    0\n",
      "    0    0    0    0    0    0    0    0    0    0    0    0    0    0\n",
      "    0    0    0    0    0    0    0    0    0    0    0    0    0    0\n",
      "    0    0    0    0    0    0    0    0    0    0    0    0    0    0\n",
      "    0    0    0    0    0    0    0    0    0    0    0    0    0    0\n",
      "    0    0    0    0    0    0    0    0    0    0    0    0    0    0\n",
      "    0    0    0    0    0    0    0    0    0    0    0    0    0    0\n",
      "    0    0    0    0    0    0    0    0    0    0    0    0    0    0\n",
      "    0    0    0    0    0    0    0    0    0    0    0    0    0    0\n",
      "    0    0    0    0    0    0    0    0    0    0    0    0    0    0\n",
      "    0    0    0    0    0    0    0    0    0    0    0    0    0    0\n",
      "    0    0    0    0    0    0    0    0    0    0    0    0    0    0\n",
      "    0    0    0    0    0    0    0    0    0    0    0    0    0    0\n",
      "    0    0    0    0    0    0    0    0    0    0    0    0    0    0\n",
      "    0    0    0    0    0    0    0    0    0    0    0    0    0    0\n",
      "    0    0    0    0    0    0    0    0    0    0    0    0    0    0\n",
      "    0    0    0    0    0    0    0    0    0    0]\n",
      "39\n"
     ]
    }
   ],
   "source": [
    "# Use this cell to examine one of the processed reviews to make sure everything is working as intended.\n",
    "print(train_X[5])\n",
    "print(train_X_len[5])\n"
   ]
  },
  {
   "cell_type": "markdown",
   "metadata": {},
   "source": [
    "**Question:** In the cells above we use the `preprocess_data` and `convert_and_pad_data` methods to process both the training and testing set. Why or why not might this be a problem?"
   ]
  },
  {
   "cell_type": "markdown",
   "metadata": {},
   "source": [
    "**Answer:**\n",
    "\n",
    "Using the same preprocessing method for training and testing sets isn't a problem as both sets of data need to be \"purified\" of noise such as punctuation, html tags, etc. to make each data element more useful to the network being trained. They also both need to be tokenized to be in a format that provides usable information to the model. The testing set is just an extension of the training set in that it's the same sort of data, but it's been witheld from the model until the model has been trained.\n",
    "\n",
    "Using the convert and pad data function for both training and test data sets makes the assumption that training and test sets are highly similar in their vocabulary. Because the word dictionary was created using only the training data set, these most common 4998 words are assumed to also exist in the testing set. If the testing set vocabulary is in fact significantly different, then this poses a problem as there will be a lot of INFREQ words or 1's added to the input data which could cause more inaccurate results.\n"
   ]
  },
  {
   "cell_type": "markdown",
   "metadata": {},
   "source": [
    "## Step 3: Upload the data to S3\n",
    "\n",
    "As in the XGBoost notebook, we will need to upload the training dataset to S3 in order for our training code to access it. For now we will save it locally and we will upload to S3 later on.\n",
    "\n",
    "### Save the processed training dataset locally\n",
    "\n",
    "It is important to note the format of the data that we are saving as we will need to know it when we write the training code. In our case, each row of the dataset has the form `label`, `length`, `review[500]` where `review[500]` is a sequence of `500` integers representing the words in the review."
   ]
  },
  {
   "cell_type": "code",
   "execution_count": 20,
   "metadata": {},
   "outputs": [],
   "source": [
    "import pandas as pd\n",
    "    \n",
    "pd.concat([pd.DataFrame(train_y), pd.DataFrame(train_X_len), pd.DataFrame(train_X)], axis=1) \\\n",
    "        .to_csv(os.path.join(data_dir, 'train.csv'), header=False, index=False)"
   ]
  },
  {
   "cell_type": "markdown",
   "metadata": {},
   "source": [
    "### Uploading the training data\n",
    "\n",
    "\n",
    "Next, we need to upload the training data to the SageMaker default S3 bucket so that we can provide access to it while training our model."
   ]
  },
  {
   "cell_type": "code",
   "execution_count": 21,
   "metadata": {},
   "outputs": [],
   "source": [
    "import sagemaker\n",
    "\n",
    "sagemaker_session = sagemaker.Session()\n",
    "\n",
    "bucket = sagemaker_session.default_bucket()\n",
    "prefix = 'sagemaker/sentiment_rnn'\n",
    "\n",
    "role = sagemaker.get_execution_role()"
   ]
  },
  {
   "cell_type": "code",
   "execution_count": 22,
   "metadata": {},
   "outputs": [],
   "source": [
    "input_data = sagemaker_session.upload_data(path=data_dir, bucket=bucket, key_prefix=prefix)"
   ]
  },
  {
   "cell_type": "markdown",
   "metadata": {},
   "source": [
    "**NOTE:** The cell above uploads the entire contents of our data directory. This includes the `word_dict.pkl` file. This is fortunate as we will need this later on when we create an endpoint that accepts an arbitrary review. For now, we will just take note of the fact that it resides in the data directory (and so also in the S3 training bucket) and that we will need to make sure it gets saved in the model directory."
   ]
  },
  {
   "cell_type": "markdown",
   "metadata": {},
   "source": [
    "## Step 4: Build and Train the PyTorch Model\n",
    "\n",
    "In the XGBoost notebook we discussed what a model is in the SageMaker framework. In particular, a model comprises three objects\n",
    "\n",
    " - Model Artifacts,\n",
    " - Training Code, and\n",
    " - Inference Code,\n",
    " \n",
    "each of which interact with one another. In the XGBoost example we used training and inference code that was provided by Amazon. Here we will still be using containers provided by Amazon with the added benefit of being able to include our own custom code.\n",
    "\n",
    "We will start by implementing our own neural network in PyTorch along with a training script. For the purposes of this project we have provided the necessary model object in the `model.py` file, inside of the `train` folder. You can see the provided implementation by running the cell below."
   ]
  },
  {
   "cell_type": "code",
   "execution_count": 23,
   "metadata": {},
   "outputs": [
    {
     "name": "stdout",
     "output_type": "stream",
     "text": [
      "\u001b[34mimport\u001b[39;49;00m \u001b[04m\u001b[36mtorch\u001b[39;49;00m\u001b[04m\u001b[36m.\u001b[39;49;00m\u001b[04m\u001b[36mnn\u001b[39;49;00m \u001b[34mas\u001b[39;49;00m \u001b[04m\u001b[36mnn\u001b[39;49;00m\r\n",
      "\r\n",
      "\u001b[34mclass\u001b[39;49;00m \u001b[04m\u001b[32mLSTMClassifier\u001b[39;49;00m(nn.Module):\r\n",
      "    \u001b[33m\"\"\"\u001b[39;49;00m\r\n",
      "\u001b[33m    This is the simple RNN model we will be using to perform Sentiment Analysis.\u001b[39;49;00m\r\n",
      "\u001b[33m    \"\"\"\u001b[39;49;00m\r\n",
      "\r\n",
      "    \u001b[34mdef\u001b[39;49;00m \u001b[32m__init__\u001b[39;49;00m(\u001b[36mself\u001b[39;49;00m, embedding_dim, hidden_dim, vocab_size):\r\n",
      "        \u001b[33m\"\"\"\u001b[39;49;00m\r\n",
      "\u001b[33m        Initialize the model by settingg up the various layers.\u001b[39;49;00m\r\n",
      "\u001b[33m        \"\"\"\u001b[39;49;00m\r\n",
      "        \u001b[36msuper\u001b[39;49;00m(LSTMClassifier, \u001b[36mself\u001b[39;49;00m).\u001b[32m__init__\u001b[39;49;00m()\r\n",
      "\r\n",
      "        \u001b[36mself\u001b[39;49;00m.embedding = nn.Embedding(vocab_size, embedding_dim, padding_idx=\u001b[34m0\u001b[39;49;00m)\r\n",
      "        \u001b[36mself\u001b[39;49;00m.lstm = nn.LSTM(embedding_dim, hidden_dim)\r\n",
      "        \u001b[36mself\u001b[39;49;00m.dense = nn.Linear(in_features=hidden_dim, out_features=\u001b[34m1\u001b[39;49;00m)\r\n",
      "        \u001b[36mself\u001b[39;49;00m.sig = nn.Sigmoid()\r\n",
      "        \r\n",
      "        \u001b[36mself\u001b[39;49;00m.word_dict = \u001b[34mNone\u001b[39;49;00m\r\n",
      "\r\n",
      "    \u001b[34mdef\u001b[39;49;00m \u001b[32mforward\u001b[39;49;00m(\u001b[36mself\u001b[39;49;00m, x):\r\n",
      "        \u001b[33m\"\"\"\u001b[39;49;00m\r\n",
      "\u001b[33m        Perform a forward pass of our model on some input.\u001b[39;49;00m\r\n",
      "\u001b[33m        \"\"\"\u001b[39;49;00m\r\n",
      "        x = x.t()\r\n",
      "        lengths = x[\u001b[34m0\u001b[39;49;00m,:]\r\n",
      "        reviews = x[\u001b[34m1\u001b[39;49;00m:,:]\r\n",
      "        embeds = \u001b[36mself\u001b[39;49;00m.embedding(reviews)\r\n",
      "        lstm_out, _ = \u001b[36mself\u001b[39;49;00m.lstm(embeds)\r\n",
      "        out = \u001b[36mself\u001b[39;49;00m.dense(lstm_out)\r\n",
      "        out = out[lengths - \u001b[34m1\u001b[39;49;00m, \u001b[36mrange\u001b[39;49;00m(\u001b[36mlen\u001b[39;49;00m(lengths))]\r\n",
      "        \u001b[34mreturn\u001b[39;49;00m \u001b[36mself\u001b[39;49;00m.sig(out.squeeze())\r\n"
     ]
    }
   ],
   "source": [
    "!pygmentize train/model.py"
   ]
  },
  {
   "cell_type": "markdown",
   "metadata": {},
   "source": [
    "The important takeaway from the implementation provided is that there are three parameters that we may wish to tweak to improve the performance of our model. These are the embedding dimension, the hidden dimension and the size of the vocabulary. We will likely want to make these parameters configurable in the training script so that if we wish to modify them we do not need to modify the script itself. We will see how to do this later on. To start we will write some of the training code in the notebook so that we can more easily diagnose any issues that arise.\n",
    "\n",
    "First we will load a small portion of the training data set to use as a sample. It would be very time consuming to try and train the model completely in the notebook as we do not have access to a gpu and the compute instance that we are using is not particularly powerful. However, we can work on a small bit of the data to get a feel for how our training script is behaving."
   ]
  },
  {
   "cell_type": "code",
   "execution_count": 24,
   "metadata": {},
   "outputs": [],
   "source": [
    "import torch\n",
    "import torch.utils.data\n",
    "\n",
    "# Read in only the first 250 rows\n",
    "train_sample = pd.read_csv(os.path.join(data_dir, 'train.csv'), header=None, names=None, nrows=250)\n",
    "\n",
    "# Turn the input pandas dataframe into tensors\n",
    "train_sample_y = torch.from_numpy(train_sample[[0]].values).float().squeeze()\n",
    "train_sample_X = torch.from_numpy(train_sample.drop([0], axis=1).values).long()\n",
    "\n",
    "# Build the dataset\n",
    "train_sample_ds = torch.utils.data.TensorDataset(train_sample_X, train_sample_y)\n",
    "# Build the dataloader\n",
    "train_sample_dl = torch.utils.data.DataLoader(train_sample_ds, batch_size=50)"
   ]
  },
  {
   "cell_type": "markdown",
   "metadata": {},
   "source": [
    "### (TODO) Writing the training method\n",
    "\n",
    "Next we need to write the training code itself. This should be very similar to training methods that you have written before to train PyTorch models. We will leave any difficult aspects such as model saving / loading and parameter loading until a little later."
   ]
  },
  {
   "cell_type": "code",
   "execution_count": 25,
   "metadata": {},
   "outputs": [],
   "source": [
    "def train(model, train_loader, epochs, optimizer, loss_fn, device):\n",
    "    for epoch in range(1, epochs + 1):\n",
    "        model.train()\n",
    "        total_loss = 0\n",
    "        for batch in train_loader:         \n",
    "            batch_X, batch_y = batch\n",
    "            \n",
    "            batch_X = batch_X.to(device)\n",
    "            batch_y = batch_y.to(device)\n",
    "            \n",
    "            # TODO: Complete this train method to train the model provided.\n",
    "            \n",
    "            # clear gradients\n",
    "            optimizer.zero_grad()\n",
    "            \n",
    "            # perform forward pass of model\n",
    "            modelOutput = model.forward(batch_X)\n",
    "            \n",
    "            # calculate loss after forward pass using model output and ground truth labels\n",
    "            loss = loss_fn(modelOutput, batch_y)\n",
    "            \n",
    "            # backpropogate loss/error through the model\n",
    "            loss.backward()\n",
    "            \n",
    "            # update optimized variables\n",
    "            optimizer.step()\n",
    "            \n",
    "            \n",
    "            total_loss += loss.data.item()\n",
    "        print(\"Epoch: {}, BCELoss: {}\".format(epoch, total_loss / len(train_loader)))"
   ]
  },
  {
   "cell_type": "markdown",
   "metadata": {},
   "source": [
    "Supposing we have the training method above, we will test that it is working by writing a bit of code in the notebook that executes our training method on the small sample training set that we loaded earlier. The reason for doing this in the notebook is so that we have an opportunity to fix any errors that arise early when they are easier to diagnose."
   ]
  },
  {
   "cell_type": "code",
   "execution_count": 26,
   "metadata": {},
   "outputs": [
    {
     "name": "stdout",
     "output_type": "stream",
     "text": [
      "Epoch: 1, BCELoss: 0.6928738474845886\n",
      "Epoch: 2, BCELoss: 0.6833548188209534\n",
      "Epoch: 3, BCELoss: 0.6745749950408936\n",
      "Epoch: 4, BCELoss: 0.6644912719726562\n",
      "Epoch: 5, BCELoss: 0.6515599608421325\n"
     ]
    }
   ],
   "source": [
    "import torch.optim as optim\n",
    "from train.model import LSTMClassifier\n",
    "\n",
    "device = torch.device(\"cuda\" if torch.cuda.is_available() else \"cpu\")\n",
    "model = LSTMClassifier(32, 100, 5000).to(device)\n",
    "optimizer = optim.Adam(model.parameters())\n",
    "loss_fn = torch.nn.BCELoss()\n",
    "\n",
    "train(model, train_sample_dl, 5, optimizer, loss_fn, device)"
   ]
  },
  {
   "cell_type": "markdown",
   "metadata": {},
   "source": [
    "In order to construct a PyTorch model using SageMaker we must provide SageMaker with a training script. We may optionally include a directory which will be copied to the container and from which our training code will be run. When the training container is executed it will check the uploaded directory (if there is one) for a `requirements.txt` file and install any required Python libraries, after which the training script will be run."
   ]
  },
  {
   "cell_type": "markdown",
   "metadata": {},
   "source": [
    "### (TODO) Training the model\n",
    "\n",
    "When a PyTorch model is constructed in SageMaker, an entry point must be specified. This is the Python file which will be executed when the model is trained. Inside of the `train` directory is a file called `train.py` which has been provided and which contains most of the necessary code to train our model. The only thing that is missing is the implementation of the `train()` method which you wrote earlier in this notebook.\n",
    "\n",
    "**TODO**: Copy the `train()` method written above and paste it into the `train/train.py` file where required.\n",
    "\n",
    "The way that SageMaker passes hyperparameters to the training script is by way of arguments. These arguments can then be parsed and used in the training script. To see how this is done take a look at the provided `train/train.py` file."
   ]
  },
  {
   "cell_type": "code",
   "execution_count": 27,
   "metadata": {},
   "outputs": [],
   "source": [
    "from sagemaker.pytorch import PyTorch\n",
    "\n",
    "estimator = PyTorch(entry_point=\"train.py\",\n",
    "                    source_dir=\"train\",\n",
    "                    role=role,\n",
    "                    framework_version='0.4.0',\n",
    "                    train_instance_count=1,\n",
    "                    train_instance_type='ml.m4.xlarge',\n",
    "                    hyperparameters={\n",
    "                        'epochs': 10,\n",
    "                        'hidden_dim': 200,\n",
    "                    })"
   ]
  },
  {
   "cell_type": "code",
   "execution_count": 29,
   "metadata": {},
   "outputs": [
    {
     "name": "stderr",
     "output_type": "stream",
     "text": [
      "'create_image_uri' will be deprecated in favor of 'ImageURIProvider' class in SageMaker Python SDK v2.\n",
      "'s3_input' class will be renamed to 'TrainingInput' in SageMaker Python SDK v2.\n",
      "'create_image_uri' will be deprecated in favor of 'ImageURIProvider' class in SageMaker Python SDK v2.\n"
     ]
    },
    {
     "name": "stdout",
     "output_type": "stream",
     "text": [
      "2021-06-22 17:00:52 Starting - Starting the training job...\n",
      "2021-06-22 17:00:54 Starting - Launching requested ML instances......\n",
      "2021-06-22 17:02:16 Starting - Preparing the instances for training.........\n",
      "2021-06-22 17:03:49 Downloading - Downloading input data\n",
      "2021-06-22 17:03:49 Training - Downloading the training image...\n",
      "2021-06-22 17:04:10 Training - Training image download completed. Training in progress.\u001b[34mbash: cannot set terminal process group (-1): Inappropriate ioctl for device\u001b[0m\n",
      "\u001b[34mbash: no job control in this shell\u001b[0m\n",
      "\u001b[34m2021-06-22 17:04:11,224 sagemaker-containers INFO     Imported framework sagemaker_pytorch_container.training\u001b[0m\n",
      "\u001b[34m2021-06-22 17:04:11,228 sagemaker-containers INFO     No GPUs detected (normal if no gpus installed)\u001b[0m\n",
      "\u001b[34m2021-06-22 17:04:11,241 sagemaker_pytorch_container.training INFO     Block until all host DNS lookups succeed.\u001b[0m\n",
      "\u001b[34m2021-06-22 17:04:14,272 sagemaker_pytorch_container.training INFO     Invoking user training script.\u001b[0m\n",
      "\u001b[34m2021-06-22 17:04:14,590 sagemaker-containers INFO     Module train does not provide a setup.py. \u001b[0m\n",
      "\u001b[34mGenerating setup.py\u001b[0m\n",
      "\u001b[34m2021-06-22 17:04:14,590 sagemaker-containers INFO     Generating setup.cfg\u001b[0m\n",
      "\u001b[34m2021-06-22 17:04:14,590 sagemaker-containers INFO     Generating MANIFEST.in\u001b[0m\n",
      "\u001b[34m2021-06-22 17:04:14,591 sagemaker-containers INFO     Installing module with the following command:\u001b[0m\n",
      "\u001b[34m/usr/bin/python -m pip install -U . -r requirements.txt\u001b[0m\n",
      "\u001b[34mProcessing /opt/ml/code\u001b[0m\n",
      "\u001b[34mCollecting pandas (from -r requirements.txt (line 1))\u001b[0m\n",
      "\u001b[34m  Downloading https://files.pythonhosted.org/packages/74/24/0cdbf8907e1e3bc5a8da03345c23cbed7044330bb8f73bb12e711a640a00/pandas-0.24.2-cp35-cp35m-manylinux1_x86_64.whl (10.0MB)\u001b[0m\n",
      "\u001b[34mCollecting numpy (from -r requirements.txt (line 2))\n",
      "  Downloading https://files.pythonhosted.org/packages/b5/36/88723426b4ff576809fec7d73594fe17a35c27f8d01f93637637a29ae25b/numpy-1.18.5-cp35-cp35m-manylinux1_x86_64.whl (19.9MB)\u001b[0m\n",
      "\u001b[34mCollecting nltk (from -r requirements.txt (line 3))\n",
      "  Downloading https://files.pythonhosted.org/packages/5e/37/9532ddd4b1bbb619333d5708aaad9bf1742f051a664c3c6fa6632a105fd8/nltk-3.6.2-py3-none-any.whl (1.5MB)\u001b[0m\n",
      "\u001b[34mCollecting beautifulsoup4 (from -r requirements.txt (line 4))\n",
      "  Downloading https://files.pythonhosted.org/packages/d1/41/e6495bd7d3781cee623ce23ea6ac73282a373088fcd0ddc809a047b18eae/beautifulsoup4-4.9.3-py3-none-any.whl (115kB)\u001b[0m\n",
      "\u001b[34mCollecting html5lib (from -r requirements.txt (line 5))\n",
      "  Downloading https://files.pythonhosted.org/packages/6c/dd/a834df6482147d48e225a49515aabc28974ad5a4ca3215c18a882565b028/html5lib-1.1-py2.py3-none-any.whl (112kB)\u001b[0m\n",
      "\u001b[34mRequirement already satisfied, skipping upgrade: python-dateutil>=2.5.0 in /usr/local/lib/python3.5/dist-packages (from pandas->-r requirements.txt (line 1)) (2.7.5)\u001b[0m\n",
      "\u001b[34mCollecting pytz>=2011k (from pandas->-r requirements.txt (line 1))\n",
      "  Downloading https://files.pythonhosted.org/packages/70/94/784178ca5dd892a98f113cdd923372024dc04b8d40abe77ca76b5fb90ca6/pytz-2021.1-py2.py3-none-any.whl (510kB)\u001b[0m\n",
      "\u001b[34mCollecting tqdm (from nltk->-r requirements.txt (line 3))\n",
      "  Downloading https://files.pythonhosted.org/packages/b4/20/9f1e974bb4761128fc0d0a32813eaa92827309b1756c4b892d28adfb4415/tqdm-4.61.1-py2.py3-none-any.whl (75kB)\u001b[0m\n",
      "\u001b[34mCollecting regex (from nltk->-r requirements.txt (line 3))\u001b[0m\n",
      "\u001b[34m  Downloading https://files.pythonhosted.org/packages/38/3f/4c42a98c9ad7d08c16e7d23b2194a0e4f3b2914662da8bc88986e4e6de1f/regex-2021.4.4.tar.gz (693kB)\u001b[0m\n",
      "\u001b[34mCollecting joblib (from nltk->-r requirements.txt (line 3))\n",
      "  Downloading https://files.pythonhosted.org/packages/28/5c/cf6a2b65a321c4a209efcdf64c2689efae2cb62661f8f6f4bb28547cf1bf/joblib-0.14.1-py2.py3-none-any.whl (294kB)\u001b[0m\n",
      "\u001b[34mRequirement already satisfied, skipping upgrade: click in /usr/local/lib/python3.5/dist-packages (from nltk->-r requirements.txt (line 3)) (7.0)\u001b[0m\n",
      "\u001b[34mCollecting soupsieve>1.2; python_version >= \"3.0\" (from beautifulsoup4->-r requirements.txt (line 4))\n",
      "  Downloading https://files.pythonhosted.org/packages/02/fb/1c65691a9aeb7bd6ac2aa505b84cb8b49ac29c976411c6ab3659425e045f/soupsieve-2.1-py3-none-any.whl\u001b[0m\n",
      "\u001b[34mCollecting webencodings (from html5lib->-r requirements.txt (line 5))\n",
      "  Downloading https://files.pythonhosted.org/packages/f4/24/2a3e3df732393fed8b3ebf2ec078f05546de641fe1b667ee316ec1dcf3b7/webencodings-0.5.1-py2.py3-none-any.whl\u001b[0m\n",
      "\u001b[34mRequirement already satisfied, skipping upgrade: six>=1.9 in /usr/local/lib/python3.5/dist-packages (from html5lib->-r requirements.txt (line 5)) (1.11.0)\u001b[0m\n",
      "\u001b[34mBuilding wheels for collected packages: train, regex\n",
      "  Running setup.py bdist_wheel for train: started\n",
      "  Running setup.py bdist_wheel for train: finished with status 'done'\n",
      "  Stored in directory: /tmp/pip-ephem-wheel-cache-972db45s/wheels/35/24/16/37574d11bf9bde50616c67372a334f94fa8356bc7164af8ca3\n",
      "  Running setup.py bdist_wheel for regex: started\u001b[0m\n",
      "\u001b[34m  Running setup.py bdist_wheel for regex: finished with status 'done'\n",
      "  Stored in directory: /root/.cache/pip/wheels/c9/05/a8/b85fa0bd7850b99f9b4f106972975f2e3c46412e12f9949b58\u001b[0m\n",
      "\u001b[34mSuccessfully built train regex\u001b[0m\n",
      "\u001b[34mInstalling collected packages: numpy, pytz, pandas, tqdm, regex, joblib, nltk, soupsieve, beautifulsoup4, webencodings, html5lib, train\n",
      "  Found existing installation: numpy 1.15.4\n",
      "    Uninstalling numpy-1.15.4:\u001b[0m\n",
      "\u001b[34m      Successfully uninstalled numpy-1.15.4\u001b[0m\n",
      "\u001b[34mSuccessfully installed beautifulsoup4-4.9.3 html5lib-1.1 joblib-0.14.1 nltk-3.6.2 numpy-1.18.5 pandas-0.24.2 pytz-2021.1 regex-2021.4.4 soupsieve-2.1 tqdm-4.61.1 train-1.0.0 webencodings-0.5.1\u001b[0m\n",
      "\u001b[34mYou are using pip version 18.1, however version 20.3.4 is available.\u001b[0m\n",
      "\u001b[34mYou should consider upgrading via the 'pip install --upgrade pip' command.\u001b[0m\n",
      "\u001b[34m2021-06-22 17:04:37,528 sagemaker-containers INFO     No GPUs detected (normal if no gpus installed)\u001b[0m\n",
      "\u001b[34m2021-06-22 17:04:37,542 sagemaker-containers INFO     Invoking user script\n",
      "\u001b[0m\n",
      "\u001b[34mTraining Env:\n",
      "\u001b[0m\n",
      "\u001b[34m{\n",
      "    \"input_config_dir\": \"/opt/ml/input/config\",\n",
      "    \"output_intermediate_dir\": \"/opt/ml/output/intermediate\",\n",
      "    \"num_gpus\": 0,\n",
      "    \"num_cpus\": 4,\n",
      "    \"input_data_config\": {\n",
      "        \"training\": {\n",
      "            \"S3DistributionType\": \"FullyReplicated\",\n",
      "            \"RecordWrapperType\": \"None\",\n",
      "            \"TrainingInputMode\": \"File\"\n",
      "        }\n",
      "    },\n",
      "    \"resource_config\": {\n",
      "        \"current_host\": \"algo-1\",\n",
      "        \"network_interface_name\": \"eth0\",\n",
      "        \"hosts\": [\n",
      "            \"algo-1\"\n",
      "        ]\n",
      "    },\n",
      "    \"log_level\": 20,\n",
      "    \"channel_input_dirs\": {\n",
      "        \"training\": \"/opt/ml/input/data/training\"\n",
      "    },\n",
      "    \"module_name\": \"train\",\n",
      "    \"model_dir\": \"/opt/ml/model\",\n",
      "    \"input_dir\": \"/opt/ml/input\",\n",
      "    \"network_interface_name\": \"eth0\",\n",
      "    \"user_entry_point\": \"train.py\",\n",
      "    \"additional_framework_parameters\": {},\n",
      "    \"current_host\": \"algo-1\",\n",
      "    \"module_dir\": \"s3://sagemaker-us-east-2-743282840238/sagemaker-pytorch-2021-06-22-17-00-52-214/source/sourcedir.tar.gz\",\n",
      "    \"output_dir\": \"/opt/ml/output\",\n",
      "    \"hyperparameters\": {\n",
      "        \"hidden_dim\": 200,\n",
      "        \"epochs\": 10\n",
      "    },\n",
      "    \"output_data_dir\": \"/opt/ml/output/data\",\n",
      "    \"job_name\": \"sagemaker-pytorch-2021-06-22-17-00-52-214\",\n",
      "    \"framework_module\": \"sagemaker_pytorch_container.training:main\",\n",
      "    \"hosts\": [\n",
      "        \"algo-1\"\n",
      "    ]\u001b[0m\n",
      "\u001b[34m}\n",
      "\u001b[0m\n",
      "\u001b[34mEnvironment variables:\n",
      "\u001b[0m\n",
      "\u001b[34mSM_HPS={\"epochs\":10,\"hidden_dim\":200}\u001b[0m\n",
      "\u001b[34mSM_INPUT_DIR=/opt/ml/input\u001b[0m\n",
      "\u001b[34mSM_TRAINING_ENV={\"additional_framework_parameters\":{},\"channel_input_dirs\":{\"training\":\"/opt/ml/input/data/training\"},\"current_host\":\"algo-1\",\"framework_module\":\"sagemaker_pytorch_container.training:main\",\"hosts\":[\"algo-1\"],\"hyperparameters\":{\"epochs\":10,\"hidden_dim\":200},\"input_config_dir\":\"/opt/ml/input/config\",\"input_data_config\":{\"training\":{\"RecordWrapperType\":\"None\",\"S3DistributionType\":\"FullyReplicated\",\"TrainingInputMode\":\"File\"}},\"input_dir\":\"/opt/ml/input\",\"job_name\":\"sagemaker-pytorch-2021-06-22-17-00-52-214\",\"log_level\":20,\"model_dir\":\"/opt/ml/model\",\"module_dir\":\"s3://sagemaker-us-east-2-743282840238/sagemaker-pytorch-2021-06-22-17-00-52-214/source/sourcedir.tar.gz\",\"module_name\":\"train\",\"network_interface_name\":\"eth0\",\"num_cpus\":4,\"num_gpus\":0,\"output_data_dir\":\"/opt/ml/output/data\",\"output_dir\":\"/opt/ml/output\",\"output_intermediate_dir\":\"/opt/ml/output/intermediate\",\"resource_config\":{\"current_host\":\"algo-1\",\"hosts\":[\"algo-1\"],\"network_interface_name\":\"eth0\"},\"user_entry_point\":\"train.py\"}\u001b[0m\n",
      "\u001b[34mSM_RESOURCE_CONFIG={\"current_host\":\"algo-1\",\"hosts\":[\"algo-1\"],\"network_interface_name\":\"eth0\"}\u001b[0m\n",
      "\u001b[34mSM_OUTPUT_DATA_DIR=/opt/ml/output/data\u001b[0m\n",
      "\u001b[34mSM_OUTPUT_DIR=/opt/ml/output\u001b[0m\n",
      "\u001b[34mSM_USER_ARGS=[\"--epochs\",\"10\",\"--hidden_dim\",\"200\"]\u001b[0m\n",
      "\u001b[34mPYTHONPATH=/usr/local/bin:/usr/lib/python35.zip:/usr/lib/python3.5:/usr/lib/python3.5/plat-x86_64-linux-gnu:/usr/lib/python3.5/lib-dynload:/usr/local/lib/python3.5/dist-packages:/usr/lib/python3/dist-packages\u001b[0m\n",
      "\u001b[34mSM_MODEL_DIR=/opt/ml/model\u001b[0m\n",
      "\u001b[34mSM_HP_EPOCHS=10\u001b[0m\n",
      "\u001b[34mSM_CHANNELS=[\"training\"]\u001b[0m\n",
      "\u001b[34mSM_CURRENT_HOST=algo-1\u001b[0m\n",
      "\u001b[34mSM_USER_ENTRY_POINT=train.py\u001b[0m\n",
      "\u001b[34mSM_MODULE_DIR=s3://sagemaker-us-east-2-743282840238/sagemaker-pytorch-2021-06-22-17-00-52-214/source/sourcedir.tar.gz\u001b[0m\n",
      "\u001b[34mSM_OUTPUT_INTERMEDIATE_DIR=/opt/ml/output/intermediate\u001b[0m\n",
      "\u001b[34mSM_HOSTS=[\"algo-1\"]\u001b[0m\n",
      "\u001b[34mSM_NUM_CPUS=4\u001b[0m\n",
      "\u001b[34mSM_HP_HIDDEN_DIM=200\u001b[0m\n",
      "\u001b[34mSM_NUM_GPUS=0\u001b[0m\n",
      "\u001b[34mSM_MODULE_NAME=train\u001b[0m\n",
      "\u001b[34mSM_INPUT_DATA_CONFIG={\"training\":{\"RecordWrapperType\":\"None\",\"S3DistributionType\":\"FullyReplicated\",\"TrainingInputMode\":\"File\"}}\u001b[0m\n",
      "\u001b[34mSM_NETWORK_INTERFACE_NAME=eth0\u001b[0m\n",
      "\u001b[34mSM_CHANNEL_TRAINING=/opt/ml/input/data/training\u001b[0m\n",
      "\u001b[34mSM_INPUT_CONFIG_DIR=/opt/ml/input/config\u001b[0m\n",
      "\u001b[34mSM_LOG_LEVEL=20\u001b[0m\n",
      "\u001b[34mSM_FRAMEWORK_MODULE=sagemaker_pytorch_container.training:main\u001b[0m\n",
      "\u001b[34mSM_FRAMEWORK_PARAMS={}\n",
      "\u001b[0m\n",
      "\u001b[34mInvoking script with the following command:\n",
      "\u001b[0m\n",
      "\u001b[34m/usr/bin/python -m train --epochs 10 --hidden_dim 200\n",
      "\n",
      "\u001b[0m\n",
      "\u001b[34mUsing device cpu.\u001b[0m\n",
      "\u001b[34mGet train data loader.\u001b[0m\n",
      "\u001b[34mModel loaded with embedding_dim 32, hidden_dim 200, vocab_size 5000.\u001b[0m\n",
      "\u001b[34mEpoch: 1, BCELoss: 0.6736844972688325\u001b[0m\n",
      "\u001b[34mEpoch: 2, BCELoss: 0.5925260989033446\u001b[0m\n",
      "\u001b[34mEpoch: 3, BCELoss: 0.5058974131029479\u001b[0m\n",
      "\u001b[34mEpoch: 4, BCELoss: 0.44843327634188596\u001b[0m\n",
      "\u001b[34mEpoch: 5, BCELoss: 0.40145751468989316\u001b[0m\n",
      "\u001b[34mEpoch: 6, BCELoss: 0.3611943831249159\u001b[0m\n",
      "\u001b[34mEpoch: 7, BCELoss: 0.33109384653519613\u001b[0m\n",
      "\u001b[34mEpoch: 8, BCELoss: 0.31503476993161805\u001b[0m\n",
      "\u001b[34mEpoch: 9, BCELoss: 0.3196211007176613\u001b[0m\n",
      "\u001b[34mEpoch: 10, BCELoss: 0.31010906276654226\u001b[0m\n",
      "\u001b[34m2021-06-22 19:04:47,896 sagemaker-containers INFO     Reporting training SUCCESS\u001b[0m\n",
      "\n",
      "2021-06-22 19:05:37 Uploading - Uploading generated training model\n",
      "2021-06-22 19:05:37 Completed - Training job completed\n",
      "Training seconds: 7332\n",
      "Billable seconds: 7332\n",
      "DONE!\n"
     ]
    }
   ],
   "source": [
    "estimator.fit({'training': input_data})\n",
    "print(\"DONE!\")"
   ]
  },
  {
   "cell_type": "markdown",
   "metadata": {},
   "source": [
    "## Step 5: Testing the model\n",
    "\n",
    "As mentioned at the top of this notebook, we will be testing this model by first deploying it and then sending the testing data to the deployed endpoint. We will do this so that we can make sure that the deployed model is working correctly.\n",
    "\n",
    "## Step 6: Deploy the model for testing\n",
    "\n",
    "Now that we have trained our model, we would like to test it to see how it performs. Currently our model takes input of the form `review_length, review[500]` where `review[500]` is a sequence of `500` integers which describe the words present in the review, encoded using `word_dict`. Fortunately for us, SageMaker provides built-in inference code for models with simple inputs such as this.\n",
    "\n",
    "There is one thing that we need to provide, however, and that is a function which loads the saved model. This function must be called `model_fn()` and takes as its only parameter a path to the directory where the model artifacts are stored. This function must also be present in the python file which we specified as the entry point. In our case the model loading function has been provided and so no changes need to be made.\n",
    "\n",
    "**NOTE**: When the built-in inference code is run it must import the `model_fn()` method from the `train.py` file. This is why the training code is wrapped in a main guard ( ie, `if __name__ == '__main__':` )\n",
    "\n",
    "Since we don't need to change anything in the code that was uploaded during training, we can simply deploy the current model as-is.\n",
    "\n",
    "**NOTE:** When deploying a model you are asking SageMaker to launch an compute instance that will wait for data to be sent to it. As a result, this compute instance will continue to run until *you* shut it down. This is important to know since the cost of a deployed endpoint depends on how long it has been running for.\n",
    "\n",
    "In other words **If you are no longer using a deployed endpoint, shut it down!**\n",
    "\n",
    "**TODO:** Deploy the trained model."
   ]
  },
  {
   "cell_type": "code",
   "execution_count": 86,
   "metadata": {},
   "outputs": [
    {
     "name": "stderr",
     "output_type": "stream",
     "text": [
      "Parameter image will be renamed to image_uri in SageMaker Python SDK v2.\n",
      "'create_image_uri' will be deprecated in favor of 'ImageURIProvider' class in SageMaker Python SDK v2.\n",
      "Using already existing model: sagemaker-pytorch-2021-06-22-17-00-52-214\n"
     ]
    },
    {
     "name": "stdout",
     "output_type": "stream",
     "text": [
      "-------------!"
     ]
    }
   ],
   "source": [
    "# TODO: Deploy the trained model\n",
    "predictor = estimator.deploy(initial_instance_count = 1, instance_type = 'ml.m4.xlarge')\n"
   ]
  },
  {
   "cell_type": "markdown",
   "metadata": {},
   "source": [
    "## Step 7 - Use the model for testing\n",
    "\n",
    "Once deployed, we can read in the test data and send it off to our deployed model to get some results. Once we collect all of the results we can determine how accurate our model is."
   ]
  },
  {
   "cell_type": "code",
   "execution_count": 31,
   "metadata": {},
   "outputs": [],
   "source": [
    "test_X = pd.concat([pd.DataFrame(test_X_len), pd.DataFrame(test_X)], axis=1)"
   ]
  },
  {
   "cell_type": "code",
   "execution_count": 32,
   "metadata": {},
   "outputs": [],
   "source": [
    "# We split the data into chunks and send each chunk seperately, accumulating the results.\n",
    "\n",
    "def predict(data, rows=512):\n",
    "    split_array = np.array_split(data, int(data.shape[0] / float(rows) + 1))\n",
    "    predictions = np.array([])\n",
    "    for array in split_array:\n",
    "        predictions = np.append(predictions, predictor.predict(array))\n",
    "    \n",
    "    return predictions"
   ]
  },
  {
   "cell_type": "code",
   "execution_count": 33,
   "metadata": {},
   "outputs": [],
   "source": [
    "predictions = predict(test_X.values)\n",
    "predictions = [round(num) for num in predictions]"
   ]
  },
  {
   "cell_type": "code",
   "execution_count": 34,
   "metadata": {},
   "outputs": [
    {
     "data": {
      "text/plain": [
       "0.84648"
      ]
     },
     "execution_count": 34,
     "metadata": {},
     "output_type": "execute_result"
    }
   ],
   "source": [
    "from sklearn.metrics import accuracy_score\n",
    "accuracy_score(test_y, predictions)\n"
   ]
  },
  {
   "cell_type": "markdown",
   "metadata": {},
   "source": [
    "**Question:** How does this model compare to the XGBoost model you created earlier? Why might these two models perform differently on this dataset? Which do *you* think is better for sentiment analysis?"
   ]
  },
  {
   "cell_type": "markdown",
   "metadata": {},
   "source": [
    "**Answer:**\n",
    "\n",
    "The prediction accuracy is pretty comparable between both models. However, this model has only been trained on 10 epochs but reaches an accuracy of nearly 85%. This particular RNN network uses LSTM cells which allows the model to remember words and their contributions to the output for longer durations which allows for improved accuracy of the predicted outputs. Therefore, this RNN model should perform better on sentiment analysis, especially if allowed to train for more epochs."
   ]
  },
  {
   "cell_type": "markdown",
   "metadata": {},
   "source": [
    "### (TODO) More testing\n",
    "\n",
    "We now have a trained model which has been deployed and which we can send processed reviews to and which returns the predicted sentiment. However, ultimately we would like to be able to send our model an unprocessed review. That is, we would like to send the review itself as a string. For example, suppose we wish to send the following review to our model."
   ]
  },
  {
   "cell_type": "code",
   "execution_count": 82,
   "metadata": {},
   "outputs": [],
   "source": [
    "test_review = 'The simplest pleasures in life are the best, and this film is one of them. Combining a rather basic storyline of love and adventure this movie transcends the usual weekend fair with wit and unmitigated charm.'"
   ]
  },
  {
   "cell_type": "markdown",
   "metadata": {},
   "source": [
    "The question we now need to answer is, how do we send this review to our model?\n",
    "\n",
    "Recall in the first section of this notebook we did a bunch of data processing to the IMDb dataset. In particular, we did two specific things to the provided reviews.\n",
    " - Removed any html tags and stemmed the input\n",
    " - Encoded the review as a sequence of integers using `word_dict`\n",
    " \n",
    "In order process the review we will need to repeat these two steps.\n",
    "\n",
    "**TODO**: Using the `review_to_words` and `convert_and_pad` methods from section one, convert `test_review` into a numpy array `test_data` suitable to send to our model. Remember that our model expects input of the form `review_length, review[500]`."
   ]
  },
  {
   "cell_type": "code",
   "execution_count": 87,
   "metadata": {},
   "outputs": [
    {
     "name": "stdout",
     "output_type": "stream",
     "text": [
      "[array([   1, 1373,   49,   53,    3,    4,  878,  173,  392,  682,   29,\n",
      "        724,    2, 4407,  275, 2079, 1060,  760,    1,  580,    0,    0,\n",
      "          0,    0,    0,    0,    0,    0,    0,    0,    0,    0,    0,\n",
      "          0,    0,    0,    0,    0,    0,    0,    0,    0,    0,    0,\n",
      "          0,    0,    0,    0,    0,    0,    0,    0,    0,    0,    0,\n",
      "          0,    0,    0,    0,    0,    0,    0,    0,    0,    0,    0,\n",
      "          0,    0,    0,    0,    0,    0,    0,    0,    0,    0,    0,\n",
      "          0,    0,    0,    0,    0,    0,    0,    0,    0,    0,    0,\n",
      "          0,    0,    0,    0,    0,    0,    0,    0,    0,    0,    0,\n",
      "          0,    0,    0,    0,    0,    0,    0,    0,    0,    0,    0,\n",
      "          0,    0,    0,    0,    0,    0,    0,    0,    0,    0,    0,\n",
      "          0,    0,    0,    0,    0,    0,    0,    0,    0,    0,    0,\n",
      "          0,    0,    0,    0,    0,    0,    0,    0,    0,    0,    0,\n",
      "          0,    0,    0,    0,    0,    0,    0,    0,    0,    0,    0,\n",
      "          0,    0,    0,    0,    0,    0,    0,    0,    0,    0,    0,\n",
      "          0,    0,    0,    0,    0,    0,    0,    0,    0,    0,    0,\n",
      "          0,    0,    0,    0,    0,    0,    0,    0,    0,    0,    0,\n",
      "          0,    0,    0,    0,    0,    0,    0,    0,    0,    0,    0,\n",
      "          0,    0,    0,    0,    0,    0,    0,    0,    0,    0,    0,\n",
      "          0,    0,    0,    0,    0,    0,    0,    0,    0,    0,    0,\n",
      "          0,    0,    0,    0,    0,    0,    0,    0,    0,    0,    0,\n",
      "          0,    0,    0,    0,    0,    0,    0,    0,    0,    0,    0,\n",
      "          0,    0,    0,    0,    0,    0,    0,    0,    0,    0,    0,\n",
      "          0,    0,    0,    0,    0,    0,    0,    0,    0,    0,    0,\n",
      "          0,    0,    0,    0,    0,    0,    0,    0,    0,    0,    0,\n",
      "          0,    0,    0,    0,    0,    0,    0,    0,    0,    0,    0,\n",
      "          0,    0,    0,    0,    0,    0,    0,    0,    0,    0,    0,\n",
      "          0,    0,    0,    0,    0,    0,    0,    0,    0,    0,    0,\n",
      "          0,    0,    0,    0,    0,    0,    0,    0,    0,    0,    0,\n",
      "          0,    0,    0,    0,    0,    0,    0,    0,    0,    0,    0,\n",
      "          0,    0,    0,    0,    0,    0,    0,    0,    0,    0,    0,\n",
      "          0,    0,    0,    0,    0,    0,    0,    0,    0,    0,    0,\n",
      "          0,    0,    0,    0,    0,    0,    0,    0,    0,    0,    0,\n",
      "          0,    0,    0,    0,    0,    0,    0,    0,    0,    0,    0,\n",
      "          0,    0,    0,    0,    0,    0,    0,    0,    0,    0,    0,\n",
      "          0,    0,    0,    0,    0,    0,    0,    0,    0,    0,    0,\n",
      "          0,    0,    0,    0,    0,    0,    0,    0,    0,    0,    0,\n",
      "          0,    0,    0,    0,    0,    0,    0,    0,    0,    0,    0,\n",
      "          0,    0,    0,    0,    0,    0,    0,    0,    0,    0,    0,\n",
      "          0,    0,    0,    0,    0,    0,    0,    0,    0,    0,    0,\n",
      "          0,    0,    0,    0,    0,    0,    0,    0,    0,    0,    0,\n",
      "          0,    0,    0,    0,    0,    0,    0,    0,    0,    0,    0,\n",
      "          0,    0,    0,    0,    0,    0,    0,    0,    0,    0,    0,\n",
      "          0,    0,    0,    0,    0,    0,    0,    0,    0,    0,    0,\n",
      "          0,    0,    0,    0,    0,    0,    0,    0,    0,    0,    0,\n",
      "          0,    0,    0,    0,    0])]\n"
     ]
    }
   ],
   "source": [
    "# TODO: Convert test_review into a form usable by the model and save the results in test_data\n",
    "test_data = review_to_words(test_review)\n",
    "test_data, _ = convert_and_pad(word_dict, test_data)\n",
    "test_data = [np.array(test_data)]\n",
    "print(test_data)\n",
    "\n"
   ]
  },
  {
   "cell_type": "markdown",
   "metadata": {},
   "source": [
    "Now that we have processed the review, we can send the resulting array to our model to predict the sentiment of the review."
   ]
  },
  {
   "cell_type": "code",
   "execution_count": 88,
   "metadata": {},
   "outputs": [
    {
     "data": {
      "text/plain": [
       "array(0.4775276, dtype=float32)"
      ]
     },
     "execution_count": 88,
     "metadata": {},
     "output_type": "execute_result"
    }
   ],
   "source": [
    "predictor.predict(test_data)"
   ]
  },
  {
   "cell_type": "markdown",
   "metadata": {},
   "source": [
    "Since the return value of our model is close to `1`, we can be certain that the review we submitted is positive."
   ]
  },
  {
   "cell_type": "markdown",
   "metadata": {},
   "source": [
    "### Delete the endpoint\n",
    "\n",
    "Of course, just like in the XGBoost notebook, once we've deployed an endpoint it continues to run until we tell it to shut down. Since we are done using our endpoint for now, we can delete it."
   ]
  },
  {
   "cell_type": "code",
   "execution_count": 89,
   "metadata": {},
   "outputs": [
    {
     "name": "stderr",
     "output_type": "stream",
     "text": [
      "estimator.delete_endpoint() will be deprecated in SageMaker Python SDK v2. Please use the delete_endpoint() function on your predictor instead.\n"
     ]
    }
   ],
   "source": [
    "estimator.delete_endpoint()"
   ]
  },
  {
   "cell_type": "markdown",
   "metadata": {},
   "source": [
    "## Step 6 (again) - Deploy the model for the web app\n",
    "\n",
    "Now that we know that our model is working, it's time to create some custom inference code so that we can send the model a review which has not been processed and have it determine the sentiment of the review.\n",
    "\n",
    "As we saw above, by default the estimator which we created, when deployed, will use the entry script and directory which we provided when creating the model. However, since we now wish to accept a string as input and our model expects a processed review, we need to write some custom inference code.\n",
    "\n",
    "We will store the code that we write in the `serve` directory. Provided in this directory is the `model.py` file that we used to construct our model, a `utils.py` file which contains the `review_to_words` and `convert_and_pad` pre-processing functions which we used during the initial data processing, and `predict.py`, the file which will contain our custom inference code. Note also that `requirements.txt` is present which will tell SageMaker what Python libraries are required by our custom inference code.\n",
    "\n",
    "When deploying a PyTorch model in SageMaker, you are expected to provide four functions which the SageMaker inference container will use.\n",
    " - `model_fn`: This function is the same function that we used in the training script and it tells SageMaker how to load our model.\n",
    " - `input_fn`: This function receives the raw serialized input that has been sent to the model's endpoint and its job is to de-serialize and make the input available for the inference code.\n",
    " - `output_fn`: This function takes the output of the inference code and its job is to serialize this output and return it to the caller of the model's endpoint.\n",
    " - `predict_fn`: The heart of the inference script, this is where the actual prediction is done and is the function which you will need to complete.\n",
    "\n",
    "For the simple website that we are constructing during this project, the `input_fn` and `output_fn` methods are relatively straightforward. We only require being able to accept a string as input and we expect to return a single value as output. You might imagine though that in a more complex application the input or output may be image data or some other binary data which would require some effort to serialize.\n",
    "\n",
    "### (TODO) Writing inference code\n",
    "\n",
    "Before writing our custom inference code, we will begin by taking a look at the code which has been provided."
   ]
  },
  {
   "cell_type": "code",
   "execution_count": 60,
   "metadata": {},
   "outputs": [
    {
     "name": "stdout",
     "output_type": "stream",
     "text": [
      "\u001b[34mimport\u001b[39;49;00m \u001b[04m\u001b[36margparse\u001b[39;49;00m\r\n",
      "\u001b[34mimport\u001b[39;49;00m \u001b[04m\u001b[36mjson\u001b[39;49;00m\r\n",
      "\u001b[34mimport\u001b[39;49;00m \u001b[04m\u001b[36mos\u001b[39;49;00m\r\n",
      "\u001b[34mimport\u001b[39;49;00m \u001b[04m\u001b[36mpickle\u001b[39;49;00m\r\n",
      "\u001b[34mimport\u001b[39;49;00m \u001b[04m\u001b[36msys\u001b[39;49;00m\r\n",
      "\u001b[34mimport\u001b[39;49;00m \u001b[04m\u001b[36msagemaker_containers\u001b[39;49;00m\r\n",
      "\u001b[34mimport\u001b[39;49;00m \u001b[04m\u001b[36mpandas\u001b[39;49;00m \u001b[34mas\u001b[39;49;00m \u001b[04m\u001b[36mpd\u001b[39;49;00m\r\n",
      "\u001b[34mimport\u001b[39;49;00m \u001b[04m\u001b[36mnumpy\u001b[39;49;00m \u001b[34mas\u001b[39;49;00m \u001b[04m\u001b[36mnp\u001b[39;49;00m\r\n",
      "\u001b[34mimport\u001b[39;49;00m \u001b[04m\u001b[36mtorch\u001b[39;49;00m\r\n",
      "\u001b[34mimport\u001b[39;49;00m \u001b[04m\u001b[36mtorch\u001b[39;49;00m\u001b[04m\u001b[36m.\u001b[39;49;00m\u001b[04m\u001b[36mnn\u001b[39;49;00m \u001b[34mas\u001b[39;49;00m \u001b[04m\u001b[36mnn\u001b[39;49;00m\r\n",
      "\u001b[34mimport\u001b[39;49;00m \u001b[04m\u001b[36mtorch\u001b[39;49;00m\u001b[04m\u001b[36m.\u001b[39;49;00m\u001b[04m\u001b[36moptim\u001b[39;49;00m \u001b[34mas\u001b[39;49;00m \u001b[04m\u001b[36moptim\u001b[39;49;00m\r\n",
      "\u001b[34mimport\u001b[39;49;00m \u001b[04m\u001b[36mtorch\u001b[39;49;00m\u001b[04m\u001b[36m.\u001b[39;49;00m\u001b[04m\u001b[36mutils\u001b[39;49;00m\u001b[04m\u001b[36m.\u001b[39;49;00m\u001b[04m\u001b[36mdata\u001b[39;49;00m\r\n",
      "\r\n",
      "\u001b[34mfrom\u001b[39;49;00m \u001b[04m\u001b[36mmodel\u001b[39;49;00m \u001b[34mimport\u001b[39;49;00m LSTMClassifier\r\n",
      "\r\n",
      "\u001b[34mfrom\u001b[39;49;00m \u001b[04m\u001b[36mutils\u001b[39;49;00m \u001b[34mimport\u001b[39;49;00m review_to_words, convert_and_pad\r\n",
      "\r\n",
      "\u001b[34mdef\u001b[39;49;00m \u001b[32mmodel_fn\u001b[39;49;00m(model_dir):\r\n",
      "    \u001b[33m\"\"\"Load the PyTorch model from the `model_dir` directory.\"\"\"\u001b[39;49;00m\r\n",
      "    \u001b[36mprint\u001b[39;49;00m(\u001b[33m\"\u001b[39;49;00m\u001b[33mLoading model.\u001b[39;49;00m\u001b[33m\"\u001b[39;49;00m)\r\n",
      "\r\n",
      "    \u001b[37m# First, load the parameters used to create the model.\u001b[39;49;00m\r\n",
      "    model_info = {}\r\n",
      "    model_info_path = os.path.join(model_dir, \u001b[33m'\u001b[39;49;00m\u001b[33mmodel_info.pth\u001b[39;49;00m\u001b[33m'\u001b[39;49;00m)\r\n",
      "    \u001b[34mwith\u001b[39;49;00m \u001b[36mopen\u001b[39;49;00m(model_info_path, \u001b[33m'\u001b[39;49;00m\u001b[33mrb\u001b[39;49;00m\u001b[33m'\u001b[39;49;00m) \u001b[34mas\u001b[39;49;00m f:\r\n",
      "        model_info = torch.load(f)\r\n",
      "\r\n",
      "    \u001b[36mprint\u001b[39;49;00m(\u001b[33m\"\u001b[39;49;00m\u001b[33mmodel_info: \u001b[39;49;00m\u001b[33m{}\u001b[39;49;00m\u001b[33m\"\u001b[39;49;00m.format(model_info))\r\n",
      "\r\n",
      "    \u001b[37m# Determine the device and construct the model.\u001b[39;49;00m\r\n",
      "    device = torch.device(\u001b[33m\"\u001b[39;49;00m\u001b[33mcuda\u001b[39;49;00m\u001b[33m\"\u001b[39;49;00m \u001b[34mif\u001b[39;49;00m torch.cuda.is_available() \u001b[34melse\u001b[39;49;00m \u001b[33m\"\u001b[39;49;00m\u001b[33mcpu\u001b[39;49;00m\u001b[33m\"\u001b[39;49;00m)\r\n",
      "    model = LSTMClassifier(model_info[\u001b[33m'\u001b[39;49;00m\u001b[33membedding_dim\u001b[39;49;00m\u001b[33m'\u001b[39;49;00m], model_info[\u001b[33m'\u001b[39;49;00m\u001b[33mhidden_dim\u001b[39;49;00m\u001b[33m'\u001b[39;49;00m], model_info[\u001b[33m'\u001b[39;49;00m\u001b[33mvocab_size\u001b[39;49;00m\u001b[33m'\u001b[39;49;00m])\r\n",
      "\r\n",
      "    \u001b[37m# Load the store model parameters.\u001b[39;49;00m\r\n",
      "    model_path = os.path.join(model_dir, \u001b[33m'\u001b[39;49;00m\u001b[33mmodel.pth\u001b[39;49;00m\u001b[33m'\u001b[39;49;00m)\r\n",
      "    \u001b[34mwith\u001b[39;49;00m \u001b[36mopen\u001b[39;49;00m(model_path, \u001b[33m'\u001b[39;49;00m\u001b[33mrb\u001b[39;49;00m\u001b[33m'\u001b[39;49;00m) \u001b[34mas\u001b[39;49;00m f:\r\n",
      "        model.load_state_dict(torch.load(f))\r\n",
      "\r\n",
      "    \u001b[37m# Load the saved word_dict.\u001b[39;49;00m\r\n",
      "    word_dict_path = os.path.join(model_dir, \u001b[33m'\u001b[39;49;00m\u001b[33mword_dict.pkl\u001b[39;49;00m\u001b[33m'\u001b[39;49;00m)\r\n",
      "    \u001b[34mwith\u001b[39;49;00m \u001b[36mopen\u001b[39;49;00m(word_dict_path, \u001b[33m'\u001b[39;49;00m\u001b[33mrb\u001b[39;49;00m\u001b[33m'\u001b[39;49;00m) \u001b[34mas\u001b[39;49;00m f:\r\n",
      "        model.word_dict = pickle.load(f)\r\n",
      "\r\n",
      "    model.to(device).eval()\r\n",
      "\r\n",
      "    \u001b[36mprint\u001b[39;49;00m(\u001b[33m\"\u001b[39;49;00m\u001b[33mDone loading model.\u001b[39;49;00m\u001b[33m\"\u001b[39;49;00m)\r\n",
      "    \u001b[34mreturn\u001b[39;49;00m model\r\n",
      "\r\n",
      "\u001b[34mdef\u001b[39;49;00m \u001b[32minput_fn\u001b[39;49;00m(serialized_input_data, content_type):\r\n",
      "    \u001b[36mprint\u001b[39;49;00m(\u001b[33m'\u001b[39;49;00m\u001b[33mDeserializing the input data.\u001b[39;49;00m\u001b[33m'\u001b[39;49;00m)\r\n",
      "    \u001b[34mif\u001b[39;49;00m content_type == \u001b[33m'\u001b[39;49;00m\u001b[33mtext/plain\u001b[39;49;00m\u001b[33m'\u001b[39;49;00m:\r\n",
      "        data = serialized_input_data.decode(\u001b[33m'\u001b[39;49;00m\u001b[33mutf-8\u001b[39;49;00m\u001b[33m'\u001b[39;49;00m)\r\n",
      "        \u001b[34mreturn\u001b[39;49;00m data\r\n",
      "    \u001b[34mraise\u001b[39;49;00m \u001b[36mException\u001b[39;49;00m(\u001b[33m'\u001b[39;49;00m\u001b[33mRequested unsupported ContentType in content_type: \u001b[39;49;00m\u001b[33m'\u001b[39;49;00m + content_type)\r\n",
      "\r\n",
      "\u001b[34mdef\u001b[39;49;00m \u001b[32moutput_fn\u001b[39;49;00m(prediction_output, accept):\r\n",
      "    \u001b[36mprint\u001b[39;49;00m(\u001b[33m'\u001b[39;49;00m\u001b[33mSerializing the generated output.\u001b[39;49;00m\u001b[33m'\u001b[39;49;00m)\r\n",
      "    \u001b[34mreturn\u001b[39;49;00m \u001b[36mstr\u001b[39;49;00m(prediction_output)\r\n",
      "\r\n",
      "\u001b[34mdef\u001b[39;49;00m \u001b[32mpredict_fn\u001b[39;49;00m(input_data, model):\r\n",
      "    \u001b[36mprint\u001b[39;49;00m(\u001b[33m'\u001b[39;49;00m\u001b[33mInferring sentiment of input data.\u001b[39;49;00m\u001b[33m'\u001b[39;49;00m)\r\n",
      "\r\n",
      "    device = torch.device(\u001b[33m\"\u001b[39;49;00m\u001b[33mcuda\u001b[39;49;00m\u001b[33m\"\u001b[39;49;00m \u001b[34mif\u001b[39;49;00m torch.cuda.is_available() \u001b[34melse\u001b[39;49;00m \u001b[33m\"\u001b[39;49;00m\u001b[33mcpu\u001b[39;49;00m\u001b[33m\"\u001b[39;49;00m)\r\n",
      "    \r\n",
      "    \u001b[34mif\u001b[39;49;00m model.word_dict \u001b[35mis\u001b[39;49;00m \u001b[34mNone\u001b[39;49;00m:\r\n",
      "        \u001b[34mraise\u001b[39;49;00m \u001b[36mException\u001b[39;49;00m(\u001b[33m'\u001b[39;49;00m\u001b[33mModel has not been loaded properly, no word_dict.\u001b[39;49;00m\u001b[33m'\u001b[39;49;00m)\r\n",
      "    \r\n",
      "    \u001b[37m# TODO: Process input_data so that it is ready to be sent to our model.\u001b[39;49;00m\r\n",
      "    \u001b[37m#       You should produce two variables:\u001b[39;49;00m\r\n",
      "    \u001b[37m#         data_X   - A sequence of length 500 which represents the converted review\u001b[39;49;00m\r\n",
      "    \u001b[37m#         data_len - The length of the review\u001b[39;49;00m\r\n",
      "\r\n",
      "    data_X = \u001b[34mNone\u001b[39;49;00m\r\n",
      "    data_len = \u001b[34mNone\u001b[39;49;00m\r\n",
      "\r\n",
      "    \u001b[37m# Using data_X and data_len we construct an appropriate input tensor. Remember\u001b[39;49;00m\r\n",
      "    \u001b[37m# that our model expects input data of the form 'len, review[500]'.\u001b[39;49;00m\r\n",
      "    data_pack = np.hstack((data_len, data_X))\r\n",
      "    data_pack = data_pack.reshape(\u001b[34m1\u001b[39;49;00m, -\u001b[34m1\u001b[39;49;00m)\r\n",
      "    \r\n",
      "    data = torch.from_numpy(data_pack)\r\n",
      "    data = data.to(device)\r\n",
      "\r\n",
      "    \u001b[37m# Make sure to put the model into evaluation mode\u001b[39;49;00m\r\n",
      "    model.eval()\r\n",
      "\r\n",
      "    \u001b[37m# TODO: Compute the result of applying the model to the input data. The variable `result` should\u001b[39;49;00m\r\n",
      "    \u001b[37m#       be a numpy array which contains a single integer which is either 1 or 0\u001b[39;49;00m\r\n",
      "\r\n",
      "    result = \u001b[34mNone\u001b[39;49;00m\r\n",
      "\r\n",
      "    \u001b[34mreturn\u001b[39;49;00m result\r\n"
     ]
    }
   ],
   "source": [
    "!pygmentize serve/predict.py"
   ]
  },
  {
   "cell_type": "markdown",
   "metadata": {},
   "source": [
    "As mentioned earlier, the `model_fn` method is the same as the one provided in the training code and the `input_fn` and `output_fn` methods are very simple and your task will be to complete the `predict_fn` method. Make sure that you save the completed file as `predict.py` in the `serve` directory.\n",
    "\n",
    "**TODO**: Complete the `predict_fn()` method in the `serve/predict.py` file."
   ]
  },
  {
   "cell_type": "markdown",
   "metadata": {},
   "source": [
    "### Deploying the model\n",
    "\n",
    "Now that the custom inference code has been written, we will create and deploy our model. To begin with, we need to construct a new PyTorchModel object which points to the model artifacts created during training and also points to the inference code that we wish to use. Then we can call the deploy method to launch the deployment container.\n",
    "\n",
    "**NOTE**: The default behaviour for a deployed PyTorch model is to assume that any input passed to the predictor is a `numpy` array. In our case we want to send a string so we need to construct a simple wrapper around the `RealTimePredictor` class to accomodate simple strings. In a more complicated situation you may want to provide a serialization object, for example if you wanted to sent image data."
   ]
  },
  {
   "cell_type": "code",
   "execution_count": 97,
   "metadata": {},
   "outputs": [
    {
     "name": "stderr",
     "output_type": "stream",
     "text": [
      "Parameter image will be renamed to image_uri in SageMaker Python SDK v2.\n",
      "'create_image_uri' will be deprecated in favor of 'ImageURIProvider' class in SageMaker Python SDK v2.\n"
     ]
    },
    {
     "name": "stdout",
     "output_type": "stream",
     "text": [
      "-------------!"
     ]
    }
   ],
   "source": [
    "from sagemaker.predictor import RealTimePredictor\n",
    "from sagemaker.pytorch import PyTorchModel\n",
    "\n",
    "class StringPredictor(RealTimePredictor):\n",
    "    def __init__(self, endpoint_name, sagemaker_session):\n",
    "        super(StringPredictor, self).__init__(endpoint_name, sagemaker_session, content_type='text/plain')\n",
    "\n",
    "model = PyTorchModel(model_data=estimator.model_data,\n",
    "                     role = role,\n",
    "                     framework_version='0.4.0',\n",
    "                     entry_point='predict.py',\n",
    "                     source_dir='serve',\n",
    "                     predictor_cls=StringPredictor)\n",
    "predictor = model.deploy(initial_instance_count=1, instance_type='ml.m4.xlarge')"
   ]
  },
  {
   "cell_type": "markdown",
   "metadata": {},
   "source": [
    "### Testing the model\n",
    "\n",
    "Now that we have deployed our model with the custom inference code, we should test to see if everything is working. Here we test our model by loading the first `250` positive and negative reviews and send them to the endpoint, then collect the results. The reason for only sending some of the data is that the amount of time it takes for our model to process the input and then perform inference is quite long and so testing the entire data set would be prohibitive."
   ]
  },
  {
   "cell_type": "code",
   "execution_count": 98,
   "metadata": {},
   "outputs": [],
   "source": [
    "import glob\n",
    "\n",
    "def test_reviews(data_dir='../data/aclImdb', stop=250):\n",
    "    \n",
    "    results = []\n",
    "    ground = []\n",
    "    \n",
    "    # We make sure to test both positive and negative reviews    \n",
    "    for sentiment in ['pos', 'neg']:\n",
    "        \n",
    "        path = os.path.join(data_dir, 'test', sentiment, '*.txt')\n",
    "        files = glob.glob(path)\n",
    "        \n",
    "        files_read = 0\n",
    "        \n",
    "        print('Starting ', sentiment, ' files')\n",
    "        \n",
    "        # Iterate through the files and send them to the predictor\n",
    "        for f in files:\n",
    "            with open(f) as review:\n",
    "                # First, we store the ground truth (was the review positive or negative)\n",
    "                if sentiment == 'pos':\n",
    "                    ground.append(1)\n",
    "                else:\n",
    "                    ground.append(0)\n",
    "                # Read in the review and convert to 'utf-8' for transmission via HTTP\n",
    "                review_input = review.read().encode('utf-8')\n",
    "                # Send the review to the predictor and store the results\n",
    "                results.append(float(predictor.predict(review_input)))\n",
    "                \n",
    "            # Sending reviews to our endpoint one at a time takes a while so we\n",
    "            # only send a small number of reviews\n",
    "            files_read += 1\n",
    "            if files_read == stop:\n",
    "                break\n",
    "            \n",
    "    return ground, results"
   ]
  },
  {
   "cell_type": "code",
   "execution_count": 99,
   "metadata": {},
   "outputs": [
    {
     "name": "stdout",
     "output_type": "stream",
     "text": [
      "Starting  pos  files\n",
      "Starting  neg  files\n"
     ]
    }
   ],
   "source": [
    "ground, results = test_reviews()"
   ]
  },
  {
   "cell_type": "code",
   "execution_count": 100,
   "metadata": {},
   "outputs": [
    {
     "data": {
      "text/plain": [
       "0.838"
      ]
     },
     "execution_count": 100,
     "metadata": {},
     "output_type": "execute_result"
    }
   ],
   "source": [
    "from sklearn.metrics import accuracy_score\n",
    "accuracy_score(ground, results)"
   ]
  },
  {
   "cell_type": "markdown",
   "metadata": {},
   "source": [
    "As an additional test, we can try sending the `test_review` that we looked at earlier."
   ]
  },
  {
   "cell_type": "code",
   "execution_count": 101,
   "metadata": {},
   "outputs": [
    {
     "data": {
      "text/plain": [
       "b'1.0'"
      ]
     },
     "execution_count": 101,
     "metadata": {},
     "output_type": "execute_result"
    }
   ],
   "source": [
    "predictor.predict(test_review)"
   ]
  },
  {
   "cell_type": "markdown",
   "metadata": {},
   "source": [
    "Now that we know our endpoint is working as expected, we can set up the web page that will interact with it. If you don't have time to finish the project now, make sure to skip down to the end of this notebook and shut down your endpoint. You can deploy it again when you come back."
   ]
  },
  {
   "cell_type": "markdown",
   "metadata": {},
   "source": [
    "## Step 7 (again): Use the model for the web app\n",
    "\n",
    "> **TODO:** This entire section and the next contain tasks for you to complete, mostly using the AWS console.\n",
    "\n",
    "So far we have been accessing our model endpoint by constructing a predictor object which uses the endpoint and then just using the predictor object to perform inference. What if we wanted to create a web app which accessed our model? The way things are set up currently makes that not possible since in order to access a SageMaker endpoint the app would first have to authenticate with AWS using an IAM role which included access to SageMaker endpoints. However, there is an easier way! We just need to use some additional AWS services.\n",
    "\n",
    "<img src=\"Web App Diagram.svg\">\n",
    "\n",
    "The diagram above gives an overview of how the various services will work together. On the far right is the model which we trained above and which is deployed using SageMaker. On the far left is our web app that collects a user's movie review, sends it off and expects a positive or negative sentiment in return.\n",
    "\n",
    "In the middle is where some of the magic happens. We will construct a Lambda function, which you can think of as a straightforward Python function that can be executed whenever a specified event occurs. We will give this function permission to send and recieve data from a SageMaker endpoint.\n",
    "\n",
    "Lastly, the method we will use to execute the Lambda function is a new endpoint that we will create using API Gateway. This endpoint will be a url that listens for data to be sent to it. Once it gets some data it will pass that data on to the Lambda function and then return whatever the Lambda function returns. Essentially it will act as an interface that lets our web app communicate with the Lambda function.\n",
    "\n",
    "### Setting up a Lambda function\n",
    "\n",
    "The first thing we are going to do is set up a Lambda function. This Lambda function will be executed whenever our public API has data sent to it. When it is executed it will receive the data, perform any sort of processing that is required, send the data (the review) to the SageMaker endpoint we've created and then return the result.\n",
    "\n",
    "#### Part A: Create an IAM Role for the Lambda function\n",
    "\n",
    "Since we want the Lambda function to call a SageMaker endpoint, we need to make sure that it has permission to do so. To do this, we will construct a role that we can later give the Lambda function.\n",
    "\n",
    "Using the AWS Console, navigate to the **IAM** page and click on **Roles**. Then, click on **Create role**. Make sure that the **AWS service** is the type of trusted entity selected and choose **Lambda** as the service that will use this role, then click **Next: Permissions**.\n",
    "\n",
    "In the search box type `sagemaker` and select the check box next to the **AmazonSageMakerFullAccess** policy. Then, click on **Next: Review**.\n",
    "\n",
    "Lastly, give this role a name. Make sure you use a name that you will remember later on, for example `LambdaSageMakerRole`. Then, click on **Create role**.\n",
    "\n",
    "#### Part B: Create a Lambda function\n",
    "\n",
    "Now it is time to actually create the Lambda function.\n",
    "\n",
    "Using the AWS Console, navigate to the AWS Lambda page and click on **Create a function**. When you get to the next page, make sure that **Author from scratch** is selected. Now, name your Lambda function, using a name that you will remember later on, for example `sentiment_analysis_func`. Make sure that the **Python 3.6** runtime is selected and then choose the role that you created in the previous part. Then, click on **Create Function**.\n",
    "\n",
    "On the next page you will see some information about the Lambda function you've just created. If you scroll down you should see an editor in which you can write the code that will be executed when your Lambda function is triggered. In our example, we will use the code below. \n",
    "\n",
    "```python\n",
    "# We need to use the low-level library to interact with SageMaker since the SageMaker API\n",
    "# is not available natively through Lambda.\n",
    "import boto3\n",
    "\n",
    "def lambda_handler(event, context):\n",
    "\n",
    "    # The SageMaker runtime is what allows us to invoke the endpoint that we've created.\n",
    "    runtime = boto3.Session().client('sagemaker-runtime')\n",
    "\n",
    "    # Now we use the SageMaker runtime to invoke our endpoint, sending the review we were given\n",
    "    response = runtime.invoke_endpoint(EndpointName = '**ENDPOINT NAME HERE**',    # The name of the endpoint we created\n",
    "                                       ContentType = 'text/plain',                 # The data format that is expected\n",
    "                                       Body = event['body'])                       # The actual review\n",
    "\n",
    "    # The response is an HTTP response whose body contains the result of our inference\n",
    "    result = response['Body'].read().decode('utf-8')\n",
    "\n",
    "    return {\n",
    "        'statusCode' : 200,\n",
    "        'headers' : { 'Content-Type' : 'text/plain', 'Access-Control-Allow-Origin' : '*' },\n",
    "        'body' : result\n",
    "    }\n",
    "```\n",
    "\n",
    "Once you have copy and pasted the code above into the Lambda code editor, replace the `**ENDPOINT NAME HERE**` portion with the name of the endpoint that we deployed earlier. You can determine the name of the endpoint using the code cell below."
   ]
  },
  {
   "cell_type": "code",
   "execution_count": 102,
   "metadata": {},
   "outputs": [
    {
     "data": {
      "text/plain": [
       "'sagemaker-pytorch-2021-06-22-20-57-07-556'"
      ]
     },
     "execution_count": 102,
     "metadata": {},
     "output_type": "execute_result"
    }
   ],
   "source": [
    "predictor.endpoint"
   ]
  },
  {
   "cell_type": "markdown",
   "metadata": {},
   "source": [
    "Once you have added the endpoint name to the Lambda function, click on **Save**. Your Lambda function is now up and running. Next we need to create a way for our web app to execute the Lambda function.\n",
    "\n",
    "### Setting up API Gateway\n",
    "\n",
    "Now that our Lambda function is set up, it is time to create a new API using API Gateway that will trigger the Lambda function we have just created.\n",
    "\n",
    "Using AWS Console, navigate to **Amazon API Gateway** and then click on **Get started**.\n",
    "\n",
    "On the next page, make sure that **New API** is selected and give the new api a name, for example, `sentiment_analysis_api`. Then, click on **Create API**.\n",
    "\n",
    "Now we have created an API, however it doesn't currently do anything. What we want it to do is to trigger the Lambda function that we created earlier.\n",
    "\n",
    "Select the **Actions** dropdown menu and click **Create Method**. A new blank method will be created, select its dropdown menu and select **POST**, then click on the check mark beside it.\n",
    "\n",
    "For the integration point, make sure that **Lambda Function** is selected and click on the **Use Lambda Proxy integration**. This option makes sure that the data that is sent to the API is then sent directly to the Lambda function with no processing. It also means that the return value must be a proper response object as it will also not be processed by API Gateway.\n",
    "\n",
    "Type the name of the Lambda function you created earlier into the **Lambda Function** text entry box and then click on **Save**. Click on **OK** in the pop-up box that then appears, giving permission to API Gateway to invoke the Lambda function you created.\n",
    "\n",
    "The last step in creating the API Gateway is to select the **Actions** dropdown and click on **Deploy API**. You will need to create a new Deployment stage and name it anything you like, for example `prod`.\n",
    "\n",
    "You have now successfully set up a public API to access your SageMaker model. Make sure to copy or write down the URL provided to invoke your newly created public API as this will be needed in the next step. This URL can be found at the top of the page, highlighted in blue next to the text **Invoke URL**."
   ]
  },
  {
   "cell_type": "markdown",
   "metadata": {},
   "source": [
    "## Step 4: Deploying our web app\n",
    "\n",
    "Now that we have a publicly available API, we can start using it in a web app. For our purposes, we have provided a simple static html file which can make use of the public api you created earlier.\n",
    "\n",
    "In the `website` folder there should be a file called `index.html`. Download the file to your computer and open that file up in a text editor of your choice. There should be a line which contains **\\*\\*REPLACE WITH PUBLIC API URL\\*\\***. Replace this string with the url that you wrote down in the last step and then save the file.\n",
    "\n",
    "Now, if you open `index.html` on your local computer, your browser will behave as a local web server and you can use the provided site to interact with your SageMaker model.\n",
    "\n",
    "If you'd like to go further, you can host this html file anywhere you'd like, for example using github or hosting a static site on Amazon's S3. Once you have done this you can share the link with anyone you'd like and have them play with it too!\n",
    "\n",
    "> **Important Note** In order for the web app to communicate with the SageMaker endpoint, the endpoint has to actually be deployed and running. This means that you are paying for it. Make sure that the endpoint is running when you want to use the web app but that you shut it down when you don't need it, otherwise you will end up with a surprisingly large AWS bill.\n",
    "\n",
    "**TODO:** Make sure that you include the edited `index.html` file in your project submission."
   ]
  },
  {
   "cell_type": "markdown",
   "metadata": {},
   "source": [
    "Now that your web app is working, trying playing around with it and see how well it works.\n",
    "\n",
    "**Question**: Give an example of a review that you entered into your web app. What was the predicted sentiment of your example review?"
   ]
  },
  {
   "cell_type": "markdown",
   "metadata": {},
   "source": [
    "**Answer:**\n",
    "\n",
    "Review: \"This movie was great, I loved it\"\n",
    "\n",
    "Prediction: \"Your review was POSITIVE!\"\n",
    "\n",
    "Review: \"I don't recommend this movie, it was terrible!\"\n",
    "\n",
    "Prediction: \"Your review was NEGATIVE!\"\n",
    "\n",
    "Review: \"There was virtually no plot in this film, and the character development was slim to none. I expected a lot more.\"\n",
    "\n",
    "Prediction: \"Your review was NEGATIVE!\""
   ]
  },
  {
   "cell_type": "markdown",
   "metadata": {},
   "source": [
    "### Delete the endpoint\n",
    "\n",
    "Remember to always shut down your endpoint if you are no longer using it. You are charged for the length of time that the endpoint is running so if you forget and leave it on you could end up with an unexpectedly large bill."
   ]
  },
  {
   "cell_type": "code",
   "execution_count": 103,
   "metadata": {},
   "outputs": [],
   "source": [
    "predictor.delete_endpoint()"
   ]
  },
  {
   "cell_type": "code",
   "execution_count": null,
   "metadata": {},
   "outputs": [],
   "source": []
  }
 ],
 "metadata": {
  "kernelspec": {
   "display_name": "conda_pytorch_p36",
   "language": "python",
   "name": "conda_pytorch_p36"
  },
  "language_info": {
   "codemirror_mode": {
    "name": "ipython",
    "version": 3
   },
   "file_extension": ".py",
   "mimetype": "text/x-python",
   "name": "python",
   "nbconvert_exporter": "python",
   "pygments_lexer": "ipython3",
   "version": "3.6.13"
  }
 },
 "nbformat": 4,
 "nbformat_minor": 2
}
